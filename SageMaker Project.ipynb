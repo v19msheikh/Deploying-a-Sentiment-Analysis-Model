{
 "cells": [
  {
   "cell_type": "markdown",
   "metadata": {},
   "source": [
    "# Creating a Sentiment Analysis Web App\n",
    "## Using PyTorch and SageMaker\n",
    "\n",
    "_Deep Learning Nanodegree Program | Deployment_\n",
    "\n",
    "---\n",
    "\n",
    "Now that we have a basic understanding of how SageMaker works we will try to use it to construct a complete project from end to end. Our goal will be to have a simple web page which a user can use to enter a movie review. The web page will then send the review off to our deployed model which will predict the sentiment of the entered review.\n",
    "\n",
    "## Instructions\n",
    "\n",
    "Some template code has already been provided for you, and you will need to implement additional functionality to successfully complete this notebook. You will not need to modify the included code beyond what is requested. Sections that begin with '**TODO**' in the header indicate that you need to complete or implement some portion within them. Instructions will be provided for each section and the specifics of the implementation are marked in the code block with a `# TODO: ...` comment. Please be sure to read the instructions carefully!\n",
    "\n",
    "In addition to implementing code, there will be questions for you to answer which relate to the task and your implementation. Each section where you will answer a question is preceded by a '**Question:**' header. Carefully read each question and provide your answer below the '**Answer:**' header by editing the Markdown cell.\n",
    "\n",
    "> **Note**: Code and Markdown cells can be executed using the **Shift+Enter** keyboard shortcut. In addition, a cell can be edited by typically clicking it (double-click for Markdown cells) or by pressing **Enter** while it is highlighted.\n",
    "\n",
    "## General Outline\n",
    "\n",
    "Recall the general outline for SageMaker projects using a notebook instance.\n",
    "\n",
    "1. Download or otherwise retrieve the data.\n",
    "2. Process / Prepare the data.\n",
    "3. Upload the processed data to S3.\n",
    "4. Train a chosen model.\n",
    "5. Test the trained model (typically using a batch transform job).\n",
    "6. Deploy the trained model.\n",
    "7. Use the deployed model.\n",
    "\n",
    "For this project, you will be following the steps in the general outline with some modifications. \n",
    "\n",
    "First, you will not be testing the model in its own step. You will still be testing the model, however, you will do it by deploying your model and then using the deployed model by sending the test data to it. One of the reasons for doing this is so that you can make sure that your deployed model is working correctly before moving forward.\n",
    "\n",
    "In addition, you will deploy and use your trained model a second time. In the second iteration you will customize the way that your trained model is deployed by including some of your own code. In addition, your newly deployed model will be used in the sentiment analysis web app."
   ]
  },
  {
   "cell_type": "code",
   "execution_count": 1,
   "metadata": {},
   "outputs": [
    {
     "name": "stdout",
     "output_type": "stream",
     "text": [
      "Collecting sagemaker==1.72.0\n",
      "  Downloading sagemaker-1.72.0.tar.gz (297 kB)\n",
      "     |████████████████████████████████| 297 kB 4.4 MB/s            \n",
      "\u001b[?25h  Preparing metadata (setup.py) ... \u001b[?25ldone\n",
      "\u001b[?25hRequirement already satisfied: boto3>=1.14.12 in /home/ec2-user/anaconda3/envs/pytorch_p36/lib/python3.6/site-packages (from sagemaker==1.72.0) (1.20.21)\n",
      "Requirement already satisfied: numpy>=1.9.0 in /home/ec2-user/anaconda3/envs/pytorch_p36/lib/python3.6/site-packages (from sagemaker==1.72.0) (1.19.5)\n",
      "Requirement already satisfied: protobuf>=3.1 in /home/ec2-user/anaconda3/envs/pytorch_p36/lib/python3.6/site-packages (from sagemaker==1.72.0) (3.17.2)\n",
      "Requirement already satisfied: scipy>=0.19.0 in /home/ec2-user/anaconda3/envs/pytorch_p36/lib/python3.6/site-packages (from sagemaker==1.72.0) (1.5.3)\n",
      "Requirement already satisfied: protobuf3-to-dict>=0.1.5 in /home/ec2-user/anaconda3/envs/pytorch_p36/lib/python3.6/site-packages (from sagemaker==1.72.0) (0.1.5)\n",
      "Collecting smdebug-rulesconfig==0.1.4\n",
      "  Downloading smdebug_rulesconfig-0.1.4-py2.py3-none-any.whl (10 kB)\n",
      "Requirement already satisfied: importlib-metadata>=1.4.0 in /home/ec2-user/anaconda3/envs/pytorch_p36/lib/python3.6/site-packages (from sagemaker==1.72.0) (4.5.0)\n",
      "Requirement already satisfied: packaging>=20.0 in /home/ec2-user/anaconda3/envs/pytorch_p36/lib/python3.6/site-packages (from sagemaker==1.72.0) (21.2)\n",
      "Requirement already satisfied: jmespath<1.0.0,>=0.7.1 in /home/ec2-user/anaconda3/envs/pytorch_p36/lib/python3.6/site-packages (from boto3>=1.14.12->sagemaker==1.72.0) (0.10.0)\n",
      "Requirement already satisfied: s3transfer<0.6.0,>=0.5.0 in /home/ec2-user/anaconda3/envs/pytorch_p36/lib/python3.6/site-packages (from boto3>=1.14.12->sagemaker==1.72.0) (0.5.0)\n",
      "Requirement already satisfied: botocore<1.24.0,>=1.23.21 in /home/ec2-user/anaconda3/envs/pytorch_p36/lib/python3.6/site-packages (from boto3>=1.14.12->sagemaker==1.72.0) (1.23.21)\n",
      "Requirement already satisfied: typing-extensions>=3.6.4 in /home/ec2-user/anaconda3/envs/pytorch_p36/lib/python3.6/site-packages (from importlib-metadata>=1.4.0->sagemaker==1.72.0) (3.10.0.0)\n",
      "Requirement already satisfied: zipp>=0.5 in /home/ec2-user/anaconda3/envs/pytorch_p36/lib/python3.6/site-packages (from importlib-metadata>=1.4.0->sagemaker==1.72.0) (3.4.1)\n",
      "Requirement already satisfied: pyparsing<3,>=2.0.2 in /home/ec2-user/anaconda3/envs/pytorch_p36/lib/python3.6/site-packages (from packaging>=20.0->sagemaker==1.72.0) (2.4.7)\n",
      "Requirement already satisfied: six>=1.9 in /home/ec2-user/anaconda3/envs/pytorch_p36/lib/python3.6/site-packages (from protobuf>=3.1->sagemaker==1.72.0) (1.16.0)\n",
      "Requirement already satisfied: urllib3<1.27,>=1.25.4 in /home/ec2-user/anaconda3/envs/pytorch_p36/lib/python3.6/site-packages (from botocore<1.24.0,>=1.23.21->boto3>=1.14.12->sagemaker==1.72.0) (1.26.5)\n",
      "Requirement already satisfied: python-dateutil<3.0.0,>=2.1 in /home/ec2-user/anaconda3/envs/pytorch_p36/lib/python3.6/site-packages (from botocore<1.24.0,>=1.23.21->boto3>=1.14.12->sagemaker==1.72.0) (2.8.1)\n",
      "Building wheels for collected packages: sagemaker\n",
      "  Building wheel for sagemaker (setup.py) ... \u001b[?25ldone\n",
      "\u001b[?25h  Created wheel for sagemaker: filename=sagemaker-1.72.0-py2.py3-none-any.whl size=388327 sha256=8d5288d2dda673c77150c67891bcddab963ea88a3883d2e0eda5564b96499070\n",
      "  Stored in directory: /home/ec2-user/.cache/pip/wheels/c3/58/70/85faf4437568bfaa4c419937569ba1fe54d44c5db42406bbd7\n",
      "Successfully built sagemaker\n",
      "Installing collected packages: smdebug-rulesconfig, sagemaker\n",
      "  Attempting uninstall: smdebug-rulesconfig\n",
      "    Found existing installation: smdebug-rulesconfig 1.0.1\n",
      "    Uninstalling smdebug-rulesconfig-1.0.1:\n",
      "      Successfully uninstalled smdebug-rulesconfig-1.0.1\n",
      "  Attempting uninstall: sagemaker\n",
      "    Found existing installation: sagemaker 2.70.0\n",
      "    Uninstalling sagemaker-2.70.0:\n",
      "      Successfully uninstalled sagemaker-2.70.0\n",
      "Successfully installed sagemaker-1.72.0 smdebug-rulesconfig-0.1.4\n"
     ]
    }
   ],
   "source": [
    "# Make sure that we use SageMaker 1.x\n",
    "!pip install sagemaker==1.72.0"
   ]
  },
  {
   "cell_type": "markdown",
   "metadata": {},
   "source": [
    "## Step 1: Downloading the data\n",
    "\n",
    "As in the XGBoost in SageMaker notebook, we will be using the [IMDb dataset](http://ai.stanford.edu/~amaas/data/sentiment/)\n",
    "\n",
    "> Maas, Andrew L., et al. [Learning Word Vectors for Sentiment Analysis](http://ai.stanford.edu/~amaas/data/sentiment/). In _Proceedings of the 49th Annual Meeting of the Association for Computational Linguistics: Human Language Technologies_. Association for Computational Linguistics, 2011."
   ]
  },
  {
   "cell_type": "code",
   "execution_count": 2,
   "metadata": {},
   "outputs": [
    {
     "name": "stdout",
     "output_type": "stream",
     "text": [
      "mkdir: cannot create directory ‘../data’: File exists\n",
      "--2021-12-10 23:04:55--  http://ai.stanford.edu/~amaas/data/sentiment/aclImdb_v1.tar.gz\n",
      "Resolving ai.stanford.edu (ai.stanford.edu)... 171.64.68.10\n",
      "Connecting to ai.stanford.edu (ai.stanford.edu)|171.64.68.10|:80... connected.\n",
      "HTTP request sent, awaiting response... 200 OK\n",
      "Length: 84125825 (80M) [application/x-gzip]\n",
      "Saving to: ‘../data/aclImdb_v1.tar.gz’\n",
      "\n",
      "../data/aclImdb_v1. 100%[===================>]  80.23M  31.0MB/s    in 2.6s    \n",
      "\n",
      "2021-12-10 23:04:58 (31.0 MB/s) - ‘../data/aclImdb_v1.tar.gz’ saved [84125825/84125825]\n",
      "\n"
     ]
    }
   ],
   "source": [
    "%mkdir ../data\n",
    "!wget -O ../data/aclImdb_v1.tar.gz http://ai.stanford.edu/~amaas/data/sentiment/aclImdb_v1.tar.gz\n",
    "!tar -zxf ../data/aclImdb_v1.tar.gz -C ../data"
   ]
  },
  {
   "cell_type": "markdown",
   "metadata": {},
   "source": [
    "## Step 2: Preparing and Processing the data\n",
    "\n",
    "Also, as in the XGBoost notebook, we will be doing some initial data processing. The first few steps are the same as in the XGBoost example. To begin with, we will read in each of the reviews and combine them into a single input structure. Then, we will split the dataset into a training set and a testing set."
   ]
  },
  {
   "cell_type": "code",
   "execution_count": 3,
   "metadata": {},
   "outputs": [],
   "source": [
    "import os\n",
    "import glob\n",
    "\n",
    "def read_imdb_data(data_dir='../data/aclImdb'):\n",
    "    data = {}\n",
    "    labels = {}\n",
    "    \n",
    "    for data_type in ['train', 'test']:\n",
    "        data[data_type] = {}\n",
    "        labels[data_type] = {}\n",
    "        \n",
    "        for sentiment in ['pos', 'neg']:\n",
    "            data[data_type][sentiment] = []\n",
    "            labels[data_type][sentiment] = []\n",
    "            \n",
    "            path = os.path.join(data_dir, data_type, sentiment, '*.txt')\n",
    "            files = glob.glob(path)\n",
    "            \n",
    "            for f in files:\n",
    "                with open(f) as review:\n",
    "                    data[data_type][sentiment].append(review.read())\n",
    "                    # Here we represent a positive review by '1' and a negative review by '0'\n",
    "                    labels[data_type][sentiment].append(1 if sentiment == 'pos' else 0)\n",
    "                    \n",
    "            assert len(data[data_type][sentiment]) == len(labels[data_type][sentiment]), \\\n",
    "                    \"{}/{} data size does not match labels size\".format(data_type, sentiment)\n",
    "                \n",
    "    return data, labels"
   ]
  },
  {
   "cell_type": "code",
   "execution_count": 4,
   "metadata": {},
   "outputs": [
    {
     "name": "stdout",
     "output_type": "stream",
     "text": [
      "IMDB reviews: train = 12500 pos / 12500 neg, test = 12500 pos / 12500 neg\n"
     ]
    }
   ],
   "source": [
    "data, labels = read_imdb_data()\n",
    "print(\"IMDB reviews: train = {} pos / {} neg, test = {} pos / {} neg\".format(\n",
    "            len(data['train']['pos']), len(data['train']['neg']),\n",
    "            len(data['test']['pos']), len(data['test']['neg'])))"
   ]
  },
  {
   "cell_type": "markdown",
   "metadata": {},
   "source": [
    "Now that we've read the raw training and testing data from the downloaded dataset, we will combine the positive and negative reviews and shuffle the resulting records."
   ]
  },
  {
   "cell_type": "code",
   "execution_count": 5,
   "metadata": {},
   "outputs": [],
   "source": [
    "from sklearn.utils import shuffle\n",
    "\n",
    "def prepare_imdb_data(data, labels):\n",
    "    \"\"\"Prepare training and test sets from IMDb movie reviews.\"\"\"\n",
    "    \n",
    "    #Combine positive and negative reviews and labels\n",
    "    data_train = data['train']['pos'] + data['train']['neg']\n",
    "    data_test = data['test']['pos'] + data['test']['neg']\n",
    "    labels_train = labels['train']['pos'] + labels['train']['neg']\n",
    "    labels_test = labels['test']['pos'] + labels['test']['neg']\n",
    "    \n",
    "    #Shuffle reviews and corresponding labels within training and test sets\n",
    "    data_train, labels_train = shuffle(data_train, labels_train)\n",
    "    data_test, labels_test = shuffle(data_test, labels_test)\n",
    "    \n",
    "    # Return a unified training data, test data, training labels, test labets\n",
    "    return data_train, data_test, labels_train, labels_test"
   ]
  },
  {
   "cell_type": "code",
   "execution_count": 6,
   "metadata": {},
   "outputs": [
    {
     "name": "stdout",
     "output_type": "stream",
     "text": [
      "IMDb reviews (combined): train = 25000, test = 25000\n"
     ]
    }
   ],
   "source": [
    "train_X, test_X, train_y, test_y = prepare_imdb_data(data, labels)\n",
    "print(\"IMDb reviews (combined): train = {}, test = {}\".format(len(train_X), len(test_X)))"
   ]
  },
  {
   "cell_type": "markdown",
   "metadata": {},
   "source": [
    "Now that we have our training and testing sets unified and prepared, we should do a quick check and see an example of the data our model will be trained on. This is generally a good idea as it allows you to see how each of the further processing steps affects the reviews and it also ensures that the data has been loaded correctly."
   ]
  },
  {
   "cell_type": "code",
   "execution_count": 7,
   "metadata": {},
   "outputs": [
    {
     "name": "stdout",
     "output_type": "stream",
     "text": [
      "This piece of crap, since I can't call it a movie, can be summed up by the following.<br /><br />-Stereotypical black criminal with black midget partner get in trouble -Black Midget pretends to be a baby with a fully developed adult face, body hair and genitalia -Black midget is mistaken(somehow) by man and woman who happen to want a baby -Black midget than goes on to commit acts of physical and sexual violence, demean white people wherever he sees them, and commit more crimes -Happy Ending<br /><br />Honestly, it could have been a good satire if it hadn't been directed so shallowly and had such talentless bastards star in it.\n",
      "0\n"
     ]
    }
   ],
   "source": [
    "print(train_X[100])\n",
    "print(train_y[100])"
   ]
  },
  {
   "cell_type": "markdown",
   "metadata": {},
   "source": [
    "The first step in processing the reviews is to make sure that any html tags that appear should be removed. In addition we wish to tokenize our input, that way words such as *entertained* and *entertaining* are considered the same with regard to sentiment analysis."
   ]
  },
  {
   "cell_type": "code",
   "execution_count": 8,
   "metadata": {},
   "outputs": [],
   "source": [
    "import nltk\n",
    "from nltk.corpus import stopwords\n",
    "from nltk.stem.porter import *\n",
    "\n",
    "import re\n",
    "from bs4 import BeautifulSoup\n",
    "\n",
    "def review_to_words(review):\n",
    "    nltk.download(\"stopwords\", quiet=True)\n",
    "    stemmer = PorterStemmer()\n",
    "    \n",
    "    text = BeautifulSoup(review, \"html.parser\").get_text() # Remove HTML tags\n",
    "    text = re.sub(r\"[^a-zA-Z0-9]\", \" \", text.lower()) # Convert to lower case\n",
    "    words = text.split() # Split string into words\n",
    "    words = [w for w in words if w not in stopwords.words(\"english\")] # Remove stopwords\n",
    "    words = [PorterStemmer().stem(w) for w in words] # stem\n",
    "    \n",
    "    return words"
   ]
  },
  {
   "cell_type": "markdown",
   "metadata": {},
   "source": [
    "The `review_to_words` method defined above uses `BeautifulSoup` to remove any html tags that appear and uses the `nltk` package to tokenize the reviews. As a check to ensure we know how everything is working, try applying `review_to_words` to one of the reviews in the training set."
   ]
  },
  {
   "cell_type": "code",
   "execution_count": 9,
   "metadata": {
    "scrolled": true
   },
   "outputs": [
    {
     "data": {
      "text/plain": [
       "['piec',\n",
       " 'crap',\n",
       " 'sinc',\n",
       " 'call',\n",
       " 'movi',\n",
       " 'sum',\n",
       " 'follow',\n",
       " 'stereotyp',\n",
       " 'black',\n",
       " 'crimin',\n",
       " 'black',\n",
       " 'midget',\n",
       " 'partner',\n",
       " 'get',\n",
       " 'troubl',\n",
       " 'black',\n",
       " 'midget',\n",
       " 'pretend',\n",
       " 'babi',\n",
       " 'fulli',\n",
       " 'develop',\n",
       " 'adult',\n",
       " 'face',\n",
       " 'bodi',\n",
       " 'hair',\n",
       " 'genitalia',\n",
       " 'black',\n",
       " 'midget',\n",
       " 'mistaken',\n",
       " 'somehow',\n",
       " 'man',\n",
       " 'woman',\n",
       " 'happen',\n",
       " 'want',\n",
       " 'babi',\n",
       " 'black',\n",
       " 'midget',\n",
       " 'goe',\n",
       " 'commit',\n",
       " 'act',\n",
       " 'physic',\n",
       " 'sexual',\n",
       " 'violenc',\n",
       " 'demean',\n",
       " 'white',\n",
       " 'peopl',\n",
       " 'wherev',\n",
       " 'see',\n",
       " 'commit',\n",
       " 'crime',\n",
       " 'happi',\n",
       " 'endinghonestli',\n",
       " 'could',\n",
       " 'good',\n",
       " 'satir',\n",
       " 'direct',\n",
       " 'shallowli',\n",
       " 'talentless',\n",
       " 'bastard',\n",
       " 'star']"
      ]
     },
     "execution_count": 9,
     "metadata": {},
     "output_type": "execute_result"
    }
   ],
   "source": [
    "# TODO: Apply review_to_words to a review (train_X[100] or any other review)\n",
    "review_to_words(train_X[100])"
   ]
  },
  {
   "cell_type": "markdown",
   "metadata": {},
   "source": [
    "**Question:** Above we mentioned that `review_to_words` method removes html formatting and allows us to tokenize the words found in a review, for example, converting *entertained* and *entertaining* into *entertain* so that they are treated as though they are the same word. What else, if anything, does this method do to the input?"
   ]
  },
  {
   "cell_type": "markdown",
   "metadata": {},
   "source": [
    "**Answer:**"
   ]
  },
  {
   "cell_type": "markdown",
   "metadata": {},
   "source": [
    "The method below applies the `review_to_words` method to each of the reviews in the training and testing datasets. In addition it caches the results. This is because performing this processing step can take a long time. This way if you are unable to complete the notebook in the current session, you can come back without needing to process the data a second time."
   ]
  },
  {
   "cell_type": "code",
   "execution_count": 10,
   "metadata": {},
   "outputs": [],
   "source": [
    "import pickle\n",
    "\n",
    "cache_dir = os.path.join(\"../cache\", \"sentiment_analysis\")  # where to store cache files\n",
    "os.makedirs(cache_dir, exist_ok=True)  # ensure cache directory exists\n",
    "\n",
    "def preprocess_data(data_train, data_test, labels_train, labels_test,\n",
    "                    cache_dir=cache_dir, cache_file=\"preprocessed_data.pkl\"):\n",
    "    \"\"\"Convert each review to words; read from cache if available.\"\"\"\n",
    "\n",
    "    # If cache_file is not None, try to read from it first\n",
    "    cache_data = None\n",
    "    if cache_file is not None:\n",
    "        try:\n",
    "            with open(os.path.join(cache_dir, cache_file), \"rb\") as f:\n",
    "                cache_data = pickle.load(f)\n",
    "            print(\"Read preprocessed data from cache file:\", cache_file)\n",
    "        except:\n",
    "            pass  # unable to read from cache, but that's okay\n",
    "    \n",
    "    # If cache is missing, then do the heavy lifting\n",
    "    if cache_data is None:\n",
    "        # Preprocess training and test data to obtain words for each review\n",
    "        #words_train = list(map(review_to_words, data_train))\n",
    "        #words_test = list(map(review_to_words, data_test))\n",
    "        words_train = [review_to_words(review) for review in data_train]\n",
    "        words_test = [review_to_words(review) for review in data_test]\n",
    "        \n",
    "        # Write to cache file for future runs\n",
    "        if cache_file is not None:\n",
    "            cache_data = dict(words_train=words_train, words_test=words_test,\n",
    "                              labels_train=labels_train, labels_test=labels_test)\n",
    "            with open(os.path.join(cache_dir, cache_file), \"wb\") as f:\n",
    "                pickle.dump(cache_data, f)\n",
    "            print(\"Wrote preprocessed data to cache file:\", cache_file)\n",
    "    else:\n",
    "        # Unpack data loaded from cache file\n",
    "        words_train, words_test, labels_train, labels_test = (cache_data['words_train'],\n",
    "                cache_data['words_test'], cache_data['labels_train'], cache_data['labels_test'])\n",
    "    \n",
    "    return words_train, words_test, labels_train, labels_test"
   ]
  },
  {
   "cell_type": "code",
   "execution_count": 11,
   "metadata": {},
   "outputs": [
    {
     "name": "stdout",
     "output_type": "stream",
     "text": [
      "Read preprocessed data from cache file: preprocessed_data.pkl\n"
     ]
    }
   ],
   "source": [
    "# Preprocess data\n",
    "train_X, test_X, train_y, test_y = preprocess_data(train_X, test_X, train_y, test_y)"
   ]
  },
  {
   "cell_type": "markdown",
   "metadata": {},
   "source": [
    "## Transform the data\n",
    "\n",
    "In the XGBoost notebook we transformed the data from its word representation to a bag-of-words feature representation. For the model we are going to construct in this notebook we will construct a feature representation which is very similar. To start, we will represent each word as an integer. Of course, some of the words that appear in the reviews occur very infrequently and so likely don't contain much information for the purposes of sentiment analysis. The way we will deal with this problem is that we will fix the size of our working vocabulary and we will only include the words that appear most frequently. We will then combine all of the infrequent words into a single category and, in our case, we will label it as `1`.\n",
    "\n",
    "Since we will be using a recurrent neural network, it will be convenient if the length of each review is the same. To do this, we will fix a size for our reviews and then pad short reviews with the category 'no word' (which we will label `0`) and truncate long reviews."
   ]
  },
  {
   "cell_type": "markdown",
   "metadata": {},
   "source": [
    "### (TODO) Create a word dictionary\n",
    "\n",
    "To begin with, we need to construct a way to map words that appear in the reviews to integers. Here we fix the size of our vocabulary (including the 'no word' and 'infrequent' categories) to be `5000` but you may wish to change this to see how it affects the model.\n",
    "\n",
    "> **TODO:** Complete the implementation for the `build_dict()` method below. Note that even though the vocab_size is set to `5000`, we only want to construct a mapping for the most frequently appearing `4998` words. This is because we want to reserve the special labels `0` for 'no word' and `1` for 'infrequent word'."
   ]
  },
  {
   "cell_type": "code",
   "execution_count": 12,
   "metadata": {},
   "outputs": [],
   "source": [
    "import numpy as np\n",
    "\n",
    "def build_dict(data, vocab_size = 5000):\n",
    "    \"\"\"Construct and return a dictionary mapping each of the most frequently appearing words to a unique integer.\"\"\"\n",
    "    \n",
    "    # TODO: Determine how often each word appears in `data`. Note that `data` is a list of sentences and that a\n",
    "    #       sentence is a list of words.\n",
    "    \n",
    "    word_count = {} # A dict storing the words that appear in the reviews along with how often they occur\n",
    "    \n",
    "    for sentence in data:\n",
    "        \n",
    "        for word in sentence:\n",
    "            \n",
    "            if word in word_count:\n",
    "                \n",
    "                word_count[word] = word_count[word] + 1\n",
    "            else:\n",
    "                word_count[word] = 1\n",
    "    \n",
    "    # TODO: Sort the words found in `data` so that sorted_words[0] is the most frequently appearing word and\n",
    "    #       sorted_words[-1] is the least frequently appearing word.\n",
    "    \n",
    "    sorted_words = sorted(word_count, key=word_count.get, reverse=True)\n",
    "    \n",
    "    word_dict = {} # This is what we are building, a dictionary that translates words into integers\n",
    "    for idx, word in enumerate(sorted_words[:vocab_size - 2]): # The -2 is so that we save room for the 'no word'\n",
    "        word_dict[word] = idx + 2                              # 'infrequent' labels\n",
    "        \n",
    "    return word_dict"
   ]
  },
  {
   "cell_type": "code",
   "execution_count": 13,
   "metadata": {},
   "outputs": [],
   "source": [
    "word_dict = build_dict(train_X)"
   ]
  },
  {
   "cell_type": "code",
   "execution_count": 14,
   "metadata": {},
   "outputs": [
    {
     "name": "stdout",
     "output_type": "stream",
     "text": [
      "{'movi': 2, 'film': 3, 'one': 4, 'like': 5, 'time': 6, 'good': 7, 'make': 8, 'charact': 9, 'get': 10, 'see': 11, 'watch': 12, 'stori': 13, 'even': 14, 'would': 15, 'realli': 16, 'well': 17, 'scene': 18, 'look': 19, 'show': 20, 'much': 21, 'end': 22, 'peopl': 23, 'bad': 24, 'go': 25, 'great': 26, 'also': 27, 'first': 28, 'love': 29, 'think': 30, 'way': 31, 'act': 32, 'play': 33, 'made': 34, 'thing': 35, 'could': 36, 'know': 37, 'say': 38, 'seem': 39, 'work': 40, 'plot': 41, 'two': 42, 'actor': 43, 'year': 44, 'come': 45, 'mani': 46, 'seen': 47, 'take': 48, 'life': 49, 'want': 50, 'never': 51, 'littl': 52, 'best': 53, 'tri': 54, 'man': 55, 'ever': 56, 'give': 57, 'better': 58, 'still': 59, 'perform': 60, 'find': 61, 'feel': 62, 'part': 63, 'back': 64, 'use': 65, 'someth': 66, 'director': 67, 'actual': 68, 'interest': 69, 'lot': 70, 'real': 71, 'old': 72, 'cast': 73, 'though': 74, 'live': 75, 'star': 76, 'enjoy': 77, 'guy': 78, 'anoth': 79, 'new': 80, 'role': 81, 'noth': 82, '10': 83, 'funni': 84, 'music': 85, 'point': 86, 'start': 87, 'set': 88, 'girl': 89, 'origin': 90, 'day': 91, 'world': 92, 'everi': 93, 'believ': 94, 'turn': 95, 'quit': 96, 'direct': 97, 'us': 98, 'thought': 99, 'fact': 100, 'minut': 101, 'horror': 102, 'kill': 103, 'action': 104, 'comedi': 105, 'pretti': 106, 'young': 107, 'wonder': 108, 'happen': 109, 'around': 110, 'got': 111, 'effect': 112, 'right': 113, 'long': 114, 'howev': 115, 'big': 116, 'line': 117, 'famili': 118, 'enough': 119, 'seri': 120, 'may': 121, 'need': 122, 'fan': 123, 'bit': 124, 'script': 125, 'beauti': 126, 'person': 127, 'becom': 128, 'without': 129, 'must': 130, 'alway': 131, 'friend': 132, 'tell': 133, 'reason': 134, 'saw': 135, 'last': 136, 'final': 137, 'kid': 138, 'almost': 139, 'put': 140, 'least': 141, 'sure': 142, 'done': 143, 'whole': 144, 'place': 145, 'complet': 146, 'kind': 147, 'expect': 148, 'differ': 149, 'shot': 150, 'far': 151, 'mean': 152, 'anyth': 153, 'book': 154, 'laugh': 155, 'might': 156, 'name': 157, 'sinc': 158, 'begin': 159, '2': 160, 'probabl': 161, 'woman': 162, 'help': 163, 'entertain': 164, 'let': 165, 'screen': 166, 'call': 167, 'tv': 168, 'moment': 169, 'away': 170, 'read': 171, 'yet': 172, 'rather': 173, 'worst': 174, 'run': 175, 'fun': 176, 'lead': 177, 'hard': 178, 'audienc': 179, 'idea': 180, 'anyon': 181, 'episod': 182, 'american': 183, 'found': 184, 'appear': 185, 'bore': 186, 'especi': 187, 'although': 188, 'hope': 189, 'cours': 190, 'keep': 191, 'anim': 192, 'job': 193, 'goe': 194, 'move': 195, 'sens': 196, 'dvd': 197, 'version': 198, 'war': 199, 'money': 200, 'someon': 201, 'mind': 202, 'mayb': 203, 'problem': 204, 'true': 205, 'hous': 206, 'everyth': 207, 'nice': 208, 'second': 209, 'rate': 210, 'three': 211, 'night': 212, 'face': 213, 'follow': 214, 'recommend': 215, 'main': 216, 'product': 217, 'worth': 218, 'leav': 219, 'human': 220, 'special': 221, 'excel': 222, 'togeth': 223, 'wast': 224, 'everyon': 225, 'sound': 226, 'john': 227, 'hand': 228, '1': 229, 'father': 230, 'later': 231, 'eye': 232, 'said': 233, 'view': 234, 'instead': 235, 'review': 236, 'boy': 237, 'high': 238, 'hour': 239, 'miss': 240, 'classic': 241, 'talk': 242, 'wife': 243, 'understand': 244, 'left': 245, 'care': 246, 'black': 247, 'death': 248, 'open': 249, 'murder': 250, 'write': 251, 'half': 252, 'head': 253, 'rememb': 254, 'chang': 255, 'viewer': 256, 'fight': 257, 'gener': 258, 'surpris': 259, 'includ': 260, 'short': 261, 'die': 262, 'fall': 263, 'less': 264, 'els': 265, 'entir': 266, 'piec': 267, 'involv': 268, 'pictur': 269, 'simpli': 270, 'top': 271, 'home': 272, 'power': 273, 'total': 274, 'usual': 275, 'budget': 276, 'attempt': 277, 'suppos': 278, 'releas': 279, 'hollywood': 280, 'terribl': 281, 'song': 282, 'men': 283, 'possibl': 284, 'featur': 285, 'portray': 286, 'disappoint': 287, 'poor': 288, '3': 289, 'coupl': 290, 'stupid': 291, 'camera': 292, 'dead': 293, 'wrong': 294, 'produc': 295, 'low': 296, 'either': 297, 'video': 298, 'aw': 299, 'definit': 300, 'except': 301, 'rest': 302, 'given': 303, 'absolut': 304, 'women': 305, 'lack': 306, 'word': 307, 'writer': 308, 'titl': 309, 'talent': 310, 'decid': 311, 'full': 312, 'perfect': 313, 'along': 314, 'style': 315, 'close': 316, 'truli': 317, 'school': 318, 'save': 319, 'emot': 320, 'sex': 321, 'age': 322, 'next': 323, 'bring': 324, 'mr': 325, 'case': 326, 'killer': 327, 'heart': 328, 'comment': 329, 'sort': 330, 'creat': 331, 'perhap': 332, 'came': 333, 'brother': 334, 'sever': 335, 'joke': 336, 'art': 337, 'dialogu': 338, 'game': 339, 'small': 340, 'base': 341, 'flick': 342, 'written': 343, 'sequenc': 344, 'meet': 345, 'earli': 346, 'often': 347, 'other': 348, 'mother': 349, 'develop': 350, 'humor': 351, 'actress': 352, 'consid': 353, 'dark': 354, 'guess': 355, 'amaz': 356, 'unfortun': 357, 'light': 358, 'lost': 359, 'exampl': 360, 'cinema': 361, 'drama': 362, 'white': 363, 'ye': 364, 'experi': 365, 'imagin': 366, 'mention': 367, 'stop': 368, 'natur': 369, 'forc': 370, 'manag': 371, 'felt': 372, 'cut': 373, 'present': 374, 'children': 375, 'fail': 376, 'son': 377, 'support': 378, 'qualiti': 379, 'car': 380, 'ask': 381, 'hit': 382, 'side': 383, 'voic': 384, 'extrem': 385, 'impress': 386, 'wors': 387, 'evil': 388, 'stand': 389, 'went': 390, 'certainli': 391, 'basic': 392, 'oh': 393, 'overal': 394, 'favorit': 395, 'horribl': 396, 'mysteri': 397, 'number': 398, 'type': 399, 'danc': 400, 'wait': 401, 'hero': 402, 'alreadi': 403, '5': 404, 'learn': 405, 'matter': 406, '4': 407, 'michael': 408, 'genr': 409, 'fine': 410, 'despit': 411, 'throughout': 412, 'walk': 413, 'success': 414, 'histori': 415, 'question': 416, 'zombi': 417, 'town': 418, 'realiz': 419, 'relationship': 420, 'past': 421, 'child': 422, 'daughter': 423, 'late': 424, 'b': 425, 'wish': 426, 'credit': 427, 'hate': 428, 'event': 429, 'theme': 430, 'touch': 431, 'citi': 432, 'today': 433, 'sometim': 434, 'behind': 435, 'god': 436, 'twist': 437, 'sit': 438, 'deal': 439, 'stay': 440, 'annoy': 441, 'abl': 442, 'rent': 443, 'pleas': 444, 'edit': 445, 'blood': 446, 'deserv': 447, 'comic': 448, 'anyway': 449, 'appar': 450, 'soon': 451, 'gave': 452, 'etc': 453, 'level': 454, 'slow': 455, 'chanc': 456, 'score': 457, 'bodi': 458, 'brilliant': 459, 'incred': 460, 'figur': 461, 'situat': 462, 'major': 463, 'self': 464, 'stuff': 465, 'decent': 466, 'element': 467, 'dream': 468, 'return': 469, 'obvious': 470, 'order': 471, 'continu': 472, 'pace': 473, 'ridicul': 474, 'happi': 475, 'add': 476, 'group': 477, 'highli': 478, 'thank': 479, 'ladi': 480, 'novel': 481, 'pain': 482, 'speak': 483, 'career': 484, 'shoot': 485, 'strang': 486, 'heard': 487, 'sad': 488, 'husband': 489, 'polic': 490, 'import': 491, 'break': 492, 'took': 493, 'cannot': 494, 'strong': 495, 'robert': 496, 'predict': 497, 'violenc': 498, 'hilari': 499, 'recent': 500, 'countri': 501, 'known': 502, 'particularli': 503, 'pick': 504, 'documentari': 505, 'season': 506, 'critic': 507, 'jame': 508, 'compar': 509, 'obviou': 510, 'alon': 511, 'told': 512, 'state': 513, 'visual': 514, 'rock': 515, 'exist': 516, 'theater': 517, 'offer': 518, 'opinion': 519, 'gore': 520, 'hold': 521, 'crap': 522, 'result': 523, 'room': 524, 'hear': 525, 'realiti': 526, 'effort': 527, 'clich': 528, 'thriller': 529, 'caus': 530, 'sequel': 531, 'explain': 532, 'serious': 533, 'king': 534, 'local': 535, 'ago': 536, 'none': 537, 'hell': 538, 'note': 539, 'allow': 540, 'david': 541, 'sister': 542, 'simpl': 543, 'femal': 544, 'deliv': 545, 'ok': 546, 'convinc': 547, 'class': 548, 'check': 549, 'suspens': 550, 'win': 551, 'oscar': 552, 'buy': 553, 'huge': 554, 'valu': 555, 'sexual': 556, 'cool': 557, 'scari': 558, 'similar': 559, 'excit': 560, 'exactli': 561, 'apart': 562, 'provid': 563, 'shown': 564, 'avoid': 565, 'seriou': 566, 'english': 567, 'whose': 568, 'taken': 569, 'cinematographi': 570, 'shock': 571, 'polit': 572, 'spoiler': 573, 'offic': 574, 'across': 575, 'middl': 576, 'pass': 577, 'street': 578, 'messag': 579, 'silli': 580, 'charm': 581, 'somewhat': 582, 'modern': 583, 'filmmak': 584, 'confus': 585, 'form': 586, 'tale': 587, 'singl': 588, 'jack': 589, 'mostli': 590, 'william': 591, 'attent': 592, 'carri': 593, 'sing': 594, 'subject': 595, 'five': 596, 'richard': 597, 'prove': 598, 'stage': 599, 'team': 600, 'unlik': 601, 'cop': 602, 'georg': 603, 'televis': 604, 'monster': 605, 'earth': 606, 'villain': 607, 'cover': 608, 'pay': 609, 'marri': 610, 'toward': 611, 'build': 612, 'pull': 613, 'parent': 614, 'due': 615, 'fill': 616, 'respect': 617, 'dialog': 618, 'four': 619, 'remind': 620, 'futur': 621, 'weak': 622, 'typic': 623, '7': 624, 'cheap': 625, 'intellig': 626, 'atmospher': 627, 'british': 628, '80': 629, 'clearli': 630, 'paul': 631, 'dog': 632, 'non': 633, 'artist': 634, 'fast': 635, 'knew': 636, '8': 637, 'crime': 638, 'easili': 639, 'escap': 640, 'adult': 641, 'doubt': 642, 'detail': 643, 'date': 644, 'romant': 645, 'member': 646, 'fire': 647, 'gun': 648, 'drive': 649, 'straight': 650, 'fit': 651, 'beyond': 652, 'attack': 653, 'imag': 654, 'upon': 655, 'posit': 656, 'whether': 657, 'peter': 658, 'fantast': 659, 'aspect': 660, 'captur': 661, 'appreci': 662, 'ten': 663, 'plan': 664, 'discov': 665, 'remain': 666, 'period': 667, 'near': 668, 'air': 669, 'realist': 670, 'mark': 671, 'red': 672, 'dull': 673, 'adapt': 674, 'within': 675, 'lose': 676, 'spend': 677, 'color': 678, 'materi': 679, 'chase': 680, 'mari': 681, 'storylin': 682, 'forget': 683, 'bunch': 684, 'clear': 685, 'lee': 686, 'victim': 687, 'nearli': 688, 'box': 689, 'york': 690, 'inspir': 691, 'match': 692, 'mess': 693, 'finish': 694, 'standard': 695, 'easi': 696, 'truth': 697, 'busi': 698, 'suffer': 699, 'space': 700, 'dramat': 701, 'bill': 702, 'western': 703, 'e': 704, 'list': 705, 'battl': 706, 'notic': 707, 'de': 708, 'french': 709, 'ad': 710, '9': 711, 'tom': 712, 'larg': 713, 'among': 714, 'eventu': 715, 'accept': 716, 'train': 717, 'agre': 718, 'spirit': 719, 'soundtrack': 720, 'third': 721, 'teenag': 722, 'soldier': 723, 'adventur': 724, 'suggest': 725, 'sorri': 726, 'famou': 727, 'drug': 728, 'normal': 729, 'cri': 730, 'babi': 731, 'troubl': 732, 'ultim': 733, 'contain': 734, 'certain': 735, 'cultur': 736, 'romanc': 737, 'rare': 738, 'lame': 739, 'somehow': 740, 'mix': 741, 'disney': 742, 'gone': 743, 'cartoon': 744, 'student': 745, 'fear': 746, 'reveal': 747, 'suck': 748, 'kept': 749, 'attract': 750, 'appeal': 751, 'premis': 752, 'greatest': 753, 'design': 754, 'secret': 755, 'shame': 756, 'throw': 757, 'scare': 758, 'copi': 759, 'wit': 760, 'america': 761, 'admit': 762, 'brought': 763, 'particular': 764, 'relat': 765, 'screenplay': 766, 'whatev': 767, 'pure': 768, '70': 769, 'harri': 770, 'averag': 771, 'master': 772, 'describ': 773, 'treat': 774, 'male': 775, '20': 776, 'fantasi': 777, 'issu': 778, 'warn': 779, 'inde': 780, 'background': 781, 'forward': 782, 'project': 783, 'free': 784, 'memor': 785, 'japanes': 786, 'poorli': 787, 'award': 788, 'locat': 789, 'potenti': 790, 'amus': 791, 'struggl': 792, 'weird': 793, 'magic': 794, 'societi': 795, 'okay': 796, 'accent': 797, 'doctor': 798, 'imdb': 799, 'hot': 800, 'water': 801, 'dr': 802, 'express': 803, '30': 804, 'alien': 805, 'odd': 806, 'choic': 807, 'crazi': 808, 'studio': 809, 'fiction': 810, 'control': 811, 'becam': 812, 'masterpiec': 813, 'difficult': 814, 'fli': 815, 'joe': 816, 'scream': 817, 'costum': 818, 'lover': 819, 'uniqu': 820, 'refer': 821, 'remak': 822, 'girlfriend': 823, 'vampir': 824, 'prison': 825, 'execut': 826, 'wear': 827, 'jump': 828, 'unless': 829, 'wood': 830, 'creepi': 831, 'cheesi': 832, 'superb': 833, 'otherwis': 834, 'parti': 835, 'roll': 836, 'ghost': 837, 'mad': 838, 'public': 839, 'depict': 840, 'week': 841, 'badli': 842, 'moral': 843, 'earlier': 844, 'jane': 845, 'dumb': 846, 'fi': 847, 'grow': 848, 'flaw': 849, 'deep': 850, 'sci': 851, 'cat': 852, 'maker': 853, 'older': 854, 'connect': 855, 'footag': 856, 'plenti': 857, 'bother': 858, 'outsid': 859, 'stick': 860, 'gay': 861, 'catch': 862, 'plu': 863, 'co': 864, 'popular': 865, 'equal': 866, 'social': 867, 'quickli': 868, 'disturb': 869, 'perfectli': 870, 'dress': 871, '90': 872, 'era': 873, 'mistak': 874, 'lie': 875, 'ride': 876, 'previou': 877, 'combin': 878, 'concept': 879, 'band': 880, 'rich': 881, 'surviv': 882, 'answer': 883, 'front': 884, 'sweet': 885, 'christma': 886, 'insid': 887, 'eat': 888, 'bare': 889, 'concern': 890, 'beat': 891, 'ben': 892, 'listen': 893, 'c': 894, 'term': 895, 'serv': 896, 'la': 897, 'german': 898, 'meant': 899, 'hardli': 900, 'stereotyp': 901, 'innoc': 902, 'law': 903, 'desper': 904, 'promis': 905, 'memori': 906, 'cute': 907, 'intent': 908, 'steal': 909, 'inform': 910, 'variou': 911, 'brain': 912, 'post': 913, 'tone': 914, 'island': 915, 'amount': 916, 'nuditi': 917, 'track': 918, 'compani': 919, 'store': 920, 'claim': 921, 'flat': 922, 'hair': 923, '50': 924, 'univers': 925, 'land': 926, 'fairli': 927, 'danger': 928, 'kick': 929, 'scott': 930, 'player': 931, 'step': 932, 'plain': 933, 'crew': 934, 'toni': 935, 'share': 936, 'centuri': 937, 'tast': 938, 'engag': 939, 'achiev': 940, 'cold': 941, 'travel': 942, 'suit': 943, 'rip': 944, 'record': 945, 'sadli': 946, 'manner': 947, 'wrote': 948, 'spot': 949, 'tension': 950, 'fascin': 951, 'intens': 952, 'familiar': 953, 'remark': 954, 'depth': 955, 'burn': 956, 'destroy': 957, 'histor': 958, 'sleep': 959, 'purpos': 960, 'languag': 961, 'ignor': 962, 'ruin': 963, 'delight': 964, 'unbeliev': 965, 'italian': 966, 'collect': 967, 'soul': 968, 'abil': 969, 'clever': 970, 'detect': 971, 'violent': 972, 'rape': 973, 'reach': 974, 'door': 975, 'scienc': 976, 'trash': 977, 'liter': 978, 'reveng': 979, 'commun': 980, 'caught': 981, 'creatur': 982, 'trip': 983, 'approach': 984, 'intrigu': 985, 'fashion': 986, 'introduc': 987, 'skill': 988, 'paint': 989, 'channel': 990, 'complex': 991, 'camp': 992, 'christian': 993, 'extra': 994, 'hole': 995, 'mental': 996, 'immedi': 997, 'ann': 998, 'limit': 999, 'million': 1000, 'comput': 1001, 'mere': 1002, 'slightli': 1003, '6': 1004, 'conclus': 1005, 'slasher': 1006, 'imposs': 1007, 'suddenli': 1008, 'crimin': 1009, 'neither': 1010, 'teen': 1011, 'spent': 1012, 'nation': 1013, 'physic': 1014, 'respons': 1015, 'planet': 1016, 'fake': 1017, 'receiv': 1018, 'blue': 1019, 'sick': 1020, 'bizarr': 1021, 'embarrass': 1022, 'indian': 1023, '15': 1024, 'ring': 1025, 'pop': 1026, 'drop': 1027, 'drag': 1028, 'haunt': 1029, 'pointless': 1030, 'suspect': 1031, 'edg': 1032, 'search': 1033, 'handl': 1034, 'common': 1035, 'biggest': 1036, 'hurt': 1037, 'faith': 1038, 'arriv': 1039, 'technic': 1040, 'angel': 1041, 'genuin': 1042, 'dad': 1043, 'awesom': 1044, 'solid': 1045, 'f': 1046, 'colleg': 1047, 'van': 1048, 'former': 1049, 'focu': 1050, 'count': 1051, 'tear': 1052, 'heavi': 1053, 'rais': 1054, 'wall': 1055, 'younger': 1056, 'visit': 1057, 'laughabl': 1058, 'fair': 1059, 'excus': 1060, 'sign': 1061, 'cult': 1062, 'tough': 1063, 'key': 1064, 'motion': 1065, 'desir': 1066, 'super': 1067, 'stun': 1068, 'addit': 1069, 'exploit': 1070, 'cloth': 1071, 'tortur': 1072, 'smith': 1073, 'race': 1074, 'davi': 1075, 'cross': 1076, 'author': 1077, 'jim': 1078, 'minor': 1079, 'compel': 1080, 'consist': 1081, 'focus': 1082, 'pathet': 1083, 'chemistri': 1084, 'commit': 1085, 'park': 1086, 'obsess': 1087, 'tradit': 1088, 'frank': 1089, 'grade': 1090, 'asid': 1091, '60': 1092, 'brutal': 1093, 'steve': 1094, 'somewher': 1095, 'rule': 1096, 'opportun': 1097, 'explor': 1098, 'grant': 1099, 'depress': 1100, 'u': 1101, 'besid': 1102, 'honest': 1103, 'dub': 1104, 'anti': 1105, 'trailer': 1106, 'intend': 1107, 'bar': 1108, 'longer': 1109, 'scientist': 1110, 'regard': 1111, 'west': 1112, 'decad': 1113, 'judg': 1114, 'silent': 1115, 'armi': 1116, 'creativ': 1117, 'wild': 1118, 'south': 1119, 'g': 1120, 'stewart': 1121, 'draw': 1122, 'road': 1123, 'govern': 1124, 'ex': 1125, 'boss': 1126, 'practic': 1127, 'surprisingli': 1128, 'gang': 1129, 'festiv': 1130, 'motiv': 1131, 'club': 1132, 'london': 1133, 'green': 1134, 'page': 1135, 'redeem': 1136, 'militari': 1137, 'idiot': 1138, 'display': 1139, 'machin': 1140, 'aliv': 1141, 'thrill': 1142, 'repeat': 1143, 'yeah': 1144, '100': 1145, 'nobodi': 1146, 'folk': 1147, '40': 1148, 'garbag': 1149, 'journey': 1150, 'tire': 1151, 'smile': 1152, 'ground': 1153, 'mood': 1154, 'bought': 1155, 'cost': 1156, 'stone': 1157, 'sam': 1158, 'noir': 1159, 'mouth': 1160, 'terrif': 1161, 'agent': 1162, 'requir': 1163, 'utterli': 1164, 'sexi': 1165, 'area': 1166, 'honestli': 1167, 'geniu': 1168, 'report': 1169, 'enter': 1170, 'investig': 1171, 'glad': 1172, 'humour': 1173, 'serial': 1174, 'passion': 1175, 'occasion': 1176, 'narr': 1177, 'marriag': 1178, 'climax': 1179, 'industri': 1180, 'studi': 1181, 'demon': 1182, 'nowher': 1183, 'charli': 1184, 'ship': 1185, 'center': 1186, 'hors': 1187, 'loos': 1188, 'bear': 1189, 'hang': 1190, 'wow': 1191, 'graphic': 1192, 'admir': 1193, 'giant': 1194, 'send': 1195, 'damn': 1196, 'loud': 1197, 'subtl': 1198, 'nake': 1199, 'rel': 1200, 'profession': 1201, 'blow': 1202, 'bottom': 1203, 'insult': 1204, 'batman': 1205, 'boyfriend': 1206, 'kelli': 1207, 'doubl': 1208, 'r': 1209, 'initi': 1210, 'frame': 1211, 'opera': 1212, 'gem': 1213, 'cinemat': 1214, 'challeng': 1215, 'drawn': 1216, 'church': 1217, 'affect': 1218, 'evid': 1219, 'seek': 1220, 'j': 1221, 'l': 1222, 'fulli': 1223, 'nightmar': 1224, 'conflict': 1225, 'essenti': 1226, 'arm': 1227, 'henri': 1228, 'wind': 1229, 'grace': 1230, 'christoph': 1231, 'narrat': 1232, 'assum': 1233, 'witch': 1234, 'push': 1235, 'hunt': 1236, 'wise': 1237, 'chri': 1238, 'nomin': 1239, 'repres': 1240, 'month': 1241, 'affair': 1242, 'avail': 1243, 'sceneri': 1244, 'hide': 1245, 'justic': 1246, 'thu': 1247, 'bond': 1248, 'smart': 1249, 'flashback': 1250, 'interview': 1251, 'outstand': 1252, 'constantli': 1253, 'satisfi': 1254, 'presenc': 1255, 'bed': 1256, 'central': 1257, 'sell': 1258, 'iron': 1259, 'content': 1260, 'everybodi': 1261, 'gag': 1262, 'slowli': 1263, 'hotel': 1264, 'hire': 1265, 'system': 1266, 'charl': 1267, 'thrown': 1268, 'individu': 1269, 'adam': 1270, 'hey': 1271, 'jone': 1272, 'mediocr': 1273, 'allen': 1274, 'lesson': 1275, 'ray': 1276, 'billi': 1277, 'photographi': 1278, 'cameo': 1279, 'pari': 1280, 'fellow': 1281, 'strike': 1282, 'absurd': 1283, 'brief': 1284, 'independ': 1285, 'rise': 1286, 'neg': 1287, 'impact': 1288, 'phone': 1289, 'model': 1290, 'born': 1291, 'ill': 1292, 'angl': 1293, 'fresh': 1294, 'spoil': 1295, 'likabl': 1296, 'abus': 1297, 'discuss': 1298, 'hill': 1299, 'ahead': 1300, 'sight': 1301, 'sent': 1302, 'photograph': 1303, 'occur': 1304, 'blame': 1305, 'shine': 1306, 'logic': 1307, 'bruce': 1308, 'mainli': 1309, 'skip': 1310, 'forev': 1311, 'commerci': 1312, 'held': 1313, 'teacher': 1314, 'surround': 1315, 'segment': 1316, 'zero': 1317, 'blond': 1318, 'resembl': 1319, 'trap': 1320, 'summer': 1321, 'satir': 1322, 'fool': 1323, 'six': 1324, 'ball': 1325, 'queen': 1326, 'twice': 1327, 'tragedi': 1328, 'sub': 1329, 'pack': 1330, 'reaction': 1331, 'bomb': 1332, 'will': 1333, 'hospit': 1334, 'protagonist': 1335, 'sport': 1336, 'mile': 1337, 'jerri': 1338, 'vote': 1339, 'drink': 1340, 'trust': 1341, 'mom': 1342, 'encount': 1343, 'plane': 1344, 'current': 1345, 'station': 1346, 'al': 1347, 'program': 1348, 'martin': 1349, 'choos': 1350, 'celebr': 1351, 'join': 1352, 'favourit': 1353, 'lord': 1354, 'field': 1355, 'round': 1356, 'tragic': 1357, 'jean': 1358, 'vision': 1359, 'robot': 1360, 'tie': 1361, 'arthur': 1362, 'random': 1363, 'fortun': 1364, 'roger': 1365, 'psycholog': 1366, 'intern': 1367, 'dread': 1368, 'nonsens': 1369, 'improv': 1370, 'prefer': 1371, 'epic': 1372, 'formula': 1373, 'highlight': 1374, 'pleasur': 1375, 'legend': 1376, '11': 1377, 'dollar': 1378, 'tape': 1379, 'wide': 1380, 'porn': 1381, 'fox': 1382, 'gorgeou': 1383, 'thin': 1384, 'object': 1385, 'buddi': 1386, 'influenc': 1387, 'ugli': 1388, 'prepar': 1389, 'nasti': 1390, 'ii': 1391, 'supposedli': 1392, 'warm': 1393, 'progress': 1394, 'reflect': 1395, 'youth': 1396, 'worthi': 1397, 'unusu': 1398, 'latter': 1399, 'length': 1400, 'crash': 1401, 'shop': 1402, 'seven': 1403, 'superior': 1404, 'childhood': 1405, 'remot': 1406, 'theatr': 1407, 'paid': 1408, 'pilot': 1409, 'funniest': 1410, 'disgust': 1411, 'fell': 1412, 'castl': 1413, 'trick': 1414, 'convers': 1415, 'gangster': 1416, 'establish': 1417, 'disast': 1418, 'rob': 1419, 'mine': 1420, 'suicid': 1421, 'disappear': 1422, 'heaven': 1423, 'ident': 1424, 'heroin': 1425, 'forgotten': 1426, 'mask': 1427, 'tend': 1428, 'decis': 1429, 'singer': 1430, 'brian': 1431, 'partner': 1432, 'desert': 1433, 'recogn': 1434, 'alan': 1435, 'thoroughli': 1436, 'ms': 1437, 'stuck': 1438, 'p': 1439, 'sky': 1440, 'replac': 1441, 'accur': 1442, 'market': 1443, 'seemingli': 1444, 'danni': 1445, 'commentari': 1446, 'uncl': 1447, 'clue': 1448, 'eddi': 1449, 'andi': 1450, 'devil': 1451, 'jackson': 1452, 'therefor': 1453, 'that': 1454, 'refus': 1455, 'pair': 1456, 'fault': 1457, 'accid': 1458, 'fate': 1459, 'river': 1460, 'unit': 1461, 'ed': 1462, 'tune': 1463, 'afraid': 1464, 'russian': 1465, 'hidden': 1466, 'stephen': 1467, 'clean': 1468, 'irrit': 1469, 'test': 1470, 'quick': 1471, 'readi': 1472, 'convey': 1473, 'instanc': 1474, 'captain': 1475, 'european': 1476, 'insan': 1477, 'frustrat': 1478, 'daniel': 1479, 'rescu': 1480, 'food': 1481, '1950': 1482, 'chines': 1483, 'wed': 1484, 'angri': 1485, 'dirti': 1486, 'lock': 1487, 'joy': 1488, 'price': 1489, 'steven': 1490, 'cage': 1491, 'bland': 1492, 'rang': 1493, 'anymor': 1494, 'wooden': 1495, 'rush': 1496, 'jason': 1497, 'news': 1498, 'n': 1499, 'board': 1500, 'twenti': 1501, 'martial': 1502, 'led': 1503, '12': 1504, 'worri': 1505, 'transform': 1506, 'symbol': 1507, 'cgi': 1508, 'hunter': 1509, 'piti': 1510, 'onto': 1511, 'sentiment': 1512, 'x': 1513, 'invent': 1514, 'johnni': 1515, 'explan': 1516, 'attitud': 1517, 'process': 1518, 'owner': 1519, 'awar': 1520, 'aim': 1521, 'target': 1522, 'favor': 1523, 'necessari': 1524, 'floor': 1525, 'energi': 1526, 'opposit': 1527, 'religi': 1528, 'insight': 1529, 'window': 1530, 'blind': 1531, 'chick': 1532, 'movement': 1533, 'possess': 1534, 'research': 1535, 'comparison': 1536, 'mountain': 1537, 'deepli': 1538, 'comed': 1539, 'grand': 1540, 'rain': 1541, 'whatsoev': 1542, 'began': 1543, 'shadow': 1544, 'bank': 1545, 'mid': 1546, 'princ': 1547, 'parodi': 1548, 'credibl': 1549, 'friendship': 1550, 'taylor': 1551, 'weapon': 1552, 'pre': 1553, 'flesh': 1554, 'dougla': 1555, 'teach': 1556, 'bloodi': 1557, 'hint': 1558, 'protect': 1559, 'terror': 1560, 'marvel': 1561, 'drunk': 1562, 'leader': 1563, 'load': 1564, 'watchabl': 1565, 'accord': 1566, 'anybodi': 1567, 'superman': 1568, 'freddi': 1569, 'brown': 1570, 'tim': 1571, 'seat': 1572, 'hitler': 1573, 'jeff': 1574, 'appropri': 1575, 'unknown': 1576, 'charg': 1577, 'keaton': 1578, 'knock': 1579, 'villag': 1580, 'unnecessari': 1581, 'england': 1582, 'enemi': 1583, 'empti': 1584, 'media': 1585, 'dare': 1586, 'craft': 1587, 'utter': 1588, 'wave': 1589, 'strength': 1590, 'buck': 1591, 'perspect': 1592, 'correct': 1593, 'ford': 1594, 'nativ': 1595, 'contrast': 1596, 'kiss': 1597, 'distract': 1598, 'speed': 1599, 'knowledg': 1600, 'anywher': 1601, 'soap': 1602, 'nazi': 1603, 'chill': 1604, 'magnific': 1605, 'breath': 1606, 'fred': 1607, 'ice': 1608, 'mission': 1609, '1980': 1610, 'jr': 1611, 'moon': 1612, 'joan': 1613, 'crowd': 1614, '000': 1615, 'kate': 1616, 'soft': 1617, 'frighten': 1618, 'dan': 1619, 'dick': 1620, 'hundr': 1621, 'nick': 1622, 'somebodi': 1623, 'simon': 1624, 'dozen': 1625, 'radio': 1626, 'academi': 1627, 'loss': 1628, 'shakespear': 1629, 'andrew': 1630, 'thousand': 1631, 'vehicl': 1632, 'quot': 1633, 'account': 1634, 'sum': 1635, 'root': 1636, 'leg': 1637, 'convent': 1638, 'behavior': 1639, '1970': 1640, 'gold': 1641, 'regular': 1642, 'worker': 1643, 'pretenti': 1644, 'demand': 1645, 'compet': 1646, 'explos': 1647, 'lynch': 1648, 'japan': 1649, 'interpret': 1650, 'notabl': 1651, 'stretch': 1652, 'privat': 1653, 'candi': 1654, 'tarzan': 1655, 'debut': 1656, 'constant': 1657, 'spi': 1658, 'prais': 1659, 'sea': 1660, 'translat': 1661, 'revolv': 1662, 'franc': 1663, 'jesu': 1664, 'failur': 1665, 'quiet': 1666, 'ass': 1667, 'sat': 1668, 'technolog': 1669, 'threaten': 1670, 'met': 1671, 'higher': 1672, 'kevin': 1673, 'punch': 1674, 'aid': 1675, 'toy': 1676, 'vh': 1677, 'interact': 1678, 'mike': 1679, 'abandon': 1680, 'separ': 1681, 'bet': 1682, 'command': 1683, 'confront': 1684, 'site': 1685, 'stunt': 1686, 'techniqu': 1687, 'belong': 1688, 'gotten': 1689, 'servic': 1690, 'recal': 1691, 'foot': 1692, 'freak': 1693, 'bug': 1694, 'cabl': 1695, 'african': 1696, 'fu': 1697, 'capabl': 1698, 'bright': 1699, 'jimmi': 1700, 'stock': 1701, 'boat': 1702, 'fat': 1703, 'succeed': 1704, 'clark': 1705, 'presid': 1706, 'structur': 1707, 'gene': 1708, 'spanish': 1709, 'paper': 1710, 'kidnap': 1711, 'whilst': 1712, 'factor': 1713, 'belief': 1714, 'educ': 1715, 'realism': 1716, 'witti': 1717, 'complic': 1718, 'attend': 1719, 'tree': 1720, 'realis': 1721, 'bob': 1722, 'finest': 1723, 'santa': 1724, 'assist': 1725, 'broken': 1726, 'up': 1727, 'depart': 1728, 'determin': 1729, 'observ': 1730, 'smoke': 1731, 'v': 1732, 'routin': 1733, 'hat': 1734, 'fame': 1735, 'oper': 1736, 'rubbish': 1737, 'lewi': 1738, 'domin': 1739, 'hook': 1740, 'advanc': 1741, 'morgan': 1742, 'lone': 1743, 'foreign': 1744, 'kinda': 1745, 'safe': 1746, 'rank': 1747, 'numer': 1748, 'werewolf': 1749, 'shallow': 1750, 'washington': 1751, 'rose': 1752, 'civil': 1753, 'vs': 1754, 'shape': 1755, 'morn': 1756, 'gari': 1757, 'ordinari': 1758, 'winner': 1759, 'kong': 1760, 'accomplish': 1761, 'virtual': 1762, 'whenev': 1763, 'peac': 1764, 'grab': 1765, 'offens': 1766, 'luck': 1767, 'h': 1768, 'patient': 1769, 'activ': 1770, 'complain': 1771, 'contriv': 1772, 'welcom': 1773, 'unfunni': 1774, 'bigger': 1775, 'dimension': 1776, 'pretend': 1777, 'trek': 1778, 'con': 1779, 'lesbian': 1780, 'dri': 1781, 'eric': 1782, 'wake': 1783, 'code': 1784, 'cain': 1785, 'flash': 1786, 'statu': 1787, 'manipul': 1788, 'albert': 1789, 'guard': 1790, 'corrupt': 1791, 'dancer': 1792, 'context': 1793, 'speech': 1794, 'signific': 1795, 'sourc': 1796, 'gain': 1797, 'awkward': 1798, 'anthoni': 1799, '13': 1800, 'sean': 1801, 'corni': 1802, 'psycho': 1803, 'clip': 1804, 'priest': 1805, 'curiou': 1806, 'w': 1807, 'theatric': 1808, 'reli': 1809, 'advic': 1810, 'religion': 1811, 'flow': 1812, 'addict': 1813, 'secur': 1814, 'howard': 1815, 'skin': 1816, 'jennif': 1817, 'specif': 1818, 'asian': 1819, 'organ': 1820, 'golden': 1821, 'core': 1822, 'promot': 1823, 'comfort': 1824, 'luke': 1825, 'cash': 1826, 'lucki': 1827, 'cheat': 1828, 'associ': 1829, 'lower': 1830, 'dislik': 1831, 'wing': 1832, 'spell': 1833, 'regret': 1834, 'frankli': 1835, 'contribut': 1836, 'balanc': 1837, 'devic': 1838, 'frequent': 1839, 'degre': 1840, 'print': 1841, 'forgiv': 1842, 'lake': 1843, 'sake': 1844, 'betti': 1845, 'thoma': 1846, 'mass': 1847, 'unexpect': 1848, 'crack': 1849, 'gordon': 1850, 'depend': 1851, 'grown': 1852, 'invit': 1853, 'construct': 1854, 'amateur': 1855, 'categori': 1856, 'unfold': 1857, 'honor': 1858, 'walter': 1859, 'anna': 1860, 'condit': 1861, 'matur': 1862, 'intellectu': 1863, 'grew': 1864, 'spectacular': 1865, 'sudden': 1866, 'sole': 1867, 'mirror': 1868, 'veteran': 1869, 'demonstr': 1870, 'liner': 1871, 'grip': 1872, 'freedom': 1873, 'overli': 1874, 'gift': 1875, 'card': 1876, 'experienc': 1877, 'robin': 1878, 'meanwhil': 1879, 'crappi': 1880, 'brilliantli': 1881, 'colour': 1882, 'section': 1883, 'subtitl': 1884, 'theori': 1885, 'drew': 1886, 'unabl': 1887, 'circumst': 1888, 'oliv': 1889, 'sheriff': 1890, 'altern': 1891, 'parker': 1892, 'sheer': 1893, 'path': 1894, 'pile': 1895, 'laughter': 1896, 'cook': 1897, 'matt': 1898, 'accident': 1899, 'wander': 1900, 'relief': 1901, 'defin': 1902, 'lawyer': 1903, 'treatment': 1904, 'hall': 1905, 'sinatra': 1906, 'captiv': 1907, 'dragon': 1908, 'hank': 1909, 'gratuit': 1910, 'halloween': 1911, 'moor': 1912, 'wound': 1913, 'barbara': 1914, 'kung': 1915, 'unintent': 1916, 'jacki': 1917, 'wayn': 1918, 'broadway': 1919, 'k': 1920, 'cowboy': 1921, 'canadian': 1922, 'statement': 1923, 'spoof': 1924, 'surreal': 1925, 'winter': 1926, 'compos': 1927, 'gonna': 1928, 'treasur': 1929, 'fish': 1930, 'fare': 1931, 'cheer': 1932, 'victor': 1933, 'sensit': 1934, 'woodi': 1935, 'emerg': 1936, 'unrealist': 1937, 'sympathet': 1938, 'ran': 1939, 'neighbor': 1940, 'driven': 1941, 'expos': 1942, 'glass': 1943, 'topic': 1944, 'overlook': 1945, 'authent': 1946, 'menac': 1947, 'handsom': 1948, 'michel': 1949, 'ancient': 1950, 'gross': 1951, 'chief': 1952, 'built': 1953, 'network': 1954, 'cinderella': 1955, 'feet': 1956, 'contemporari': 1957, 'russel': 1958, 'pleasant': 1959, 'stranger': 1960, 'comedian': 1961, 'nevertheless': 1962, 'gori': 1963, 'underr': 1964, 'letter': 1965, 'consider': 1966, 'miser': 1967, 'blockbust': 1968, 'endless': 1969, 'earn': 1970, 'switch': 1971, 'brook': 1972, 'solv': 1973, 'virgin': 1974, 'edward': 1975, 'bullet': 1976, 'joseph': 1977, 'convict': 1978, 'victoria': 1979, 'chosen': 1980, 'scenario': 1981, '0': 1982, 'scale': 1983, 'alex': 1984, 'cynic': 1985, 'gut': 1986, 'com': 1987, 'curs': 1988, 'outrag': 1989, 'sword': 1990, 'proper': 1991, 'substanc': 1992, 'screenwrit': 1993, 'driver': 1994, 'uk': 1995, 'wrap': 1996, 'juli': 1997, 'monkey': 1998, 'indic': 1999, 'bird': 2000, 'remov': 2001, 'par': 2002, 'court': 2003, 'naiv': 2004, 'grave': 2005, 'rental': 2006, 'roy': 2007, 'inevit': 2008, 'nanci': 2009, 'loser': 2010, 'advertis': 2011, 'consequ': 2012, 'slap': 2013, 'brave': 2014, 'fatal': 2015, 'le': 2016, 'germani': 2017, 'bridg': 2018, 'invis': 2019, 'ador': 2020, 'anger': 2021, 'provok': 2022, 'footbal': 2023, 'loui': 2024, 'chan': 2025, 'anderson': 2026, 'alcohol': 2027, 'professor': 2028, 'willi': 2029, 'stumbl': 2030, 'ryan': 2031, 'patrick': 2032, 'sharp': 2033, '1930': 2034, 'assassin': 2035, 'australian': 2036, 'bat': 2037, 'lousi': 2038, 'deni': 2039, 'refresh': 2040, 'strongli': 2041, 'saturday': 2042, 'trilog': 2043, 'eight': 2044, 'heck': 2045, 'cell': 2046, 'ape': 2047, 'liber': 2048, 'amateurish': 2049, 'sin': 2050, 'vagu': 2051, 'resid': 2052, 'san': 2053, 'justifi': 2054, 'mini': 2055, 'defeat': 2056, 'creator': 2057, 'reput': 2058, 'terrifi': 2059, 'indi': 2060, 'sympathi': 2061, 'prevent': 2062, 'expert': 2063, 'task': 2064, 'tabl': 2065, 'endur': 2066, 'tediou': 2067, 'rival': 2068, 'trial': 2069, 'offend': 2070, 'imit': 2071, 'basebal': 2072, 'employ': 2073, 'che': 2074, 'fairi': 2075, 'max': 2076, 'dig': 2077, 'weekend': 2078, 'complaint': 2079, 'beach': 2080, 'europ': 2081, 'pitch': 2082, 'risk': 2083, 'purchas': 2084, 'format': 2085, 'murphi': 2086, 'hype': 2087, 'powel': 2088, 'bite': 2089, 'tini': 2090, 'titan': 2091, 'glimps': 2092, 'reminisc': 2093, 'nois': 2094, 'harsh': 2095, 'fals': 2096, 'asleep': 2097, 'north': 2098, 'prime': 2099, 'till': 2100, '14': 2101, 'strip': 2102, 'africa': 2103, 'descript': 2104, 'revel': 2105, 'destruct': 2106, 'texa': 2107, 'surfac': 2108, 'sitcom': 2109, 'inner': 2110, 'arrest': 2111, 'spin': 2112, 'semi': 2113, 'uninterest': 2114, 'excess': 2115, 'argu': 2116, 'makeup': 2117, 'dinosaur': 2118, 'controversi': 2119, 'massiv': 2120, 'twin': 2121, 'hitchcock': 2122, 'maintain': 2123, 'ideal': 2124, 'reject': 2125, 'expens': 2126, 'stare': 2127, 'ludicr': 2128, 'insist': 2129, 'melodrama': 2130, 'kim': 2131, 'host': 2132, 'atroci': 2133, 'nail': 2134, 'erot': 2135, 'ga': 2136, 'supernatur': 2137, 'forest': 2138, 'ala': 2139, 'press': 2140, 'subplot': 2141, 'columbo': 2142, 'dude': 2143, 'presum': 2144, 'identifi': 2145, 'cant': 2146, 'notch': 2147, 'plagu': 2148, 'method': 2149, 'crude': 2150, 'guest': 2151, 'character': 2152, 'forgett': 2153, 'closer': 2154, 'ear': 2155, 'beast': 2156, 'landscap': 2157, 'border': 2158, 'princess': 2159, 'foster': 2160, 'lion': 2161, 'accus': 2162, 'previous': 2163, 'damag': 2164, 'aunt': 2165, 'jungl': 2166, 'bound': 2167, 'birth': 2168, 'pacino': 2169, 'urban': 2170, 'storytel': 2171, 'propaganda': 2172, 'chose': 2173, 'nude': 2174, 'guid': 2175, 'doll': 2176, 'emma': 2177, 'thirti': 2178, 'jess': 2179, 'mate': 2180, 'warrior': 2181, 'pet': 2182, 'whoever': 2183, '25': 2184, 'mainstream': 2185, 'cooper': 2186, 'upset': 2187, 'friday': 2188, 'gritti': 2189, 'size': 2190, 'deadli': 2191, 'latest': 2192, 'poster': 2193, 'exact': 2194, 'merit': 2195, 'warner': 2196, 'blend': 2197, 'ton': 2198, 'contact': 2199, '1990': 2200, 'rough': 2201, 'citizen': 2202, 'buff': 2203, 'wilson': 2204, 'settl': 2205, 'popul': 2206, 'sun': 2207, 'contest': 2208, 'corps': 2209, 'bu': 2210, 'widow': 2211, 'alic': 2212, 'metal': 2213, 'pitt': 2214, 'environ': 2215, 'mgm': 2216, 'rat': 2217, 'overcom': 2218, 'select': 2219, 'link': 2220, 'ted': 2221, 'guilti': 2222, 'lift': 2223, 'particip': 2224, 'revolut': 2225, 'corner': 2226, 'accompani': 2227, 'afternoon': 2228, 'prostitut': 2229, 'johnson': 2230, 'corpor': 2231, '1960': 2232, 'exagger': 2233, 'matrix': 2234, 'moron': 2235, 'multipl': 2236, 'sincer': 2237, 'doom': 2238, 'instal': 2239, 'clair': 2240, 'hood': 2241, 'leagu': 2242, 'holm': 2243, 'friendli': 2244, 'hip': 2245, 'string': 2246, 'grim': 2247, 'sunday': 2248, 'blah': 2249, 'campi': 2250, 'advis': 2251, 'irish': 2252, 'aka': 2253, 'defend': 2254, 'examin': 2255, 'lugosi': 2256, 'junk': 2257, 'shut': 2258, 'confid': 2259, 'icon': 2260, 'varieti': 2261, 'tight': 2262, 'pro': 2263, 'rachel': 2264, 'shake': 2265, 'medic': 2266, 'jaw': 2267, 'mexican': 2268, 'goal': 2269, 'attach': 2270, 'denni': 2271, 'directli': 2272, 'sullivan': 2273, 'dean': 2274, 'legendari': 2275, 'bourn': 2276, 'terrorist': 2277, 'truck': 2278, 'courag': 2279, 'sentenc': 2280, 'prior': 2281, 'breast': 2282, 'vietnam': 2283, 'duke': 2284, 'sarah': 2285, 'proceed': 2286, 'behav': 2287, 'donald': 2288, 'hong': 2289, 'entri': 2290, 'split': 2291, 'yell': 2292, 'nose': 2293, 'un': 2294, 'forth': 2295, 'unconvinc': 2296, 'gather': 2297, 'everywher': 2298, 'confess': 2299, 'concentr': 2300, 'swim': 2301, 'lifetim': 2302, 'stolen': 2303, 'borrow': 2304, 'buri': 2305, 'jerk': 2306, 'crush': 2307, 'pan': 2308, 'julia': 2309, 'turkey': 2310, 'lip': 2311, 'california': 2312, 'deliveri': 2313, 'spite': 2314, 'offici': 2315, 'quest': 2316, 'freeman': 2317, 'china': 2318, 'reward': 2319, 'proud': 2320, 'flight': 2321, 'hoffman': 2322, 'downright': 2323, 'fade': 2324, 'sink': 2325, 'jon': 2326, 'inept': 2327, 'jail': 2328, 'lazi': 2329, 'fabul': 2330, 'worthwhil': 2331, 'sir': 2332, 'encourag': 2333, 'notori': 2334, 'betray': 2335, 'susan': 2336, 'imageri': 2337, 'survivor': 2338, 'retard': 2339, 'shower': 2340, 'cousin': 2341, 'bag': 2342, 'teeth': 2343, 'branagh': 2344, 'lisa': 2345, 'storm': 2346, 'bell': 2347, 'relev': 2348, 'quirki': 2349, 'trade': 2350, 'facial': 2351, 'hugh': 2352, 'bride': 2353, 'summari': 2354, 'toler': 2355, 'finger': 2356, 'alright': 2357, 'shark': 2358, 'stab': 2359, 'mexico': 2360, 'tremend': 2361, 'pose': 2362, 'bitter': 2363, 'hyster': 2364, 'ha': 2365, 'blown': 2366, 'von': 2367, 'christ': 2368, 'cruel': 2369, 'ron': 2370, 'afterward': 2371, 'ned': 2372, 'scheme': 2373, 'address': 2374, 'bone': 2375, 'larri': 2376, 'snake': 2377, 'traci': 2378, 'pursu': 2379, 'tour': 2380, 'beg': 2381, 'screw': 2382, 'distinct': 2383, 'feed': 2384, 'swear': 2385, 'thumb': 2386, 'raw': 2387, 'obscur': 2388, 'chair': 2389, 'photo': 2390, 'mechan': 2391, 'stomach': 2392, 'occas': 2393, 'heavili': 2394, 'chain': 2395, 'gruesom': 2396, 'necessarili': 2397, 'argument': 2398, 'render': 2399, 'resist': 2400, 'cabin': 2401, 'sidney': 2402, 'hardi': 2403, 'southern': 2404, 'holiday': 2405, 'racist': 2406, 'satan': 2407, 'indulg': 2408, 'understood': 2409, 'india': 2410, 'philip': 2411, 'forgot': 2412, 'belov': 2413, 'midnight': 2414, 'stalk': 2415, 'fourth': 2416, 'outfit': 2417, 'integr': 2418, 'obnoxi': 2419, 'tongu': 2420, 'lay': 2421, 'pregnant': 2422, 'inhabit': 2423, 'magazin': 2424, 'restor': 2425, 'carol': 2426, 'ticket': 2427, 'deeper': 2428, '17': 2429, 'garden': 2430, 'slapstick': 2431, 'devot': 2432, 'shoe': 2433, 'brad': 2434, 'incid': 2435, 'lincoln': 2436, 'elizabeth': 2437, 'maria': 2438, 'divorc': 2439, 'benefit': 2440, 'guarante': 2441, 'underground': 2442, 'lili': 2443, 'sandler': 2444, 'disbelief': 2445, 'anticip': 2446, 'amazingli': 2447, 'capit': 2448, 'slave': 2449, 'mildli': 2450, 'explod': 2451, 'princip': 2452, 'creation': 2453, 'greater': 2454, 'bbc': 2455, 'cring': 2456, 'introduct': 2457, 'funnier': 2458, 'halfway': 2459, 'lesli': 2460, 'extraordinari': 2461, 'overwhelm': 2462, 'advantag': 2463, 'wreck': 2464, 'punish': 2465, 'transfer': 2466, 'tap': 2467, 'text': 2468, 'enhanc': 2469, 'extent': 2470, 'preview': 2471, 'jessica': 2472, 'lane': 2473, 'lo': 2474, 'plant': 2475, 'horrif': 2476, 'east': 2477, 'deliber': 2478, 'dynam': 2479, 'error': 2480, 'vincent': 2481, 'appli': 2482, 'homosexu': 2483, 'miscast': 2484, 'sophist': 2485, 'basi': 2486, 'miller': 2487, '2000': 2488, 'ensu': 2489, 'vacat': 2490, 'measur': 2491, 'extend': 2492, 'sleazi': 2493, 'steel': 2494, 'elev': 2495, 'spoken': 2496, 'bollywood': 2497, 'via': 2498, 'mansion': 2499, 'uncomfort': 2500, 'reed': 2501, 'alter': 2502, 'conceiv': 2503, 'blair': 2504, 'dentist': 2505, 'mous': 2506, 'breathtak': 2507, 'assign': 2508, 'goofi': 2509, 'fix': 2510, 'melt': 2511, 'beer': 2512, 'cathol': 2513, 'daili': 2514, 'overact': 2515, 'savag': 2516, 'hippi': 2517, 'stanley': 2518, 'nowaday': 2519, 'carpent': 2520, 'subsequ': 2521, 'everyday': 2522, 'oppos': 2523, 'sacrific': 2524, 'properli': 2525, 'inspector': 2526, 'succe': 2527, 'burt': 2528, 'neck': 2529, 'massacr': 2530, 'block': 2531, 'circl': 2532, 'laura': 2533, 'fay': 2534, 'portrait': 2535, 'mob': 2536, 'pool': 2537, 'seagal': 2538, 'lesser': 2539, 'concert': 2540, 'christi': 2541, 'access': 2542, 'grey': 2543, 'fallen': 2544, 'relax': 2545, 'usa': 2546, 'react': 2547, 'isol': 2548, 'sinist': 2549, 'jake': 2550, 'chees': 2551, 'jewish': 2552, 'competit': 2553, 'chop': 2554, 'nine': 2555, 'creep': 2556, 'lyric': 2557, 'stink': 2558, '2006': 2559, 'nonetheless': 2560, 'ironi': 2561, 'appal': 2562, 'spiritu': 2563, 'suitabl': 2564, 'immens': 2565, 'retir': 2566, 'shirt': 2567, 'spring': 2568, 'nut': 2569, 'showcas': 2570, 'user': 2571, 'reduc': 2572, 'adopt': 2573, 'needless': 2574, 'franchis': 2575, 'rage': 2576, 'sold': 2577, 'luci': 2578, 'navi': 2579, 'stanwyck': 2580, 'digit': 2581, 'zone': 2582, 'bulli': 2583, 'bath': 2584, 'nurs': 2585, 'per': 2586, 'asham': 2587, 'uninspir': 2588, 'jay': 2589, 'upper': 2590, 'illustr': 2591, 'laid': 2592, 'sutherland': 2593, 'amongst': 2594, 'oddli': 2595, 'broadcast': 2596, '1940': 2597, '2001': 2598, 'stylish': 2599, 'disguis': 2600, 'throat': 2601, 'brando': 2602, 'aspir': 2603, 'baker': 2604, 'fulfil': 2605, 'pound': 2606, '18': 2607, 'em': 2608, 'wanna': 2609, 'wwii': 2610, 'pride': 2611, 'neighborhood': 2612, 'thief': 2613, 'nobl': 2614, 'impli': 2615, 'endear': 2616, 'shoulder': 2617, 'distribut': 2618, 'cinematograph': 2619, 'tens': 2620, 'dawn': 2621, 'dinner': 2622, 'bett': 2623, 'shift': 2624, '16': 2625, 'diseas': 2626, 'bo': 2627, 'prop': 2628, 'coher': 2629, 'albeit': 2630, 'rochest': 2631, 'surf': 2632, 'shout': 2633, 'rebel': 2634, 'wash': 2635, 'function': 2636, 'silenc': 2637, 'knife': 2638, 'contract': 2639, 'matthau': 2640, 'snow': 2641, 'poignant': 2642, 'forti': 2643, 'internet': 2644, 'widmark': 2645, 'eeri': 2646, 'heat': 2647, 'instinct': 2648, 'horrend': 2649, 'height': 2650, 'reunion': 2651, 'proof': 2652, 'henc': 2653, 'duti': 2654, 'silver': 2655, 'mindless': 2656, 'derek': 2657, 'cancel': 2658, 'chuck': 2659, 'elvira': 2660, 'cannib': 2661, 'glori': 2662, 'incoher': 2663, 'alik': 2664, 'mill': 2665, 'premier': 2666, 'absorb': 2667, 'etern': 2668, 'torn': 2669, 'spielberg': 2670, 'repetit': 2671, 'pie': 2672, 'neat': 2673, 'greatli': 2674, 'innov': 2675, 'elvi': 2676, 'musician': 2677, 'racism': 2678, 'britain': 2679, 'nelson': 2680, 'blank': 2681, 'redempt': 2682, 'homag': 2683, 'trite': 2684, 'horrifi': 2685, 'diamond': 2686, 'itali': 2687, 'bang': 2688, 'burton': 2689, 'fbi': 2690, 'wealthi': 2691, 'crisi': 2692, 'lovabl': 2693, 'precis': 2694, 'infam': 2695, 'announc': 2696, 'ensembl': 2697, 'happili': 2698, 'helen': 2699, 'wilder': 2700, 'parallel': 2701, 'chaplin': 2702, 'flop': 2703, 'pat': 2704, 'dedic': 2705, 'streisand': 2706, 'hammer': 2707, 'resolut': 2708, 'disagre': 2709, 'broke': 2710, 'plastic': 2711, 'conclud': 2712, 'cube': 2713, 'oil': 2714, 'carter': 2715, 'st': 2716, 'mar': 2717, 'factori': 2718, 'triumph': 2719, 'march': 2720, 'chuckl': 2721, 'fighter': 2722, 'vega': 2723, 'weight': 2724, 'row': 2725, 'rocket': 2726, 'own': 2727, 'climb': 2728, 'bush': 2729, 'mst3k': 2730, 'enorm': 2731, 'spare': 2732, 'unforgett': 2733, 'boot': 2734, 'kurt': 2735, 'dump': 2736, 'lust': 2737, 'wherea': 2738, 'sensibl': 2739, 'dane': 2740, 'thug': 2741, 'meaning': 2742, 'luca': 2743, 'butt': 2744, 'caricatur': 2745, 'arnold': 2746, 'fifti': 2747, 'stress': 2748, 'adequ': 2749, 'difficulti': 2750, 'bobbi': 2751, 'engin': 2752, 'threat': 2753, 'brand': 2754, 'dear': 2755, 'karloff': 2756, 'rap': 2757, 'arrog': 2758, 'polish': 2759, 'ralph': 2760, 'swing': 2761, 'journalist': 2762, 'homeless': 2763, 'barri': 2764, 'secretari': 2765, 'ego': 2766, 'elabor': 2767, 'hamlet': 2768, 'fest': 2769, 'flynn': 2770, 'resort': 2771, 'unbear': 2772, 'conspiraci': 2773, 'fanci': 2774, 'spike': 2775, 'grate': 2776, 'float': 2777, 'puppet': 2778, 'arrang': 2779, 'tool': 2780, 'induc': 2781, 'simpson': 2782, 'guilt': 2783, 'cruis': 2784, 'pig': 2785, 'tribut': 2786, 'exercis': 2787, 'choreograph': 2788, 'basement': 2789, 'phillip': 2790, 'boll': 2791, 'muppet': 2792, 'layer': 2793, 'toilet': 2794, 'ham': 2795, 'korean': 2796, 'medium': 2797, 'fianc': 2798, 'file': 2799, 'slip': 2800, 'tower': 2801, 'document': 2802, '24': 2803, 'puzzl': 2804, 'babe': 2805, 'scarecrow': 2806, 'ward': 2807, 'stan': 2808, 'editor': 2809, 'item': 2810, 'persona': 2811, 'portion': 2812, 'glover': 2813, 'superfici': 2814, 'inexplic': 2815, 'minim': 2816, 'larger': 2817, 'catherin': 2818, 'orient': 2819, 'transit': 2820, 'territori': 2821, 'librari': 2822, 'slaughter': 2823, 'assur': 2824, 'philosoph': 2825, 'spark': 2826, 'denzel': 2827, 'doc': 2828, 'wolf': 2829, 'financi': 2830, 'curti': 2831, 'jet': 2832, 'dorothi': 2833, 'boredom': 2834, 'pg': 2835, 'sneak': 2836, 'owe': 2837, 'jeremi': 2838, 'walken': 2839, 'shi': 2840, 'ban': 2841, 'whale': 2842, 'hudson': 2843, 'backdrop': 2844, 'metaphor': 2845, 'profound': 2846, 'eleph': 2847, 'ambigu': 2848, 'multi': 2849, 'cusack': 2850, 'notion': 2851, 'elsewher': 2852, 'ultra': 2853, 'stiff': 2854, 'hack': 2855, 'birthday': 2856, 'union': 2857, 'viru': 2858, 'implaus': 2859, '2005': 2860, 'gadget': 2861, 'rave': 2862, 'poison': 2863, 'pad': 2864, '1st': 2865, 'afford': 2866, 'canada': 2867, 'eva': 2868, 'urg': 2869, 'newspap': 2870, 'distanc': 2871, 'disc': 2872, 'squar': 2873, 'slight': 2874, 'hawk': 2875, 'superhero': 2876, 'lloyd': 2877, 'bibl': 2878, 'deriv': 2879, 'reader': 2880, 'eastwood': 2881, 'skit': 2882, 'montag': 2883, 'health': 2884, 'cure': 2885, 'essenc': 2886, 'restaur': 2887, 'spread': 2888, 'charisma': 2889, 'sadist': 2890, 'drown': 2891, 'heston': 2892, 'huh': 2893, 'button': 2894, 'peak': 2895, 'dealt': 2896, 'gradual': 2897, 'godfath': 2898, 'companion': 2899, 'fetch': 2900, 'muslim': 2901, 'maniac': 2902, 'invest': 2903, 'lab': 2904, 'estat': 2905, 'scoobi': 2906, 'ritter': 2907, 'countless': 2908, 'kane': 2909, 'servant': 2910, 'alli': 2911, 'cup': 2912, 'tea': 2913, 'subtleti': 2914, 'miik': 2915, 'gothic': 2916, 'heroic': 2917, 'salli': 2918, 'briefli': 2919, 'electr': 2920, 'elect': 2921, 'iii': 2922, 'charismat': 2923, 'admittedli': 2924, 'wannab': 2925, 'resourc': 2926, 'tender': 2927, 'ingredi': 2928, 'grandmoth': 2929, 'cole': 2930, 'bud': 2931, 'toss': 2932, 'neil': 2933, 'nuanc': 2934, 'reel': 2935, 'kubrick': 2936, 'label': 2937, 'stood': 2938, 'mafia': 2939, 'dawson': 2940, 'punk': 2941, 'carrey': 2942, 'pit': 2943, 'stronger': 2944, 'mild': 2945, 'pauli': 2946, 'poverti': 2947, 'reev': 2948, 'shall': 2949, 'gate': 2950, 'smooth': 2951, 'easier': 2952, 'bakshi': 2953, 'cardboard': 2954, 'fond': 2955, 'useless': 2956, 'ian': 2957, 'smash': 2958, 'updat': 2959, 'outcom': 2960, 'terri': 2961, 'astair': 2962, 'burst': 2963, 'assault': 2964, 'cox': 2965, 'tag': 2966, 'melodramat': 2967, 'vari': 2968, 'rex': 2969, 'fist': 2970, '2002': 2971, 'divers': 2972, 'coincid': 2973, 'increasingli': 2974, 'samurai': 2975, 'sketch': 2976, 'exchang': 2977, 'vulner': 2978, 'qualifi': 2979, 'resolv': 2980, 'blast': 2981, 'luckili': 2982, 'tame': 2983, 'scratch': 2984, 'conveni': 2985, 'insert': 2986, 'be': 2987, 'templ': 2988, 'reynold': 2989, 'suspend': 2990, 'brillianc': 2991, 'coach': 2992, 'strictli': 2993, 'meat': 2994, 'jami': 2995, 'pin': 2996, 'ambiti': 2997, 'seventi': 2998, 'gotta': 2999, 'soprano': 3000, 'nuclear': 3001, 'farm': 3002, 'walker': 3003, 'matthew': 3004, 'fisher': 3005, 'hamilton': 3006, 'monk': 3007, 'convolut': 3008, 'clock': 3009, 'worthless': 3010, 'kudo': 3011, 'brosnan': 3012, 'spooki': 3013, 'grasp': 3014, 'discoveri': 3015, 'closet': 3016, 'timeless': 3017, 'recreat': 3018, 'butcher': 3019, 'revers': 3020, 'eccentr': 3021, 'joey': 3022, 'struck': 3023, 'empir': 3024, 'ninja': 3025, 'instantli': 3026, 'cave': 3027, 'norman': 3028, 'wipe': 3029, 'sidekick': 3030, 'miracl': 3031, 'importantli': 3032, 'mitchel': 3033, 'cliff': 3034, 'communist': 3035, 'bleak': 3036, 'clown': 3037, 'declar': 3038, 'evok': 3039, 'fifteen': 3040, 'gray': 3041, 'eighti': 3042, 'selfish': 3043, 'partli': 3044, 'seller': 3045, 'inconsist': 3046, 'sloppi': 3047, 'pal': 3048, 'aforement': 3049, 'flawless': 3050, 'cheek': 3051, 'chew': 3052, 'lifestyl': 3053, 'farc': 3054, '45': 3055, 'debat': 3056, 'australia': 3057, 'psychiatrist': 3058, 'stoog': 3059, 'superbl': 3060, 'websit': 3061, 'seed': 3062, 'enthusiast': 3063, 'destin': 3064, 'piano': 3065, 'ho': 3066, 'drivel': 3067, 'bash': 3068, 'soviet': 3069, 'anni': 3070, 'kitchen': 3071, 'regardless': 3072, 'dire': 3073, 'slice': 3074, 'wick': 3075, 'pressur': 3076, 'abc': 3077, 'wrestl': 3078, 'splatter': 3079, 'akshay': 3080, 'dash': 3081, 'incompet': 3082, 'directori': 3083, 'emili': 3084, 'flower': 3085, 'increas': 3086, 'beaten': 3087, 'suppli': 3088, 'cameron': 3089, 'cagney': 3090, 'boil': 3091, 'mann': 3092, 'recov': 3093, 'pleasantli': 3094, 'curios': 3095, 'artifici': 3096, 'glow': 3097, 'jar': 3098, 'helicopt': 3099, 'judi': 3100, 'prize': 3101, 'distant': 3102, 'chapter': 3103, 'ken': 3104, 'seduc': 3105, 'doo': 3106, 'duo': 3107, 'dave': 3108, 'cia': 3109, 'lou': 3110, 'blob': 3111, 'splendid': 3112, 'web': 3113, 'drunken': 3114, 'panic': 3115, 'perri': 3116, 'goldberg': 3117, 'craig': 3118, 'francisco': 3119, 'ellen': 3120, 'eleg': 3121, 'turner': 3122, 'favour': 3123, 'hop': 3124, 'combat': 3125, 'ranger': 3126, 'glenn': 3127, 'craven': 3128, 'laurel': 3129, 'psychot': 3130, 'rid': 3131, 'shortli': 3132, 'philosophi': 3133, 'graduat': 3134, 'fx': 3135, 'min': 3136, 'flip': 3137, 'hatr': 3138, 'ruth': 3139, 'greek': 3140, '20th': 3141, 'gandhi': 3142, 'alexand': 3143, 'modesti': 3144, 'gentl': 3145, 'falk': 3146, 'plausibl': 3147, 'slightest': 3148, 'wizard': 3149, 'holi': 3150, 'ocean': 3151, 'preciou': 3152, 'lend': 3153, 'futurist': 3154, 'harm': 3155, 'jealou': 3156, 'manhattan': 3157, 'fund': 3158, 'legal': 3159, 'knight': 3160, 'unpleas': 3161, 'tall': 3162, 'we': 3163, 'dracula': 3164, 'felix': 3165, 'forbidden': 3166, 'ami': 3167, 'thread': 3168, 'mock': 3169, 'giallo': 3170, 'reviv': 3171, 'explicit': 3172, 'scientif': 3173, 'bless': 3174, 'tank': 3175, 'nod': 3176, 'overdon': 3177, 'childish': 3178, 'digniti': 3179, 'broad': 3180, 'yesterday': 3181, 'torment': 3182, 'repeatedli': 3183, 'thick': 3184, '99': 3185, 'verhoeven': 3186, 'fever': 3187, 'nerv': 3188, 'mel': 3189, 'margaret': 3190, 'elderli': 3191, 'unwatch': 3192, 'awaken': 3193, 'pirat': 3194, '2004': 3195, 'awe': 3196, 'eve': 3197, 'royal': 3198, 'romero': 3199, 'publish': 3200, 'acclaim': 3201, 'timothi': 3202, 'roman': 3203, 'ambit': 3204, 'rivet': 3205, 'custom': 3206, 'griffith': 3207, 'eas': 3208, 'absenc': 3209, 'lean': 3210, 'automat': 3211, 'politician': 3212, 'launch': 3213, 'ah': 3214, 'kay': 3215, 'bin': 3216, 'uniform': 3217, 'stiller': 3218, 'crook': 3219, 'antic': 3220, 'wallac': 3221, 'warren': 3222, 'darker': 3223, 'sunshin': 3224, 'bathroom': 3225, 'stinker': 3226, 'gabriel': 3227, 'pulp': 3228, 'pierc': 3229, 'purpl': 3230, 'transport': 3231, 'termin': 3232, 'tomato': 3233, 'foul': 3234, 'phrase': 3235, 'homicid': 3236, 'revolutionari': 3237, 'saint': 3238, 'ought': 3239, '2003': 3240, 'li': 3241, 'viciou': 3242, 'sixti': 3243, 'rambo': 3244, 'donna': 3245, 'album': 3246, 'kenneth': 3247, 'evolv': 3248, 'contrari': 3249, 'coloni': 3250, 'pray': 3251, 'q': 3252, 'marin': 3253, 'horrid': 3254, 'brazil': 3255, 'awak': 3256, 'packag': 3257, 'hollow': 3258, 'juvenil': 3259, 'karen': 3260, 'choreographi': 3261, 'prom': 3262, 'eyr': 3263, 'ireland': 3264, 'defi': 3265, 'candid': 3266, 'stole': 3267, 'blade': 3268, 'option': 3269, 'beatti': 3270, 'boast': 3271, 'twelv': 3272, 'kapoor': 3273, 'ramon': 3274, 'conserv': 3275, 'overr': 3276, 'mildr': 3277, 'dose': 3278, 'mummi': 3279, 'nerd': 3280, 'funer': 3281, 'natali': 3282, 'trio': 3283, 'protest': 3284, 'jazz': 3285, 'confirm': 3286, 'kirk': 3287, 'detract': 3288, 'fulci': 3289, 'flame': 3290, 'astonish': 3291, 'global': 3292, 'altman': 3293, 'collabor': 3294, 'bottl': 3295, 'blake': 3296, 'spit': 3297, 'leap': 3298, 'nicholson': 3299, 'audio': 3300, 'delici': 3301, 'mystic': 3302, 'shade': 3303, 'racial': 3304, 'destini': 3305, 'yellow': 3306, 'bull': 3307, 'whip': 3308, 'tommi': 3309, 'enterpris': 3310, 'merci': 3311, 'neo': 3312, 'reunit': 3313, 'vivid': 3314, 'fonda': 3315, 'enchant': 3316, 'todd': 3317, 'meaningless': 3318, 'inherit': 3319, 'bedroom': 3320, 'harder': 3321, 'visibl': 3322, 'swedish': 3323, 'altogeth': 3324, 'threw': 3325, 'staff': 3326, 'adolesc': 3327, 'popcorn': 3328, 'pseudo': 3329, 'jew': 3330, 'voight': 3331, 'suspici': 3332, 'fanat': 3333, 'exhibit': 3334, 'bust': 3335, 'respond': 3336, 'roommat': 3337, 'wire': 3338, 'crocodil': 3339, 'moodi': 3340, 'await': 3341, 'uneven': 3342, 'kennedi': 3343, 'lemmon': 3344, 'synopsi': 3345, 'befriend': 3346, 'madonna': 3347, 'ruthless': 3348, 'reserv': 3349, 'decor': 3350, 'leonard': 3351, 'tip': 3352, 'lawrenc': 3353, 'edi': 3354, 'atlanti': 3355, 'incident': 3356, 'clumsi': 3357, 'ventur': 3358, 'bold': 3359, 'audit': 3360, 'garner': 3361, 'rural': 3362, 'centr': 3363, 'voyag': 3364, 'abysm': 3365, 'unsettl': 3366, 'chao': 3367, 'dimens': 3368, 'bargain': 3369, '2007': 3370, 'palma': 3371, 'holli': 3372, 'carl': 3373, 'bradi': 3374, 'clint': 3375, 'humili': 3376, 'imperson': 3377, 'troop': 3378, 'nearbi': 3379, 'characterist': 3380, 'tiger': 3381, 'echo': 3382, 'mall': 3383, 'versu': 3384, 'neglect': 3385, 'acknowledg': 3386, 'daddi': 3387, 'cd': 3388, 'ant': 3389, 'immigr': 3390, 'trail': 3391, 'cuba': 3392, '2nd': 3393, 'cari': 3394, 'poetic': 3395, 'lit': 3396, 'wealth': 3397, 'hart': 3398, 'timon': 3399, 'elimin': 3400, 'collaps': 3401, 'paus': 3402, 'domest': 3403, 'repuls': 3404, 'celluloid': 3405, 'prejudic': 3406, 'pun': 3407, 'infect': 3408, 'mistaken': 3409, 'jeffrey': 3410, 'homer': 3411, 'mickey': 3412, 'marshal': 3413, 'solo': 3414, 'saga': 3415, 'hbo': 3416, 'tribe': 3417, 'gear': 3418, 'undoubtedli': 3419, 'harvey': 3420, 'interrupt': 3421, 'assembl': 3422, '1996': 3423, 'apolog': 3424, 'coffe': 3425, 'sore': 3426, 'inan': 3427, 'chest': 3428, 'coat': 3429, 'promin': 3430, 'inappropri': 3431, 'cake': 3432, 'equip': 3433, 'milk': 3434, 'leon': 3435, 'pant': 3436, 'ginger': 3437, 'olivi': 3438, 'institut': 3439, 'solut': 3440, 'maggi': 3441, 'devast': 3442, 'instant': 3443, 'trace': 3444, 'aveng': 3445, 'polanski': 3446, 'furthermor': 3447, 'retain': 3448, 'airplan': 3449, 'primari': 3450, 'consum': 3451, 'jenni': 3452, 'colleagu': 3453, 'humbl': 3454, 'pen': 3455, 'embrac': 3456, 'florida': 3457, 'highest': 3458, 'pot': 3459, 'colonel': 3460, 'vulgar': 3461, 'brooklyn': 3462, 'exot': 3463, 'bowl': 3464, 'dutch': 3465, '3rd': 3466, 'principl': 3467, 'ya': 3468, 'poke': 3469, 'dian': 3470, 'descend': 3471, 'strain': 3472, 'cope': 3473, 'seduct': 3474, 'smaller': 3475, 'disabl': 3476, '1999': 3477, 'outer': 3478, 'illog': 3479, 'sale': 3480, 'wive': 3481, 'linda': 3482, 'godzilla': 3483, 'rick': 3484, 'gender': 3485, 'vast': 3486, 'inferior': 3487, 'glamor': 3488, 'secondli': 3489, 'lol': 3490, 'mixtur': 3491, 'bubbl': 3492, 'cue': 3493, 'rabbit': 3494, 'beneath': 3495, 'predecessor': 3496, 'dive': 3497, 'primarili': 3498, 'yard': 3499, 'gloriou': 3500, 'blatant': 3501, 'dud': 3502, 'devoid': 3503, 'scope': 3504, 'gundam': 3505, 'hal': 3506, 'senseless': 3507, 'breed': 3508, 'myer': 3509, 'domino': 3510, 'shelf': 3511, 'april': 3512, 'aggress': 3513, 'arab': 3514, 'alfr': 3515, 'talki': 3516, 'alert': 3517, 'z': 3518, 'simplist': 3519, 'et': 3520, 'streep': 3521, 'grinch': 3522, 'shirley': 3523, 'trademark': 3524, 'pearl': 3525, 'museum': 3526, 'invas': 3527, 'casual': 3528, 'garbo': 3529, 'countrysid': 3530, 'hideou': 3531, 'disjoint': 3532, 'unhappi': 3533, 'sh': 3534, 'hardcor': 3535, 'hopeless': 3536, 'stir': 3537, 'stack': 3538, 'obtain': 3539, 'maci': 3540, 'boom': 3541, 'khan': 3542, 'rendit': 3543, 'loyal': 3544, 'illeg': 3545, 'robberi': 3546, 'vanish': 3547, 'robinson': 3548, 'applaud': 3549, 'slide': 3550, 'experiment': 3551, 'defens': 3552, 'stellar': 3553, 'mayor': 3554, 'mail': 3555, 'acid': 3556, 'uwe': 3557, 'disgrac': 3558, 'oz': 3559, 'amanda': 3560, 'grandfath': 3561, 'spider': 3562, 'craze': 3563, 'wont': 3564, 'berlin': 3565, 'counter': 3566, 'scroog': 3567, 'topless': 3568, 'dismiss': 3569, 'rifl': 3570, 'tenant': 3571, 'psychic': 3572, 'blew': 3573, 'span': 3574, 'declin': 3575, 'recruit': 3576, 'diana': 3577, 'fri': 3578, 'hartley': 3579, 'emphasi': 3580, 'soccer': 3581, 'incomprehens': 3582, 'dicken': 3583, 'tempt': 3584, 'niro': 3585, 'porno': 3586, 'resurrect': 3587, 'sibl': 3588, 'ration': 3589, 'bitch': 3590, 'trashi': 3591, 'shaw': 3592, 'sympath': 3593, 'woo': 3594, 'wet': 3595, 'shed': 3596, 'goer': 3597, 'faster': 3598, 'lumet': 3599, 'intim': 3600, 'parad': 3601, 'riot': 3602, 'ethnic': 3603, 'revolt': 3604, 'justin': 3605, 'steam': 3606, 'nephew': 3607, 'unreal': 3608, 'feminist': 3609, 'biographi': 3610, 'hopper': 3611, 'honesti': 3612, 'weakest': 3613, 'eager': 3614, 'ballet': 3615, 'choru': 3616, 'mario': 3617, 'hesit': 3618, 'region': 3619, 'jonathan': 3620, 'slick': 3621, 'andr': 3622, 'commend': 3623, '00': 3624, 'enlighten': 3625, 'gap': 3626, 'ensur': 3627, 'lena': 3628, 'immort': 3629, 'patriot': 3630, 'wheel': 3631, 'dealer': 3632, 'farmer': 3633, 'partial': 3634, 'rider': 3635, 'worm': 3636, 'wendi': 3637, 'blunt': 3638, 'repress': 3639, 'leo': 3640, 'confin': 3641, 'sappi': 3642, 'charlott': 3643, 'hung': 3644, 'morri': 3645, 'nostalg': 3646, 'composit': 3647, 'owen': 3648, 'wore': 3649, 'victori': 3650, 'snap': 3651, 'prequel': 3652, 'sandra': 3653, 'safeti': 3654, 'properti': 3655, 'franco': 3656, 'similarli': 3657, 'util': 3658, 'vice': 3659, 'skull': 3660, 'macarthur': 3661, 'psychopath': 3662, 'kingdom': 3663, 'mutant': 3664, 'compens': 3665, 'bergman': 3666, 'despair': 3667, 'speci': 3668, 'tad': 3669, 'cg': 3670, 'dalton': 3671, 'nervou': 3672, 'whoopi': 3673, 'montana': 3674, 'emperor': 3675, 'compass': 3676, 'drain': 3677, 'valuabl': 3678, 'miseri': 3679, 'repli': 3680, 'bow': 3681, 'thru': 3682, 'pattern': 3683, 'dust': 3684, 'latin': 3685, 'rope': 3686, 'del': 3687, 'deed': 3688, 'rocki': 3689, 'exit': 3690, 'heartbreak': 3691, 'rambl': 3692, 'snl': 3693, 'tail': 3694, '1972': 3695, 'recycl': 3696, 'hyde': 3697, 'acquir': 3698, 'drum': 3699, 'bonu': 3700, 'farrel': 3701, 'campbel': 3702, 'bumbl': 3703, 'strand': 3704, 'kyle': 3705, 'oppress': 3706, 'airport': 3707, 'pour': 3708, 'rapist': 3709, 'orson': 3710, 'contempl': 3711, '35': 3712, 'slug': 3713, 'tonight': 3714, 'carradin': 3715, 'martian': 3716, 'percept': 3717, 'romp': 3718, 'mistress': 3719, 'rotten': 3720, 'gimmick': 3721, 'radic': 3722, 'gal': 3723, 'bleed': 3724, 'wacki': 3725, 'roth': 3726, 'downhil': 3727, 'chess': 3728, 'da': 3729, 'olli': 3730, 'banal': 3731, 'pervert': 3732, 'melodi': 3733, 'pursuit': 3734, 'programm': 3735, 'dazzl': 3736, 'stilt': 3737, 'champion': 3738, 'preach': 3739, 'unpredict': 3740, 'paltrow': 3741, 'mislead': 3742, 'tackl': 3743, 'shelley': 3744, 'heal': 3745, 'slash': 3746, 'arguabl': 3747, '1983': 3748, 'belt': 3749, 'taught': 3750, 'arc': 3751, 'tooth': 3752, 'edgar': 3753, 'pervers': 3754, 'attorney': 3755, 'mesmer': 3756, 'vengeanc': 3757, 'chicken': 3758, 'franki': 3759, 'duval': 3760, 'sensat': 3761, 'rubi': 3762, 'passeng': 3763, 'closest': 3764, 'uplift': 3765, 'poem': 3766, 'tiresom': 3767, 'maid': 3768, 'dixon': 3769, 'employe': 3770, 'cleverli': 3771, 'orang': 3772, 'raymond': 3773, 'bela': 3774, 'vocal': 3775, 'plight': 3776, 'graham': 3777, 'virginia': 3778, 'conneri': 3779, 'marti': 3780, 'gambl': 3781, 'suffic': 3782, 'clone': 3783, 'gerard': 3784, 'habit': 3785, 'scottish': 3786, 'sirk': 3787, 'profan': 3788, 'engross': 3789, 'paranoia': 3790, 'monologu': 3791, 'inject': 3792, 'bay': 3793, 'secretli': 3794, 'calm': 3795, 'abraham': 3796, 'mute': 3797, 'amitabh': 3798, 'crystal': 3799, 'lundgren': 3800, 'outing': 3801, 'yawn': 3802, 'climact': 3803, 'extens': 3804, '1968': 3805, 'pokemon': 3806, 'swallow': 3807, 'tube': 3808, 'numb': 3809, 'iran': 3810, 'convincingli': 3811, 'whine': 3812, 'quarter': 3813, 'giggl': 3814, 'volum': 3815, 'frankenstein': 3816, 'ethan': 3817, 'poetri': 3818, 'septemb': 3819, 'earl': 3820, 'dispos': 3821, 'spock': 3822, 'backward': 3823, 'trend': 3824, 'bend': 3825, 'underst': 3826, 'austen': 3827, 'meander': 3828, 'chicago': 3829, 'expand': 3830, 'fed': 3831, 'plod': 3832, 'im': 3833, 'richardson': 3834, 'abort': 3835, 'lowest': 3836, 'taxi': 3837, 'grotesqu': 3838, 'franci': 3839, 'junior': 3840, 'surpass': 3841, 'profess': 3842, 'linger': 3843, 'nichola': 3844, 'tourist': 3845, 'stallon': 3846, 'sue': 3847, 'nostalgia': 3848, 'econom': 3849, 'eugen': 3850, 'spoke': 3851, 'waitress': 3852, 'lure': 3853, 'hum': 3854, 'muddl': 3855, 'compliment': 3856, 'household': 3857, 'dysfunct': 3858, 'descent': 3859, 'myth': 3860, 'greedi': 3861, 'cannon': 3862, 'rant': 3863, 'der': 3864, 'catchi': 3865, 'rubber': 3866, 'simplic': 3867, 'instrument': 3868, 'literatur': 3869, 'mundan': 3870, 'recognit': 3871, 'coast': 3872, 'map': 3873, 'furi': 3874, 'phantom': 3875, 'dement': 3876, 'june': 3877, 'bacal': 3878, 'firstli': 3879, 'mortal': 3880, 'irrelev': 3881, 'omen': 3882, 'phoni': 3883, 'molli': 3884, 'lang': 3885, 'dictat': 3886, 'louis': 3887, 'deaf': 3888, 'flee': 3889, 'crucial': 3890, 'eaten': 3891, 'recognis': 3892, 'insur': 3893, 'randi': 3894, 'damon': 3895, 'duck': 3896, 'alongsid': 3897, 'occupi': 3898, 'carel': 3899, 'cent': 3900, 'mankind': 3901, 'stale': 3902, 'equival': 3903, 'hello': 3904, 'sissi': 3905, 'lengthi': 3906, 'loyalti': 3907, 'dreari': 3908, 'onlin': 3909, 'ashley': 3910, 'damm': 3911, 'cyborg': 3912, 'bump': 3913, 'likewis': 3914, 'freez': 3915, 'wisdom': 3916, 'blackmail': 3917, 'heel': 3918, 'bike': 3919, 'newli': 3920, '1973': 3921, 'reign': 3922, 'labor': 3923, 'rude': 3924, 'buffalo': 3925, 'distinguish': 3926, 'twilight': 3927, 'daisi': 3928, 'antwon': 3929, 'grayson': 3930, 'rooney': 3931, 'drake': 3932, 'biko': 3933, 'exposur': 3934, 'worn': 3935, 'unorigin': 3936, 'butler': 3937, 'interior': 3938, 'basketbal': 3939, 'barrymor': 3940, 'boxer': 3941, 'vein': 3942, 'baddi': 3943, 'provoc': 3944, 'ridden': 3945, 'inher': 3946, 'emphas': 3947, 'sailor': 3948, 'tunnel': 3949, 'startl': 3950, 'keith': 3951, 'attribut': 3952, 'incorpor': 3953, 'chronicl': 3954, 'pink': 3955, 'nineti': 3956, 'approv': 3957, 'prey': 3958, 'proce': 3959, 'analysi': 3960, 'hypnot': 3961, 'bunni': 3962, 'improvis': 3963, 'simmon': 3964, 'belushi': 3965, 'nicol': 3966, 'degrad': 3967, 'predat': 3968, 'millionair': 3969, 'fleet': 3970, 'othello': 3971, 'meyer': 3972, 'stalker': 3973, 'unrel': 3974, 'er': 3975, 'undeni': 3976, 'barrel': 3977, 'substitut': 3978, 'meg': 3979, 'underli': 3980, 'walsh': 3981, 'mormon': 3982, 'drift': 3983, 'mighti': 3984, 'indiffer': 3985, 'robbin': 3986, 'elm': 3987, 'condemn': 3988, 'julian': 3989, 'carla': 3990, 'greed': 3991, 'alison': 3992, '3d': 3993, 'mtv': 3994, 'enthusiasm': 3995, 'warmth': 3996, 'disord': 3997, 'exquisit': 3998, 'alarm': 3999, 'shove': 4000, 'dolph': 4001, 'priceless': 4002, 'watson': 4003, 'vital': 4004, 'edgi': 4005, 'lampoon': 4006, 'reid': 4007, 'hay': 4008, 'unawar': 4009, 'palac': 4010, 'roof': 4011, 'errol': 4012, 'agenda': 4013, 'novak': 4014, 'firm': 4015, 'nyc': 4016, 'marion': 4017, 'rukh': 4018, '13th': 4019, 'thompson': 4020, 'iraq': 4021, '1933': 4022, 'distort': 4023, 'petti': 4024, 'peril': 4025, 'israel': 4026, 'glanc': 4027, 'minimum': 4028, 'drip': 4029, 'crown': 4030, 'pamela': 4031, 'valentin': 4032, 'simultan': 4033, 'what': 4034, 'unleash': 4035, 'sergeant': 4036, 'eastern': 4037, 'cassidi': 4038, 'campaign': 4039, 'spain': 4040, 'nun': 4041, 'randomli': 4042, 'session': 4043, 'ponder': 4044, 'testament': 4045, 'preserv': 4046, 'profit': 4047, 'gestur': 4048, 'angela': 4049, 'championship': 4050, 'showdown': 4051, 'coup': 4052, 'peck': 4053, 'orlean': 4054, 'beatl': 4055, 'zizek': 4056, '1984': 4057, 'climat': 4058, 'perpetu': 4059, 'sabrina': 4060, 'exposit': 4061, 'han': 4062, 'stroke': 4063, 'realm': 4064, 'contradict': 4065, 'travesti': 4066, 'rout': 4067, 'reson': 4068, 'buster': 4069, 'din': 4070, 'calib': 4071, 'brenda': 4072, 'quinn': 4073, 'scotland': 4074, 'kurosawa': 4075, 'empathi': 4076, 'unimagin': 4077, 'fido': 4078, 'cream': 4079, 'wig': 4080, 'restrain': 4081, 'valley': 4082, 'miyazaki': 4083, 'stake': 4084, 'cooki': 4085, 'regist': 4086, 'jan': 4087, 'gentleman': 4088, 'represent': 4089, 'mon': 4090, 'shootout': 4091, 'bro': 4092, 'crow': 4093, 'crawl': 4094, 'fuller': 4095, 'mclaglen': 4096, 'distress': 4097, 'businessman': 4098, 'unsatisfi': 4099, 'censor': 4100, 'dana': 4101, 'ustinov': 4102, 'crawford': 4103, 'compromis': 4104, 'sucker': 4105, '1987': 4106, 'tacki': 4107, 'meryl': 4108, 'demis': 4109, 'geek': 4110, 'warrant': 4111, 'femm': 4112, 'passabl': 4113, 'traumat': 4114, 'wax': 4115, 'baldwin': 4116, 'sammi': 4117, 'darren': 4118, 'ross': 4119, 'perceiv': 4120, 'unseen': 4121, 'derang': 4122, 'josh': 4123, 'cloud': 4124, 'painter': 4125, 'pretens': 4126, 'absent': 4127, 'monoton': 4128, 'shaki': 4129, 'greg': 4130, 'abomin': 4131, 'shoddi': 4132, 'stargat': 4133, 'pole': 4134, 'spacey': 4135, '1997': 4136, 'soderbergh': 4137, 'delic': 4138, 'deceas': 4139, 'nathan': 4140, 'fog': 4141, 'verbal': 4142, 'judgment': 4143, '1993': 4144, 'jewel': 4145, 'reluct': 4146, 'clash': 4147, 'sid': 4148, 'fenc': 4149, 'primit': 4150, 'seal': 4151, 'click': 4152, 'valid': 4153, 'uncov': 4154, 'dee': 4155, 'unravel': 4156, 'correctli': 4157, 'norm': 4158, 'polici': 4159, 'accuraci': 4160, 'austin': 4161, 'furiou': 4162, 'deniro': 4163, 'tech': 4164, 'anchor': 4165, 'exclus': 4166, 'wholli': 4167, 'expedit': 4168, 'kumar': 4169, 'tarantino': 4170, 'antonioni': 4171, 'nicola': 4172, 'darn': 4173, '3000': 4174, 'wretch': 4175, 'sunni': 4176, 'joel': 4177, 'shanghai': 4178, '2008': 4179, 'malon': 4180, 'sustain': 4181, 'vanc': 4182, 'behold': 4183, 'patienc': 4184, 'roller': 4185, 'sheet': 4186, 'enforc': 4187, 'clerk': 4188, 'pocket': 4189, 'mode': 4190, '1995': 4191, 'tax': 4192, 'dreck': 4193, 'murray': 4194, 'debt': 4195, 'fart': 4196, 'trait': 4197, 'slam': 4198, 'temper': 4199, 'conduct': 4200, 'fabric': 4201, 'ritual': 4202, 'wang': 4203, 'alec': 4204, 'bake': 4205, 'logan': 4206, 'crippl': 4207, 'fought': 4208, 'unfair': 4209, 'seldom': 4210, 'sand': 4211, '1971': 4212, 'hallucin': 4213, 'despis': 4214, 'legaci': 4215, 'phil': 4216, 'stuart': 4217, 'bridget': 4218, 'guitar': 4219, 'schedul': 4220, 'shell': 4221, 'runner': 4222, 'helpless': 4223, 'preposter': 4224, 'clau': 4225, 'canyon': 4226, 'divid': 4227, 'rita': 4228, 'robber': 4229, 'preston': 4230, 'sweep': 4231, 'stark': 4232, 'tactic': 4233, 'outlin': 4234, 'grief': 4235, 'exhaust': 4236, 'penni': 4237, 'bias': 4238, 'squad': 4239, 'soup': 4240, 'fundament': 4241, 'critiqu': 4242, 'technicolor': 4243, 'isabel': 4244, 'conscious': 4245, 'pete': 4246, 'scriptwrit': 4247, 'lacklust': 4248, 'jacket': 4249, 'russia': 4250, 'kansa': 4251, 'liberti': 4252, 'marc': 4253, 'invad': 4254, 'unexpectedli': 4255, 'newman': 4256, 'cigarett': 4257, 'agenc': 4258, 'sugar': 4259, 'flair': 4260, 'implic': 4261, 'delv': 4262, 'sniper': 4263, 'passag': 4264, 'alicia': 4265, 'connor': 4266, 'downey': 4267, 'rehash': 4268, 'vomit': 4269, 'consciou': 4270, 'alley': 4271, 'rear': 4272, 'propos': 4273, 'gregori': 4274, 'restrict': 4275, 'jodi': 4276, 'culmin': 4277, 'sentinel': 4278, 'boyl': 4279, 'inabl': 4280, 'bloom': 4281, 'palanc': 4282, 'drove': 4283, 'yeti': 4284, 'rampag': 4285, 'rehears': 4286, 'sharon': 4287, 'awhil': 4288, 'asylum': 4289, '22': 4290, 'aesthet': 4291, 'lush': 4292, 'bacon': 4293, 'cap': 4294, 'ladder': 4295, 'foxx': 4296, '1936': 4297, 'improb': 4298, 'feat': 4299, 'chainsaw': 4300, 'delet': 4301, 'wrench': 4302, 'tendenc': 4303, 'tripe': 4304, 'rod': 4305, 'vet': 4306, 'karl': 4307, 'pale': 4308, 'horn': 4309, 'arrow': 4310, 'kolchak': 4311, 'mccoy': 4312, 'behaviour': 4313, 'shortcom': 4314, 'tomorrow': 4315, 'financ': 4316, 'minu': 4317, 'globe': 4318, 'thunderbird': 4319, 'stream': 4320, 'paradis': 4321, 'loneli': 4322, 'amazon': 4323, 'sung': 4324, 'rhythm': 4325, 'tasteless': 4326, 'prank': 4327, 'filler': 4328, 'lurk': 4329, 'visitor': 4330, 'aristocrat': 4331, 'conscienc': 4332, 'hungri': 4333, '1920': 4334, 'rumor': 4335, 'suspicion': 4336, 'fright': 4337, 'el': 4338, 'spice': 4339, 'wildli': 4340, 'underneath': 4341, 'paramount': 4342, '19th': 4343, '1978': 4344, 'basing': 4345, 'wagner': 4346, 'elit': 4347, '1988': 4348, 'suffici': 4349, 'scoop': 4350, 'newcom': 4351, 'coaster': 4352, 'hackney': 4353, 'hulk': 4354, 'weav': 4355, 'en': 4356, 'entranc': 4357, 'springer': 4358, 'worship': 4359, 'posey': 4360, 'abrupt': 4361, 'beverli': 4362, 'curli': 4363, 'immers': 4364, 'couch': 4365, 'straightforward': 4366, 'inmat': 4367, 'chamberlain': 4368, 'penn': 4369, 'standout': 4370, 'recogniz': 4371, 'teas': 4372, '1939': 4373, 'minist': 4374, 'counterpart': 4375, 'heist': 4376, 'secondari': 4377, 'smell': 4378, 'iv': 4379, 'wwe': 4380, 'dirt': 4381, 'paxton': 4382, 'bread': 4383, 'lectur': 4384, 'grudg': 4385, 'literari': 4386, 'quietli': 4387, 'cancer': 4388, '1989': 4389, 'choppi': 4390, '75': 4391, 'leigh': 4392, 'naughti': 4393, 'atroc': 4394, 'ram': 4395, 'brit': 4396, 'ingeni': 4397, 'rub': 4398, 'impos': 4399, 'hopkin': 4400, 'chavez': 4401, 'tierney': 4402, 'nemesi': 4403, 'watcher': 4404, 'net': 4405, 'skeptic': 4406, 'missil': 4407, 'bernard': 4408, 'cattl': 4409, 'sublim': 4410, 'heartfelt': 4411, 'convert': 4412, 'transcend': 4413, 'ace': 4414, 'morbid': 4415, 'policeman': 4416, '1986': 4417, 'attenborough': 4418, 'clan': 4419, 'injuri': 4420, 'quaid': 4421, 'enthral': 4422, 'ratso': 4423, 'moreov': 4424, 'entitl': 4425, 'lindsay': 4426, 'yearn': 4427, 'misguid': 4428, 'esther': 4429, 'variat': 4430, 'duel': 4431, 'sassi': 4432, 'laurenc': 4433, 'nolan': 4434, 'geni': 4435, 'setup': 4436, 'spiral': 4437, 'hopelessli': 4438, 'unexplain': 4439, 'youngest': 4440, 'puppi': 4441, 'mytholog': 4442, 'reliabl': 4443, 'steadi': 4444, 'bye': 4445, 'moder': 4446, '1979': 4447, 'buzz': 4448, 'egg': 4449, 'out': 4450, 'bean': 4451, 'rosemari': 4452, 'dont': 4453, 'characteris': 4454, 'facil': 4455, 'kidman': 4456, 'cruelti': 4457, 'tyler': 4458, 'artsi': 4459, 'diari': 4460, 'enabl': 4461, 'hk': 4462, 'kitti': 4463, 'poe': 4464, 'grin': 4465, 'graini': 4466, 'brood': 4467, 'vader': 4468, 'obstacl': 4469, 'uncut': 4470, 'carlito': 4471, 'baffl': 4472, 'niec': 4473, 'hammi': 4474, 'acquaint': 4475, 'gina': 4476, 'underworld': 4477, 'despic': 4478, 'spontan': 4479, 'kline': 4480, 'bronson': 4481, 'narrow': 4482, 'weather': 4483, 'effici': 4484, 'clueless': 4485, 'exterior': 4486, 'athlet': 4487, 'patricia': 4488, 'bewar': 4489, 'gillian': 4490, 'bounc': 4491, 'disastr': 4492, 'heap': 4493, 'oblig': 4494, 'martha': 4495, '1969': 4496, 'fuel': 4497, 'sweat': 4498, 'christin': 4499, 'decept': 4500, 'brendan': 4501, 'preming': 4502, 'hain': 4503, 'housewif': 4504, 'hepburn': 4505, 'astound': 4506, 'viewpoint': 4507, 'dandi': 4508, 'rome': 4509, 'loath': 4510, 'sleepwalk': 4511, 'shatter': 4512, 'loi': 4513, 'enlist': 4514, 'outlaw': 4515, 'harmless': 4516, 'insipid': 4517, 'scar': 4518, '73': 4519, 'dilemma': 4520, 'taboo': 4521, 'tick': 4522, 'renaiss': 4523, 'goof': 4524, 'trigger': 4525, '19': 4526, 'analyz': 4527, 'angst': 4528, 'preachi': 4529, 'sooner': 4530, 'mayhem': 4531, 'headach': 4532, 'candl': 4533, 'circu': 4534, 'fontain': 4535, 'suprem': 4536, 'uh': 4537, 'virtu': 4538, 'mermaid': 4539, 'biker': 4540, 'injur': 4541, 'lester': 4542, 'glorifi': 4543, 'foolish': 4544, 'gere': 4545, 'amor': 4546, 'surgeri': 4547, 'spade': 4548, 'oldest': 4549, 'zoom': 4550, 'fluff': 4551, 'claustrophob': 4552, 'redund': 4553, 'salt': 4554, 'stimul': 4555, 'bent': 4556, 'slimi': 4557, 'hostag': 4558, 'tripl': 4559, 'whore': 4560, 'cassavet': 4561, 'scorses': 4562, 'dish': 4563, 'idol': 4564, 'steer': 4565, 'hokey': 4566, 'hooker': 4567, 'dismal': 4568, 'stair': 4569, 'macho': 4570, 'overlong': 4571, 'immatur': 4572, 'phenomenon': 4573, 'boston': 4574, 'camcord': 4575, 'contempt': 4576, 'filth': 4577, 'intric': 4578, 'ariel': 4579, 'ebert': 4580, 'sox': 4581, 'guin': 4582, 'corbett': 4583, 'dwarf': 4584, 'flirt': 4585, 'naschi': 4586, 'beard': 4587, 'harold': 4588, 'preced': 4589, 'zane': 4590, 'mutual': 4591, 'alvin': 4592, '1976': 4593, 'cow': 4594, '1981': 4595, 'keen': 4596, 'frantic': 4597, 'shred': 4598, 'spree': 4599, 'margin': 4600, 'down': 4601, 'radiat': 4602, 'faint': 4603, 'gabl': 4604, 'transplant': 4605, 'assert': 4606, 'muscl': 4607, 'cush': 4608, 'widescreen': 4609, 'cohen': 4610, 'perman': 4611, 'spinal': 4612, 'proport': 4613, 'conquer': 4614, 'nolt': 4615, 'schlock': 4616, 'gasp': 4617, 'astronaut': 4618, 'flashi': 4619, 'remad': 4620, 'shield': 4621, 'messi': 4622, 'trivia': 4623, 'obligatori': 4624, 'corman': 4625, 'strongest': 4626, 'joker': 4627, 'mount': 4628, 'flag': 4629, 'fascist': 4630, 'antagonist': 4631, 'rhyme': 4632, 'bitten': 4633, 'interestingli': 4634, 'mol': 4635, 'scandal': 4636, 'www': 4637, 'claud': 4638, '95': 4639, 'departur': 4640, 'aborigin': 4641, 'fishburn': 4642, 'mobil': 4643, 'info': 4644, 'discern': 4645, 'brush': 4646, 'someday': 4647, 'wield': 4648, 'divin': 4649, 'raj': 4650, 'bachelor': 4651, 'persuad': 4652, 'inflict': 4653, 'off': 4654, 'triangl': 4655, 'sensual': 4656, 'hara': 4657, 'flock': 4658, 'archiv': 4659, 'carey': 4660, 'resum': 4661, 'vaniti': 4662, 'neurot': 4663, '28': 4664, 'strive': 4665, 'instruct': 4666, 'boob': 4667, '1945': 4668, 'ritchi': 4669, 'deer': 4670, 'repris': 4671, 'barn': 4672, 'danish': 4673, 'cher': 4674, 'prophet': 4675, 'senior': 4676, 'hug': 4677, 'dim': 4678, 'axe': 4679, 'proclaim': 4680, 'heartwarm': 4681, 'harrison': 4682, 'hilar': 4683, 'luka': 4684, 'neill': 4685, 'helm': 4686, 'ish': 4687, 'pickford': 4688, 'loretta': 4689, 'artwork': 4690, 'mobster': 4691, 'dame': 4692, 'bate': 4693, 'carlo': 4694, 'frontier': 4695, 'colin': 4696, 'cb': 4697, 'clad': 4698, 'vibrant': 4699, 'dylan': 4700, 'casino': 4701, 'miracul': 4702, 'submit': 4703, 'traffic': 4704, 'parson': 4705, 'cycl': 4706, 'pixar': 4707, 'rot': 4708, 'kathryn': 4709, 'melissa': 4710, 'undermin': 4711, 'wendigo': 4712, 'pacif': 4713, 'recit': 4714, 'banter': 4715, 'cliffhang': 4716, 'earnest': 4717, 'jade': 4718, 'biblic': 4719, 'europa': 4720, 'timberlak': 4721, 'anton': 4722, 'hapless': 4723, 'fragil': 4724, 'bondag': 4725, 'sicken': 4726, 'foil': 4727, 'bikini': 4728, 'legitim': 4729, 'http': 4730, 'rooki': 4731, 'estrang': 4732, 'cerebr': 4733, 'flavor': 4734, 'choke': 4735, 'antholog': 4736, 'electron': 4737, 'breakfast': 4738, 'blatantli': 4739, 'vile': 4740, 'feast': 4741, 'seedi': 4742, 'isra': 4743, 'northern': 4744, 'razor': 4745, 'akin': 4746, 'token': 4747, 'jo': 4748, 'static': 4749, 'misfortun': 4750, 'aris': 4751, 'lucil': 4752, 'mason': 4753, 'shepherd': 4754, 'redneck': 4755, 'vanessa': 4756, 'uma': 4757, 'trier': 4758, 'orphan': 4759, 'toronto': 4760, 'jordan': 4761, 'mathieu': 4762, 'venom': 4763, 'wardrob': 4764, 'milo': 4765, 'articl': 4766, 'nope': 4767, 'eli': 4768, 'pc': 4769, 'marlon': 4770, 'alexandr': 4771, 'holocaust': 4772, 'lui': 4773, 'illus': 4774, 'winchest': 4775, 'tack': 4776, 'audrey': 4777, 'cartoonish': 4778, 'smack': 4779, 'disregard': 4780, 'shorter': 4781, 'clinic': 4782, 'ceremoni': 4783, 'gunga': 4784, 'retriev': 4785, 'comprehend': 4786, 'deem': 4787, 'outdat': 4788, 'highway': 4789, 'styliz': 4790, 'knightley': 4791, 'swept': 4792, 'charlton': 4793, 'wrestler': 4794, 'boyer': 4795, 'leather': 4796, 'psych': 4797, 'fifth': 4798, 'linear': 4799, 'feminin': 4800, 'turd': 4801, 'oppon': 4802, 'magician': 4803, 'nightclub': 4804, 'glare': 4805, 'frog': 4806, 'dudley': 4807, 'affleck': 4808, 'howl': 4809, 'ideolog': 4810, 'huston': 4811, 'abund': 4812, 'gilbert': 4813, 'peer': 4814, 'cemeteri': 4815, 'moe': 4816, 'energet': 4817, 'durat': 4818, '1994': 4819, '4th': 4820, 'lavish': 4821, 'chip': 4822, 'uniformli': 4823, 'lifeless': 4824, 'btw': 4825, 'greet': 4826, 'spawn': 4827, 'monument': 4828, 'phenomen': 4829, 'evolut': 4830, 'snatch': 4831, 'sleaz': 4832, 'tara': 4833, 'breakdown': 4834, 'spine': 4835, 'potter': 4836, 'client': 4837, 'salman': 4838, 'collector': 4839, '1991': 4840, 'braveheart': 4841, 'bogu': 4842, 'conrad': 4843, 'summar': 4844, 'lighter': 4845, 'boo': 4846, 'senat': 4847, 'toe': 4848, 'deliver': 4849, 'newer': 4850, 'corn': 4851, 'bastard': 4852, 'mitch': 4853, 'cuban': 4854, 'whack': 4855, 'compris': 4856, 'plate': 4857, 'goldsworthi': 4858, 'einstein': 4859, 'wtf': 4860, 'armstrong': 4861, 'outright': 4862, 'signal': 4863, 'embark': 4864, 'constitut': 4865, 'sorrow': 4866, 'nina': 4867, 'spectacl': 4868, 'jam': 4869, 'firmli': 4870, 'capot': 4871, 'judd': 4872, 'jare': 4873, 'kent': 4874, 'appl': 4875, 'healthi': 4876, 'trauma': 4877, 'historian': 4878, 'creek': 4879, 'fluid': 4880, 'gilliam': 4881, 'mcqueen': 4882, 'alleg': 4883, 'bulk': 4884, 'neatli': 4885, 'randolph': 4886, 'eleven': 4887, 'belli': 4888, 'bori': 4889, 'clara': 4890, 'inaccuraci': 4891, 'ol': 4892, 'replay': 4893, 'jule': 4894, 'undead': 4895, 'liu': 4896, '1977': 4897, 'pronounc': 4898, 'evelyn': 4899, 'occup': 4900, 'ie': 4901, '1974': 4902, 'lex': 4903, 'jedi': 4904, 'cecil': 4905, 'undertak': 4906, 'kazan': 4907, 'luxuri': 4908, 'unsuspect': 4909, 'mum': 4910, 'walt': 4911, 'decapit': 4912, 'goldblum': 4913, 'porter': 4914, 'lauren': 4915, 'rosario': 4916, 'subtli': 4917, 'conan': 4918, 'genet': 4919, 'kiddi': 4920, 'galaxi': 4921, 'sidewalk': 4922, 'knee': 4923, 'aussi': 4924, 'truman': 4925, 'fruit': 4926, 'poker': 4927, 'ash': 4928, 'blur': 4929, 'groan': 4930, 'inaccur': 4931, 'palm': 4932, 'unattract': 4933, '1985': 4934, 'miami': 4935, 'comprehens': 4936, 'basket': 4937, 'tokyo': 4938, 'vignett': 4939, 'antonio': 4940, 'pioneer': 4941, 'relentless': 4942, 'pepper': 4943, 'abound': 4944, 'sacrif': 4945, 'spray': 4946, 'lanc': 4947, 'curtain': 4948, 'forgiven': 4949, 'roar': 4950, 'comb': 4951, 'paula': 4952, 'id': 4953, 'congratul': 4954, 'inclus': 4955, 'cape': 4956, 'vain': 4957, 'bsg': 4958, 'carmen': 4959, 'propheci': 4960, 'meal': 4961, 'miniseri': 4962, 'bait': 4963, 'substanti': 4964, 'ingrid': 4965, 'mice': 4966, 'hostil': 4967, 'weari': 4968, 'assort': 4969, 'verg': 4970, 'omin': 4971, 'macabr': 4972, 'epitom': 4973, 'weaker': 4974, 'sophi': 4975, 'bravo': 4976, 'turtl': 4977, 'spill': 4978, 'victorian': 4979, '21st': 4980, 'optimist': 4981, 'sparkl': 4982, 'evan': 4983, 'profil': 4984, 'drone': 4985, 'playboy': 4986, 'frontal': 4987, 'rapidli': 4988, 'asset': 4989, 'bach': 4990, 'orchestr': 4991, 'growth': 4992, 'cypher': 4993, 'handicap': 4994, 'scarfac': 4995, 'monti': 4996, 'ghetto': 4997, 'dubiou': 4998, 'hackman': 4999}\n"
     ]
    }
   ],
   "source": [
    "print(word_dict)"
   ]
  },
  {
   "cell_type": "markdown",
   "metadata": {},
   "source": [
    "**Question:** What are the five most frequently appearing (tokenized) words in the training set? Does it makes sense that these words appear frequently in the training set?"
   ]
  },
  {
   "cell_type": "markdown",
   "metadata": {},
   "source": [
    "**Answer:**\n",
    "\n",
    "- 1 - movi\n",
    "- 2 - film\n",
    "- 3 - one\n",
    "- 4 - like\n",
    "- 5 - time\n"
   ]
  },
  {
   "cell_type": "code",
   "execution_count": 15,
   "metadata": {},
   "outputs": [
    {
     "name": "stdout",
     "output_type": "stream",
     "text": [
      "1 - movi\n",
      "2 - film\n",
      "3 - one\n",
      "4 - like\n",
      "5 - time\n"
     ]
    }
   ],
   "source": [
    "# TODO: Use this space to determine the five most frequently appearing words in the training set.\n",
    "count = 0\n",
    "\n",
    "for word in word_dict:\n",
    "    \n",
    "    print(count+1 ,'-',word )\n",
    "    \n",
    "    if count > 3:\n",
    "        break\n",
    "    \n",
    "    count += 1"
   ]
  },
  {
   "cell_type": "markdown",
   "metadata": {},
   "source": [
    "### Save `word_dict`\n",
    "\n",
    "Later on when we construct an endpoint which processes a submitted review we will need to make use of the `word_dict` which we have created. As such, we will save it to a file now for future use."
   ]
  },
  {
   "cell_type": "code",
   "execution_count": 16,
   "metadata": {},
   "outputs": [],
   "source": [
    "data_dir = '../data/pytorch' # The folder we will use for storing data\n",
    "if not os.path.exists(data_dir): # Make sure that the folder exists\n",
    "    os.makedirs(data_dir)"
   ]
  },
  {
   "cell_type": "code",
   "execution_count": 17,
   "metadata": {},
   "outputs": [],
   "source": [
    "with open(os.path.join(data_dir, 'word_dict.pkl'), \"wb\") as f:\n",
    "    pickle.dump(word_dict, f)"
   ]
  },
  {
   "cell_type": "markdown",
   "metadata": {},
   "source": [
    "### Transform the reviews\n",
    "\n",
    "Now that we have our word dictionary which allows us to transform the words appearing in the reviews into integers, it is time to make use of it and convert our reviews to their integer sequence representation, making sure to pad or truncate to a fixed length, which in our case is `500`."
   ]
  },
  {
   "cell_type": "code",
   "execution_count": 18,
   "metadata": {},
   "outputs": [],
   "source": [
    "def convert_and_pad(word_dict, sentence, pad=500):\n",
    "    NOWORD = 0 # We will use 0 to represent the 'no word' category\n",
    "    INFREQ = 1 # and we use 1 to represent the infrequent words, i.e., words not appearing in word_dict\n",
    "    \n",
    "    working_sentence = [NOWORD] * pad\n",
    "    \n",
    "    for word_index, word in enumerate(sentence[:pad]):\n",
    "        if word in word_dict:\n",
    "            working_sentence[word_index] = word_dict[word]\n",
    "        else:\n",
    "            working_sentence[word_index] = INFREQ\n",
    "            \n",
    "    return working_sentence, min(len(sentence), pad)\n",
    "\n",
    "def convert_and_pad_data(word_dict, data, pad=500):\n",
    "    result = []\n",
    "    lengths = []\n",
    "    \n",
    "    for sentence in data:\n",
    "        converted, leng = convert_and_pad(word_dict, sentence, pad)\n",
    "        result.append(converted)\n",
    "        lengths.append(leng)\n",
    "        \n",
    "    return np.array(result), np.array(lengths)"
   ]
  },
  {
   "cell_type": "code",
   "execution_count": 19,
   "metadata": {},
   "outputs": [],
   "source": [
    "train_X, train_X_len = convert_and_pad_data(word_dict, train_X)\n",
    "test_X, test_X_len = convert_and_pad_data(word_dict, test_X)"
   ]
  },
  {
   "cell_type": "markdown",
   "metadata": {},
   "source": [
    "As a quick check to make sure that things are working as intended, check to see what one of the reviews in the training set looks like after having been processeed. Does this look reasonable? What is the length of a review in the training set?"
   ]
  },
  {
   "cell_type": "code",
   "execution_count": 20,
   "metadata": {
    "scrolled": true
   },
   "outputs": [
    {
     "data": {
      "text/plain": [
       "array([ 841,  536,  171,  241,  603,    1,  481, 4057,  951,   99,    4,\n",
       "         53,  154,  171,  500,  443,  197,  985,   11,  674, 2491,  357,\n",
       "          2,   14,   45,  316,  331,    1,  350,    9,    1,  772,  154,\n",
       "         67,   39,   30,  225,   12,    2,  171,  154,    8,  277, 1870,\n",
       "          9,   32,   62,   31,  227, 1037,  216,   43,    1,  266,   31,\n",
       "        900,   32,   22,   51,   16,   61,   75,   29, 1242, 3166,  572,\n",
       "       4058,  216,    9, 1066,    1,  154,  494,  143, 1246,    2,  586,\n",
       "        129, 1991, 1232, 1516,  572, 1266, 3706,    9,  100,  240,  753,\n",
       "       4314,    3, 1102,  227, 1037,  281,   73,  807,   19, 1024,   44,\n",
       "        854,    1,   44,   72,    1,  278,  286,  656,  539,  115,  302,\n",
       "         73,   17, 1980,   24,  140,  396,  674,    3,  294,  177,   43,\n",
       "       1431,    0,    0,    0,    0,    0,    0,    0,    0,    0,    0,\n",
       "          0,    0,    0,    0,    0,    0,    0,    0,    0,    0,    0,\n",
       "          0,    0,    0,    0,    0,    0,    0,    0,    0,    0,    0,\n",
       "          0,    0,    0,    0,    0,    0,    0,    0,    0,    0,    0,\n",
       "          0,    0,    0,    0,    0,    0,    0,    0,    0,    0,    0,\n",
       "          0,    0,    0,    0,    0,    0,    0,    0,    0,    0,    0,\n",
       "          0,    0,    0,    0,    0,    0,    0,    0,    0,    0,    0,\n",
       "          0,    0,    0,    0,    0,    0,    0,    0,    0,    0,    0,\n",
       "          0,    0,    0,    0,    0,    0,    0,    0,    0,    0,    0,\n",
       "          0,    0,    0,    0,    0,    0,    0,    0,    0,    0,    0,\n",
       "          0,    0,    0,    0,    0,    0,    0,    0,    0,    0,    0,\n",
       "          0,    0,    0,    0,    0,    0,    0,    0,    0,    0,    0,\n",
       "          0,    0,    0,    0,    0,    0,    0,    0,    0,    0,    0,\n",
       "          0,    0,    0,    0,    0,    0,    0,    0,    0,    0,    0,\n",
       "          0,    0,    0,    0,    0,    0,    0,    0,    0,    0,    0,\n",
       "          0,    0,    0,    0,    0,    0,    0,    0,    0,    0,    0,\n",
       "          0,    0,    0,    0,    0,    0,    0,    0,    0,    0,    0,\n",
       "          0,    0,    0,    0,    0,    0,    0,    0,    0,    0,    0,\n",
       "          0,    0,    0,    0,    0,    0,    0,    0,    0,    0,    0,\n",
       "          0,    0,    0,    0,    0,    0,    0,    0,    0,    0,    0,\n",
       "          0,    0,    0,    0,    0,    0,    0,    0,    0,    0,    0,\n",
       "          0,    0,    0,    0,    0,    0,    0,    0,    0,    0,    0,\n",
       "          0,    0,    0,    0,    0,    0,    0,    0,    0,    0,    0,\n",
       "          0,    0,    0,    0,    0,    0,    0,    0,    0,    0,    0,\n",
       "          0,    0,    0,    0,    0,    0,    0,    0,    0,    0,    0,\n",
       "          0,    0,    0,    0,    0,    0,    0,    0,    0,    0,    0,\n",
       "          0,    0,    0,    0,    0,    0,    0,    0,    0,    0,    0,\n",
       "          0,    0,    0,    0,    0,    0,    0,    0,    0,    0,    0,\n",
       "          0,    0,    0,    0,    0,    0,    0,    0,    0,    0,    0,\n",
       "          0,    0,    0,    0,    0,    0,    0,    0,    0,    0,    0,\n",
       "          0,    0,    0,    0,    0,    0,    0,    0,    0,    0,    0,\n",
       "          0,    0,    0,    0,    0,    0,    0,    0,    0,    0,    0,\n",
       "          0,    0,    0,    0,    0,    0,    0,    0,    0,    0,    0,\n",
       "          0,    0,    0,    0,    0,    0,    0,    0,    0,    0,    0,\n",
       "          0,    0,    0,    0,    0])"
      ]
     },
     "execution_count": 20,
     "metadata": {},
     "output_type": "execute_result"
    }
   ],
   "source": [
    "# Use this cell to examine one of the processed reviews to make sure everything is working as intended.\n",
    "train_X[1]"
   ]
  },
  {
   "cell_type": "markdown",
   "metadata": {},
   "source": [
    "**Question:** In the cells above we use the `preprocess_data` and `convert_and_pad_data` methods to process both the training and testing set. Why or why not might this be a problem?"
   ]
  },
  {
   "cell_type": "markdown",
   "metadata": {},
   "source": [
    "**Answer:**\n",
    "\n",
    "- It cleans up the text and ensures that the input vectors are all the same size.\n",
    "- Despite the fact that each review has a varied word length, the training data is of the same length. \n",
    "- It's possible that this will take a lot of memory."
   ]
  },
  {
   "cell_type": "markdown",
   "metadata": {},
   "source": [
    "## Step 3: Upload the data to S3\n",
    "\n",
    "As in the XGBoost notebook, we will need to upload the training dataset to S3 in order for our training code to access it. For now we will save it locally and we will upload to S3 later on.\n",
    "\n",
    "### Save the processed training dataset locally\n",
    "\n",
    "It is important to note the format of the data that we are saving as we will need to know it when we write the training code. In our case, each row of the dataset has the form `label`, `length`, `review[500]` where `review[500]` is a sequence of `500` integers representing the words in the review."
   ]
  },
  {
   "cell_type": "code",
   "execution_count": 21,
   "metadata": {},
   "outputs": [],
   "source": [
    "import pandas as pd\n",
    "    \n",
    "pd.concat([pd.DataFrame(train_y), pd.DataFrame(train_X_len), pd.DataFrame(train_X)], axis=1) \\\n",
    "        .to_csv(os.path.join(data_dir, 'train.csv'), header=False, index=False)"
   ]
  },
  {
   "cell_type": "markdown",
   "metadata": {},
   "source": [
    "### Uploading the training data\n",
    "\n",
    "\n",
    "Next, we need to upload the training data to the SageMaker default S3 bucket so that we can provide access to it while training our model."
   ]
  },
  {
   "cell_type": "code",
   "execution_count": 22,
   "metadata": {},
   "outputs": [],
   "source": [
    "import sagemaker\n",
    "\n",
    "sagemaker_session = sagemaker.Session()\n",
    "\n",
    "bucket = sagemaker_session.default_bucket()\n",
    "prefix = 'sagemaker/sentiment_rnn'\n",
    "\n",
    "role = sagemaker.get_execution_role()"
   ]
  },
  {
   "cell_type": "code",
   "execution_count": 23,
   "metadata": {},
   "outputs": [],
   "source": [
    "input_data = sagemaker_session.upload_data(path=data_dir, bucket=bucket, key_prefix=prefix)"
   ]
  },
  {
   "cell_type": "markdown",
   "metadata": {},
   "source": [
    "**NOTE:** The cell above uploads the entire contents of our data directory. This includes the `word_dict.pkl` file. This is fortunate as we will need this later on when we create an endpoint that accepts an arbitrary review. For now, we will just take note of the fact that it resides in the data directory (and so also in the S3 training bucket) and that we will need to make sure it gets saved in the model directory."
   ]
  },
  {
   "cell_type": "markdown",
   "metadata": {},
   "source": [
    "## Step 4: Build and Train the PyTorch Model\n",
    "\n",
    "In the XGBoost notebook we discussed what a model is in the SageMaker framework. In particular, a model comprises three objects\n",
    "\n",
    " - Model Artifacts,\n",
    " - Training Code, and\n",
    " - Inference Code,\n",
    " \n",
    "each of which interact with one another. In the XGBoost example we used training and inference code that was provided by Amazon. Here we will still be using containers provided by Amazon with the added benefit of being able to include our own custom code.\n",
    "\n",
    "We will start by implementing our own neural network in PyTorch along with a training script. For the purposes of this project we have provided the necessary model object in the `model.py` file, inside of the `train` folder. You can see the provided implementation by running the cell below."
   ]
  },
  {
   "cell_type": "code",
   "execution_count": 24,
   "metadata": {},
   "outputs": [
    {
     "name": "stdout",
     "output_type": "stream",
     "text": [
      "\u001b[34mimport\u001b[39;49;00m \u001b[04m\u001b[36mtorch\u001b[39;49;00m\u001b[04m\u001b[36m.\u001b[39;49;00m\u001b[04m\u001b[36mnn\u001b[39;49;00m \u001b[34mas\u001b[39;49;00m \u001b[04m\u001b[36mnn\u001b[39;49;00m\r\n",
      "\r\n",
      "\u001b[34mclass\u001b[39;49;00m \u001b[04m\u001b[32mLSTMClassifier\u001b[39;49;00m(nn.Module):\r\n",
      "    \u001b[33m\"\"\"\u001b[39;49;00m\r\n",
      "\u001b[33m    This is the simple RNN model we will be using to perform Sentiment Analysis.\u001b[39;49;00m\r\n",
      "\u001b[33m    \"\"\"\u001b[39;49;00m\r\n",
      "\r\n",
      "    \u001b[34mdef\u001b[39;49;00m \u001b[32m__init__\u001b[39;49;00m(\u001b[36mself\u001b[39;49;00m, embedding_dim, hidden_dim, vocab_size):\r\n",
      "        \u001b[33m\"\"\"\u001b[39;49;00m\r\n",
      "\u001b[33m        Initialize the model by settingg up the various layers.\u001b[39;49;00m\r\n",
      "\u001b[33m        \"\"\"\u001b[39;49;00m\r\n",
      "        \u001b[36msuper\u001b[39;49;00m(LSTMClassifier, \u001b[36mself\u001b[39;49;00m).\u001b[32m__init__\u001b[39;49;00m()\r\n",
      "\r\n",
      "        \u001b[36mself\u001b[39;49;00m.embedding = nn.Embedding(vocab_size, embedding_dim, padding_idx=\u001b[34m0\u001b[39;49;00m)\r\n",
      "        \u001b[36mself\u001b[39;49;00m.lstm = nn.LSTM(embedding_dim, hidden_dim)\r\n",
      "        \u001b[36mself\u001b[39;49;00m.dense = nn.Linear(in_features=hidden_dim, out_features=\u001b[34m1\u001b[39;49;00m)\r\n",
      "        \u001b[36mself\u001b[39;49;00m.sig = nn.Sigmoid()\r\n",
      "        \r\n",
      "        \u001b[36mself\u001b[39;49;00m.word_dict = \u001b[34mNone\u001b[39;49;00m\r\n",
      "\r\n",
      "    \u001b[34mdef\u001b[39;49;00m \u001b[32mforward\u001b[39;49;00m(\u001b[36mself\u001b[39;49;00m, x):\r\n",
      "        \u001b[33m\"\"\"\u001b[39;49;00m\r\n",
      "\u001b[33m        Perform a forward pass of our model on some input.\u001b[39;49;00m\r\n",
      "\u001b[33m        \"\"\"\u001b[39;49;00m\r\n",
      "        x = x.t()\r\n",
      "        lengths = x[\u001b[34m0\u001b[39;49;00m,:]\r\n",
      "        reviews = x[\u001b[34m1\u001b[39;49;00m:,:]\r\n",
      "        embeds = \u001b[36mself\u001b[39;49;00m.embedding(reviews)\r\n",
      "        lstm_out, _ = \u001b[36mself\u001b[39;49;00m.lstm(embeds)\r\n",
      "        out = \u001b[36mself\u001b[39;49;00m.dense(lstm_out)\r\n",
      "        out = out[lengths - \u001b[34m1\u001b[39;49;00m, \u001b[36mrange\u001b[39;49;00m(\u001b[36mlen\u001b[39;49;00m(lengths))]\r\n",
      "        \u001b[34mreturn\u001b[39;49;00m \u001b[36mself\u001b[39;49;00m.sig(out.squeeze())\r\n"
     ]
    }
   ],
   "source": [
    "!pygmentize train/model.py"
   ]
  },
  {
   "cell_type": "markdown",
   "metadata": {},
   "source": [
    "The important takeaway from the implementation provided is that there are three parameters that we may wish to tweak to improve the performance of our model. These are the embedding dimension, the hidden dimension and the size of the vocabulary. We will likely want to make these parameters configurable in the training script so that if we wish to modify them we do not need to modify the script itself. We will see how to do this later on. To start we will write some of the training code in the notebook so that we can more easily diagnose any issues that arise.\n",
    "\n",
    "First we will load a small portion of the training data set to use as a sample. It would be very time consuming to try and train the model completely in the notebook as we do not have access to a gpu and the compute instance that we are using is not particularly powerful. However, we can work on a small bit of the data to get a feel for how our training script is behaving."
   ]
  },
  {
   "cell_type": "code",
   "execution_count": 25,
   "metadata": {},
   "outputs": [],
   "source": [
    "import torch\n",
    "import torch.utils.data\n",
    "\n",
    "# Read in only the first 250 rows\n",
    "train_sample = pd.read_csv(os.path.join(data_dir, 'train.csv'), header=None, names=None, nrows=250)\n",
    "\n",
    "# Turn the input pandas dataframe into tensors\n",
    "train_sample_y = torch.from_numpy(train_sample[[0]].values).float().squeeze()\n",
    "train_sample_X = torch.from_numpy(train_sample.drop([0], axis=1).values).long()\n",
    "\n",
    "# Build the dataset\n",
    "train_sample_ds = torch.utils.data.TensorDataset(train_sample_X, train_sample_y)\n",
    "# Build the dataloader\n",
    "train_sample_dl = torch.utils.data.DataLoader(train_sample_ds, batch_size=50)"
   ]
  },
  {
   "cell_type": "markdown",
   "metadata": {},
   "source": [
    "### (TODO) Writing the training method\n",
    "\n",
    "Next we need to write the training code itself. This should be very similar to training methods that you have written before to train PyTorch models. We will leave any difficult aspects such as model saving / loading and parameter loading until a little later."
   ]
  },
  {
   "cell_type": "code",
   "execution_count": 26,
   "metadata": {},
   "outputs": [],
   "source": [
    "\n",
    "def train(model, train_loader, epochs, optimizer, loss_fn, device):\n",
    "    for epoch in range(1, epochs + 1):\n",
    "        model.train()\n",
    "        total_loss = 0\n",
    "        for batch in train_loader:         \n",
    "            batch_X, batch_y = batch\n",
    "            \n",
    "            batch_X = batch_X.to(device)\n",
    "            batch_y = batch_y.to(device)\n",
    "            \n",
    "            # TODO: Complete this train method to train the model provided.\n",
    "            \n",
    "            optimizer.zero_grad()\n",
    "            \n",
    "            out = model.forward(batch_X)\n",
    "            \n",
    "            loss = loss_fn(out, batch_y)\n",
    "            \n",
    "            loss.backward()\n",
    "            \n",
    "            optimizer.step()\n",
    "            \n",
    "            total_loss += loss.data.item()\n",
    "        print(\"Epoch: {}, BCELoss: {}\".format(epoch, total_loss / len(train_loader)))"
   ]
  },
  {
   "cell_type": "markdown",
   "metadata": {},
   "source": [
    "Supposing we have the training method above, we will test that it is working by writing a bit of code in the notebook that executes our training method on the small sample training set that we loaded earlier. The reason for doing this in the notebook is so that we have an opportunity to fix any errors that arise early when they are easier to diagnose."
   ]
  },
  {
   "cell_type": "code",
   "execution_count": 27,
   "metadata": {},
   "outputs": [
    {
     "name": "stdout",
     "output_type": "stream",
     "text": [
      "Epoch: 1, BCELoss: 0.6928461790084839\n",
      "Epoch: 2, BCELoss: 0.6824610590934753\n",
      "Epoch: 3, BCELoss: 0.6738748788833618\n",
      "Epoch: 4, BCELoss: 0.6651048779487609\n",
      "Epoch: 5, BCELoss: 0.6553874611854553\n"
     ]
    }
   ],
   "source": [
    "import torch.optim as optim\n",
    "from train.model import LSTMClassifier\n",
    "\n",
    "device = torch.device(\"cuda\" if torch.cuda.is_available() else \"cpu\")\n",
    "model = LSTMClassifier(32, 100, 5000).to(device)\n",
    "optimizer = optim.Adam(model.parameters())\n",
    "loss_fn = torch.nn.BCELoss()\n",
    "\n",
    "train(model, train_sample_dl, 5, optimizer, loss_fn, device)"
   ]
  },
  {
   "cell_type": "markdown",
   "metadata": {},
   "source": [
    "In order to construct a PyTorch model using SageMaker we must provide SageMaker with a training script. We may optionally include a directory which will be copied to the container and from which our training code will be run. When the training container is executed it will check the uploaded directory (if there is one) for a `requirements.txt` file and install any required Python libraries, after which the training script will be run."
   ]
  },
  {
   "cell_type": "markdown",
   "metadata": {},
   "source": [
    "### (TODO) Training the model\n",
    "\n",
    "When a PyTorch model is constructed in SageMaker, an entry point must be specified. This is the Python file which will be executed when the model is trained. Inside of the `train` directory is a file called `train.py` which has been provided and which contains most of the necessary code to train our model. The only thing that is missing is the implementation of the `train()` method which you wrote earlier in this notebook.\n",
    "\n",
    "**TODO**: Copy the `train()` method written above and paste it into the `train/train.py` file where required.\n",
    "\n",
    "The way that SageMaker passes hyperparameters to the training script is by way of arguments. These arguments can then be parsed and used in the training script. To see how this is done take a look at the provided `train/train.py` file."
   ]
  },
  {
   "cell_type": "code",
   "execution_count": 28,
   "metadata": {},
   "outputs": [],
   "source": [
    "from sagemaker.pytorch import PyTorch\n",
    "\n",
    "estimator = PyTorch(entry_point=\"train.py\",\n",
    "                    source_dir=\"train\",\n",
    "                    role=role,\n",
    "                    framework_version='0.4.0',\n",
    "                    train_instance_count=1,\n",
    "                    train_instance_type='ml.m4.xlarge',\n",
    "                    hyperparameters={\n",
    "                        'epochs': 10,\n",
    "                        'hidden_dim': 200,\n",
    "                    })"
   ]
  },
  {
   "cell_type": "code",
   "execution_count": 29,
   "metadata": {},
   "outputs": [
    {
     "name": "stderr",
     "output_type": "stream",
     "text": [
      "'create_image_uri' will be deprecated in favor of 'ImageURIProvider' class in SageMaker Python SDK v2.\n",
      "'s3_input' class will be renamed to 'TrainingInput' in SageMaker Python SDK v2.\n",
      "'create_image_uri' will be deprecated in favor of 'ImageURIProvider' class in SageMaker Python SDK v2.\n"
     ]
    },
    {
     "name": "stdout",
     "output_type": "stream",
     "text": [
      "2021-12-10 23:06:06 Starting - Starting the training job...\n",
      "2021-12-10 23:06:07 Starting - Launching requested ML instances...\n",
      "2021-12-10 23:06:55 Starting - Preparing the instances for training.........\n",
      "2021-12-10 23:08:26 Downloading - Downloading input data...\n",
      "2021-12-10 23:08:55 Training - Downloading the training image..\u001b[34mbash: cannot set terminal process group (-1): Inappropriate ioctl for device\u001b[0m\n",
      "\u001b[34mbash: no job control in this shell\u001b[0m\n",
      "\u001b[34m2021-12-10 23:09:16,427 sagemaker-containers INFO     Imported framework sagemaker_pytorch_container.training\u001b[0m\n",
      "\u001b[34m2021-12-10 23:09:16,430 sagemaker-containers INFO     No GPUs detected (normal if no gpus installed)\u001b[0m\n",
      "\u001b[34m2021-12-10 23:09:16,449 sagemaker_pytorch_container.training INFO     Block until all host DNS lookups succeed.\u001b[0m\n",
      "\u001b[34m2021-12-10 23:09:16,453 sagemaker_pytorch_container.training INFO     Invoking user training script.\u001b[0m\n",
      "\u001b[34m2021-12-10 23:09:16,867 sagemaker-containers INFO     Module train does not provide a setup.py. \u001b[0m\n",
      "\u001b[34mGenerating setup.py\u001b[0m\n",
      "\u001b[34m2021-12-10 23:09:16,867 sagemaker-containers INFO     Generating setup.cfg\u001b[0m\n",
      "\u001b[34m2021-12-10 23:09:16,868 sagemaker-containers INFO     Generating MANIFEST.in\u001b[0m\n",
      "\u001b[34m2021-12-10 23:09:16,868 sagemaker-containers INFO     Installing module with the following command:\u001b[0m\n",
      "\u001b[34m/usr/bin/python -m pip install -U . -r requirements.txt\u001b[0m\n",
      "\u001b[34mProcessing /opt/ml/code\u001b[0m\n",
      "\u001b[34mCollecting pandas (from -r requirements.txt (line 1))\n",
      "  Downloading https://files.pythonhosted.org/packages/74/24/0cdbf8907e1e3bc5a8da03345c23cbed7044330bb8f73bb12e711a640a00/pandas-0.24.2-cp35-cp35m-manylinux1_x86_64.whl (10.0MB)\u001b[0m\n",
      "\u001b[34mCollecting numpy (from -r requirements.txt (line 2))\n",
      "  Downloading https://files.pythonhosted.org/packages/b5/36/88723426b4ff576809fec7d73594fe17a35c27f8d01f93637637a29ae25b/numpy-1.18.5-cp35-cp35m-manylinux1_x86_64.whl (19.9MB)\u001b[0m\n",
      "\u001b[34mCollecting nltk (from -r requirements.txt (line 3))\n",
      "  Downloading https://files.pythonhosted.org/packages/5e/37/9532ddd4b1bbb619333d5708aaad9bf1742f051a664c3c6fa6632a105fd8/nltk-3.6.2-py3-none-any.whl (1.5MB)\u001b[0m\n",
      "\u001b[34mCollecting beautifulsoup4 (from -r requirements.txt (line 4))\n",
      "  Downloading https://files.pythonhosted.org/packages/69/bf/f0f194d3379d3f3347478bd267f754fc68c11cbf2fe302a6ab69447b1417/beautifulsoup4-4.10.0-py3-none-any.whl (97kB)\u001b[0m\n",
      "\u001b[34mCollecting html5lib (from -r requirements.txt (line 5))\n",
      "  Downloading https://files.pythonhosted.org/packages/6c/dd/a834df6482147d48e225a49515aabc28974ad5a4ca3215c18a882565b028/html5lib-1.1-py2.py3-none-any.whl (112kB)\u001b[0m\n",
      "\u001b[34mRequirement already satisfied, skipping upgrade: python-dateutil>=2.5.0 in /usr/local/lib/python3.5/dist-packages (from pandas->-r requirements.txt (line 1)) (2.7.5)\u001b[0m\n",
      "\u001b[34mCollecting pytz>=2011k (from pandas->-r requirements.txt (line 1))\u001b[0m\n",
      "\u001b[34m  Downloading https://files.pythonhosted.org/packages/d3/e3/d9f046b5d1c94a3aeab15f1f867aa414f8ee9d196fae6865f1d6a0ee1a0b/pytz-2021.3-py2.py3-none-any.whl (503kB)\u001b[0m\n",
      "\u001b[34mRequirement already satisfied, skipping upgrade: click in /usr/local/lib/python3.5/dist-packages (from nltk->-r requirements.txt (line 3)) (7.0)\u001b[0m\n",
      "\u001b[34mCollecting joblib (from nltk->-r requirements.txt (line 3))\n",
      "  Downloading https://files.pythonhosted.org/packages/28/5c/cf6a2b65a321c4a209efcdf64c2689efae2cb62661f8f6f4bb28547cf1bf/joblib-0.14.1-py2.py3-none-any.whl (294kB)\u001b[0m\n",
      "\u001b[34mCollecting tqdm (from nltk->-r requirements.txt (line 3))\n",
      "  Downloading https://files.pythonhosted.org/packages/63/f3/b7a1b8e40fd1bd049a34566eb353527bb9b8e9b98f8b6cf803bb64d8ce95/tqdm-4.62.3-py2.py3-none-any.whl (76kB)\u001b[0m\n",
      "\u001b[34mCollecting regex (from nltk->-r requirements.txt (line 3))\u001b[0m\n",
      "\u001b[34m  Downloading https://files.pythonhosted.org/packages/97/cd/93ad08b2f97ec95da0bd860380ce0ac7481eaccc760356ee11eda369c048/regex-2021.11.10.tar.gz (702kB)\u001b[0m\n",
      "\u001b[34mCollecting soupsieve>1.2 (from beautifulsoup4->-r requirements.txt (line 4))\n",
      "  Downloading https://files.pythonhosted.org/packages/02/fb/1c65691a9aeb7bd6ac2aa505b84cb8b49ac29c976411c6ab3659425e045f/soupsieve-2.1-py3-none-any.whl\u001b[0m\n",
      "\u001b[34mCollecting webencodings (from html5lib->-r requirements.txt (line 5))\n",
      "  Downloading https://files.pythonhosted.org/packages/f4/24/2a3e3df732393fed8b3ebf2ec078f05546de641fe1b667ee316ec1dcf3b7/webencodings-0.5.1-py2.py3-none-any.whl\u001b[0m\n",
      "\u001b[34mRequirement already satisfied, skipping upgrade: six>=1.9 in /usr/local/lib/python3.5/dist-packages (from html5lib->-r requirements.txt (line 5)) (1.11.0)\u001b[0m\n",
      "\u001b[34mBuilding wheels for collected packages: train, regex\n",
      "  Running setup.py bdist_wheel for train: started\u001b[0m\n",
      "\n",
      "2021-12-10 23:09:15 Training - Training image download completed. Training in progress.\u001b[34m  Running setup.py bdist_wheel for train: finished with status 'done'\n",
      "  Stored in directory: /tmp/pip-ephem-wheel-cache-zrgyse8w/wheels/35/24/16/37574d11bf9bde50616c67372a334f94fa8356bc7164af8ca3\n",
      "  Running setup.py bdist_wheel for regex: started\u001b[0m\n",
      "\u001b[34m  Running setup.py bdist_wheel for regex: finished with status 'done'\n",
      "  Stored in directory: /root/.cache/pip/wheels/cd/5d/f5/8d8fa6ffd0251556598eb71da0c5c0374bca976273ade005ed\u001b[0m\n",
      "\u001b[34mSuccessfully built train regex\u001b[0m\n",
      "\u001b[34mInstalling collected packages: pytz, numpy, pandas, joblib, tqdm, regex, nltk, soupsieve, beautifulsoup4, webencodings, html5lib, train\n",
      "  Found existing installation: numpy 1.15.4\u001b[0m\n",
      "\u001b[34m    Uninstalling numpy-1.15.4:\u001b[0m\n",
      "\u001b[34m      Successfully uninstalled numpy-1.15.4\u001b[0m\n",
      "\u001b[34mSuccessfully installed beautifulsoup4-4.10.0 html5lib-1.1 joblib-0.14.1 nltk-3.6.2 numpy-1.18.5 pandas-0.24.2 pytz-2021.3 regex-2021.11.10 soupsieve-2.1 tqdm-4.62.3 train-1.0.0 webencodings-0.5.1\u001b[0m\n",
      "\u001b[34mYou are using pip version 18.1, however version 20.3.4 is available.\u001b[0m\n",
      "\u001b[34mYou should consider upgrading via the 'pip install --upgrade pip' command.\u001b[0m\n",
      "\u001b[34m2021-12-10 23:09:40,760 sagemaker-containers INFO     No GPUs detected (normal if no gpus installed)\u001b[0m\n",
      "\u001b[34m2021-12-10 23:09:40,776 sagemaker-containers INFO     Invoking user script\u001b[0m\n",
      "\u001b[34mTraining Env:\u001b[0m\n",
      "\u001b[34m{\n",
      "    \"current_host\": \"algo-1\",\n",
      "    \"num_cpus\": 4,\n",
      "    \"network_interface_name\": \"eth0\",\n",
      "    \"hosts\": [\n",
      "        \"algo-1\"\n",
      "    ],\n",
      "    \"module_dir\": \"s3://sagemaker-us-east-2-391270272405/sagemaker-pytorch-2021-12-10-23-06-05-759/source/sourcedir.tar.gz\",\n",
      "    \"hyperparameters\": {\n",
      "        \"epochs\": 10,\n",
      "        \"hidden_dim\": 200\n",
      "    },\n",
      "    \"input_config_dir\": \"/opt/ml/input/config\",\n",
      "    \"module_name\": \"train\",\n",
      "    \"additional_framework_parameters\": {},\n",
      "    \"user_entry_point\": \"train.py\",\n",
      "    \"num_gpus\": 0,\n",
      "    \"output_intermediate_dir\": \"/opt/ml/output/intermediate\",\n",
      "    \"model_dir\": \"/opt/ml/model\",\n",
      "    \"input_dir\": \"/opt/ml/input\",\n",
      "    \"channel_input_dirs\": {\n",
      "        \"training\": \"/opt/ml/input/data/training\"\n",
      "    },\n",
      "    \"job_name\": \"sagemaker-pytorch-2021-12-10-23-06-05-759\",\n",
      "    \"output_data_dir\": \"/opt/ml/output/data\",\n",
      "    \"resource_config\": {\n",
      "        \"hosts\": [\n",
      "            \"algo-1\"\n",
      "        ],\n",
      "        \"current_host\": \"algo-1\",\n",
      "        \"network_interface_name\": \"eth0\"\n",
      "    },\n",
      "    \"input_data_config\": {\n",
      "        \"training\": {\n",
      "            \"TrainingInputMode\": \"File\",\n",
      "            \"RecordWrapperType\": \"None\",\n",
      "            \"S3DistributionType\": \"FullyReplicated\"\n",
      "        }\n",
      "    },\n",
      "    \"output_dir\": \"/opt/ml/output\",\n",
      "    \"framework_module\": \"sagemaker_pytorch_container.training:main\",\n",
      "    \"log_level\": 20\u001b[0m\n",
      "\u001b[34m}\u001b[0m\n",
      "\u001b[34mEnvironment variables:\u001b[0m\n",
      "\u001b[34mSM_CURRENT_HOST=algo-1\u001b[0m\n",
      "\u001b[34mSM_HP_HIDDEN_DIM=200\u001b[0m\n",
      "\u001b[34mSM_MODEL_DIR=/opt/ml/model\u001b[0m\n",
      "\u001b[34mSM_TRAINING_ENV={\"additional_framework_parameters\":{},\"channel_input_dirs\":{\"training\":\"/opt/ml/input/data/training\"},\"current_host\":\"algo-1\",\"framework_module\":\"sagemaker_pytorch_container.training:main\",\"hosts\":[\"algo-1\"],\"hyperparameters\":{\"epochs\":10,\"hidden_dim\":200},\"input_config_dir\":\"/opt/ml/input/config\",\"input_data_config\":{\"training\":{\"RecordWrapperType\":\"None\",\"S3DistributionType\":\"FullyReplicated\",\"TrainingInputMode\":\"File\"}},\"input_dir\":\"/opt/ml/input\",\"job_name\":\"sagemaker-pytorch-2021-12-10-23-06-05-759\",\"log_level\":20,\"model_dir\":\"/opt/ml/model\",\"module_dir\":\"s3://sagemaker-us-east-2-391270272405/sagemaker-pytorch-2021-12-10-23-06-05-759/source/sourcedir.tar.gz\",\"module_name\":\"train\",\"network_interface_name\":\"eth0\",\"num_cpus\":4,\"num_gpus\":0,\"output_data_dir\":\"/opt/ml/output/data\",\"output_dir\":\"/opt/ml/output\",\"output_intermediate_dir\":\"/opt/ml/output/intermediate\",\"resource_config\":{\"current_host\":\"algo-1\",\"hosts\":[\"algo-1\"],\"network_interface_name\":\"eth0\"},\"user_entry_point\":\"train.py\"}\u001b[0m\n",
      "\u001b[34mSM_NUM_GPUS=0\u001b[0m\n",
      "\u001b[34mSM_INPUT_DATA_CONFIG={\"training\":{\"RecordWrapperType\":\"None\",\"S3DistributionType\":\"FullyReplicated\",\"TrainingInputMode\":\"File\"}}\u001b[0m\n",
      "\u001b[34mSM_CHANNELS=[\"training\"]\u001b[0m\n",
      "\u001b[34mSM_HP_EPOCHS=10\u001b[0m\n",
      "\u001b[34mSM_HPS={\"epochs\":10,\"hidden_dim\":200}\u001b[0m\n",
      "\u001b[34mSM_USER_ARGS=[\"--epochs\",\"10\",\"--hidden_dim\",\"200\"]\u001b[0m\n",
      "\u001b[34mSM_OUTPUT_DATA_DIR=/opt/ml/output/data\u001b[0m\n",
      "\u001b[34mSM_INPUT_DIR=/opt/ml/input\u001b[0m\n",
      "\u001b[34mSM_OUTPUT_DIR=/opt/ml/output\u001b[0m\n",
      "\u001b[34mSM_RESOURCE_CONFIG={\"current_host\":\"algo-1\",\"hosts\":[\"algo-1\"],\"network_interface_name\":\"eth0\"}\u001b[0m\n",
      "\u001b[34mSM_HOSTS=[\"algo-1\"]\u001b[0m\n",
      "\u001b[34mSM_USER_ENTRY_POINT=train.py\u001b[0m\n",
      "\u001b[34mPYTHONPATH=/usr/local/bin:/usr/lib/python35.zip:/usr/lib/python3.5:/usr/lib/python3.5/plat-x86_64-linux-gnu:/usr/lib/python3.5/lib-dynload:/usr/local/lib/python3.5/dist-packages:/usr/lib/python3/dist-packages\u001b[0m\n",
      "\u001b[34mSM_LOG_LEVEL=20\u001b[0m\n",
      "\u001b[34mSM_INPUT_CONFIG_DIR=/opt/ml/input/config\u001b[0m\n",
      "\u001b[34mSM_CHANNEL_TRAINING=/opt/ml/input/data/training\u001b[0m\n",
      "\u001b[34mSM_OUTPUT_INTERMEDIATE_DIR=/opt/ml/output/intermediate\u001b[0m\n",
      "\u001b[34mSM_MODULE_DIR=s3://sagemaker-us-east-2-391270272405/sagemaker-pytorch-2021-12-10-23-06-05-759/source/sourcedir.tar.gz\u001b[0m\n",
      "\u001b[34mSM_NETWORK_INTERFACE_NAME=eth0\u001b[0m\n",
      "\u001b[34mSM_NUM_CPUS=4\u001b[0m\n",
      "\u001b[34mSM_MODULE_NAME=train\u001b[0m\n",
      "\u001b[34mSM_FRAMEWORK_PARAMS={}\u001b[0m\n",
      "\u001b[34mSM_FRAMEWORK_MODULE=sagemaker_pytorch_container.training:main\u001b[0m\n",
      "\u001b[34mInvoking script with the following command:\u001b[0m\n",
      "\u001b[34m/usr/bin/python -m train --epochs 10 --hidden_dim 200\u001b[0m\n",
      "\u001b[34mUsing device cpu.\u001b[0m\n",
      "\u001b[34mGet train data loader.\u001b[0m\n",
      "\u001b[34mModel loaded with embedding_dim 32, hidden_dim 200, vocab_size 5000.\u001b[0m\n",
      "\u001b[34mEpoch: 1, BCELoss: 0.6736323955107708\u001b[0m\n",
      "\u001b[34mEpoch: 2, BCELoss: 0.6148907615213978\u001b[0m\n",
      "\u001b[34mEpoch: 3, BCELoss: 0.5210039232458387\u001b[0m\n",
      "\u001b[34mEpoch: 4, BCELoss: 0.44096861445173924\u001b[0m\n",
      "\u001b[34mEpoch: 5, BCELoss: 0.38361030026358\u001b[0m\n",
      "\u001b[34mEpoch: 6, BCELoss: 0.3433040356149479\u001b[0m\n",
      "\u001b[34mEpoch: 7, BCELoss: 0.32356029627274496\u001b[0m\n",
      "\u001b[34mEpoch: 8, BCELoss: 0.3057824148207295\u001b[0m\n",
      "\u001b[34mEpoch: 9, BCELoss: 0.28233909089954534\u001b[0m\n",
      "\u001b[34mEpoch: 10, BCELoss: 0.2650977315343156\u001b[0m\n",
      "\u001b[34m2021-12-11 01:01:06,975 sagemaker-containers INFO     Reporting training SUCCESS\u001b[0m\n",
      "\n",
      "2021-12-11 01:01:15 Uploading - Uploading generated training model\n",
      "2021-12-11 01:01:15 Completed - Training job completed\n",
      "Training seconds: 6769\n",
      "Billable seconds: 6769\n"
     ]
    }
   ],
   "source": [
    "estimator.fit({'training': input_data})"
   ]
  },
  {
   "cell_type": "markdown",
   "metadata": {},
   "source": [
    "## Step 5: Testing the model\n",
    "\n",
    "As mentioned at the top of this notebook, we will be testing this model by first deploying it and then sending the testing data to the deployed endpoint. We will do this so that we can make sure that the deployed model is working correctly.\n",
    "\n",
    "## Step 6: Deploy the model for testing\n",
    "\n",
    "Now that we have trained our model, we would like to test it to see how it performs. Currently our model takes input of the form `review_length, review[500]` where `review[500]` is a sequence of `500` integers which describe the words present in the review, encoded using `word_dict`. Fortunately for us, SageMaker provides built-in inference code for models with simple inputs such as this.\n",
    "\n",
    "There is one thing that we need to provide, however, and that is a function which loads the saved model. This function must be called `model_fn()` and takes as its only parameter a path to the directory where the model artifacts are stored. This function must also be present in the python file which we specified as the entry point. In our case the model loading function has been provided and so no changes need to be made.\n",
    "\n",
    "**NOTE**: When the built-in inference code is run it must import the `model_fn()` method from the `train.py` file. This is why the training code is wrapped in a main guard ( ie, `if __name__ == '__main__':` )\n",
    "\n",
    "Since we don't need to change anything in the code that was uploaded during training, we can simply deploy the current model as-is.\n",
    "\n",
    "**NOTE:** When deploying a model you are asking SageMaker to launch an compute instance that will wait for data to be sent to it. As a result, this compute instance will continue to run until *you* shut it down. This is important to know since the cost of a deployed endpoint depends on how long it has been running for.\n",
    "\n",
    "In other words **If you are no longer using a deployed endpoint, shut it down!**\n",
    "\n",
    "**TODO:** Deploy the trained model."
   ]
  },
  {
   "cell_type": "code",
   "execution_count": 30,
   "metadata": {},
   "outputs": [
    {
     "name": "stderr",
     "output_type": "stream",
     "text": [
      "Parameter image will be renamed to image_uri in SageMaker Python SDK v2.\n",
      "'create_image_uri' will be deprecated in favor of 'ImageURIProvider' class in SageMaker Python SDK v2.\n"
     ]
    },
    {
     "name": "stdout",
     "output_type": "stream",
     "text": [
      "------!"
     ]
    }
   ],
   "source": [
    "# TODO: Deploy the trained model\n",
    "\n",
    "predictor = estimator.deploy(initial_instance_count=1, instance_type='ml.m4.xlarge')"
   ]
  },
  {
   "cell_type": "markdown",
   "metadata": {},
   "source": [
    "## Step 7 - Use the model for testing\n",
    "\n",
    "Once deployed, we can read in the test data and send it off to our deployed model to get some results. Once we collect all of the results we can determine how accurate our model is."
   ]
  },
  {
   "cell_type": "code",
   "execution_count": 31,
   "metadata": {},
   "outputs": [],
   "source": [
    "test_X = pd.concat([pd.DataFrame(test_X_len), pd.DataFrame(test_X)], axis=1)"
   ]
  },
  {
   "cell_type": "code",
   "execution_count": 32,
   "metadata": {},
   "outputs": [],
   "source": [
    "# We split the data into chunks and send each chunk seperately, accumulating the results.\n",
    "\n",
    "def predict(data, rows=512):\n",
    "    split_array = np.array_split(data, int(data.shape[0] / float(rows) + 1))\n",
    "    predictions = np.array([])\n",
    "    for array in split_array:\n",
    "        predictions = np.append(predictions, predictor.predict(array))\n",
    "    \n",
    "    return predictions"
   ]
  },
  {
   "cell_type": "code",
   "execution_count": 33,
   "metadata": {},
   "outputs": [],
   "source": [
    "predictions = predict(test_X.values)\n",
    "predictions = [round(num) for num in predictions]"
   ]
  },
  {
   "cell_type": "code",
   "execution_count": 34,
   "metadata": {},
   "outputs": [
    {
     "data": {
      "text/plain": [
       "0.86196"
      ]
     },
     "execution_count": 34,
     "metadata": {},
     "output_type": "execute_result"
    }
   ],
   "source": [
    "from sklearn.metrics import accuracy_score\n",
    "accuracy_score(test_y, predictions)"
   ]
  },
  {
   "cell_type": "markdown",
   "metadata": {},
   "source": [
    "**Question:** How does this model compare to the XGBoost model you created earlier? Why might these two models perform differently on this dataset? Which do *you* think is better for sentiment analysis?"
   ]
  },
  {
   "cell_type": "markdown",
   "metadata": {},
   "source": [
    "**Answer:**\n",
    "\n",
    "- The deployment method is the same, but this model outperforms the XGBoost. The method of data cleaning could be one of the explanations. In addition, the network employed is more extensive."
   ]
  },
  {
   "cell_type": "markdown",
   "metadata": {},
   "source": [
    "### (TODO) More testing\n",
    "\n",
    "We now have a trained model which has been deployed and which we can send processed reviews to and which returns the predicted sentiment. However, ultimately we would like to be able to send our model an unprocessed review. That is, we would like to send the review itself as a string. For example, suppose we wish to send the following review to our model."
   ]
  },
  {
   "cell_type": "code",
   "execution_count": 35,
   "metadata": {},
   "outputs": [],
   "source": [
    "test_review = 'The simplest pleasures in life are the best, and this film is one of them. Combining a rather basic storyline of love and adventure this movie transcends the usual weekend fair with wit and unmitigated charm.'"
   ]
  },
  {
   "cell_type": "markdown",
   "metadata": {},
   "source": [
    "The question we now need to answer is, how do we send this review to our model?\n",
    "\n",
    "Recall in the first section of this notebook we did a bunch of data processing to the IMDb dataset. In particular, we did two specific things to the provided reviews.\n",
    " - Removed any html tags and stemmed the input\n",
    " - Encoded the review as a sequence of integers using `word_dict`\n",
    " \n",
    "In order process the review we will need to repeat these two steps.\n",
    "\n",
    "**TODO**: Using the `review_to_words` and `convert_and_pad` methods from section one, convert `test_review` into a numpy array `test_data` suitable to send to our model. Remember that our model expects input of the form `review_length, review[500]`. So make sure you produce two variables from processing: \n",
    "- A sequence of length 500 which represents the converted review\n",
    "- The length of the review"
   ]
  },
  {
   "cell_type": "code",
   "execution_count": 36,
   "metadata": {},
   "outputs": [],
   "source": [
    "# TODO: Convert test_review into a form usable by the model and save the results in test_data\n",
    "\n",
    "test_data, len_test  = convert_and_pad(word_dict, review_to_words(test_review))\n",
    "\n",
    "test_data = np.array([np.array([len_test] + test_data)])"
   ]
  },
  {
   "cell_type": "markdown",
   "metadata": {},
   "source": [
    "Now that we have processed the review, we can send the resulting array to our model to predict the sentiment of the review."
   ]
  },
  {
   "cell_type": "code",
   "execution_count": 37,
   "metadata": {},
   "outputs": [
    {
     "data": {
      "text/plain": [
       "array(0.8941104, dtype=float32)"
      ]
     },
     "execution_count": 37,
     "metadata": {},
     "output_type": "execute_result"
    }
   ],
   "source": [
    "predictor.predict(test_data)"
   ]
  },
  {
   "cell_type": "markdown",
   "metadata": {},
   "source": [
    "Since the return value of our model is close to `1`, we can be certain that the review we submitted is positive."
   ]
  },
  {
   "cell_type": "markdown",
   "metadata": {},
   "source": [
    "### Delete the endpoint\n",
    "\n",
    "Of course, just like in the XGBoost notebook, once we've deployed an endpoint it continues to run until we tell it to shut down. Since we are done using our endpoint for now, we can delete it."
   ]
  },
  {
   "cell_type": "code",
   "execution_count": 38,
   "metadata": {},
   "outputs": [
    {
     "name": "stderr",
     "output_type": "stream",
     "text": [
      "estimator.delete_endpoint() will be deprecated in SageMaker Python SDK v2. Please use the delete_endpoint() function on your predictor instead.\n"
     ]
    }
   ],
   "source": [
    "estimator.delete_endpoint()"
   ]
  },
  {
   "cell_type": "markdown",
   "metadata": {},
   "source": [
    "## Step 6 (again) - Deploy the model for the web app\n",
    "\n",
    "Now that we know that our model is working, it's time to create some custom inference code so that we can send the model a review which has not been processed and have it determine the sentiment of the review.\n",
    "\n",
    "As we saw above, by default the estimator which we created, when deployed, will use the entry script and directory which we provided when creating the model. However, since we now wish to accept a string as input and our model expects a processed review, we need to write some custom inference code.\n",
    "\n",
    "We will store the code that we write in the `serve` directory. Provided in this directory is the `model.py` file that we used to construct our model, a `utils.py` file which contains the `review_to_words` and `convert_and_pad` pre-processing functions which we used during the initial data processing, and `predict.py`, the file which will contain our custom inference code. Note also that `requirements.txt` is present which will tell SageMaker what Python libraries are required by our custom inference code.\n",
    "\n",
    "When deploying a PyTorch model in SageMaker, you are expected to provide four functions which the SageMaker inference container will use.\n",
    " - `model_fn`: This function is the same function that we used in the training script and it tells SageMaker how to load our model.\n",
    " - `input_fn`: This function receives the raw serialized input that has been sent to the model's endpoint and its job is to de-serialize and make the input available for the inference code.\n",
    " - `output_fn`: This function takes the output of the inference code and its job is to serialize this output and return it to the caller of the model's endpoint.\n",
    " - `predict_fn`: The heart of the inference script, this is where the actual prediction is done and is the function which you will need to complete.\n",
    "\n",
    "For the simple website that we are constructing during this project, the `input_fn` and `output_fn` methods are relatively straightforward. We only require being able to accept a string as input and we expect to return a single value as output. You might imagine though that in a more complex application the input or output may be image data or some other binary data which would require some effort to serialize.\n",
    "\n",
    "### (TODO) Writing inference code\n",
    "\n",
    "Before writing our custom inference code, we will begin by taking a look at the code which has been provided."
   ]
  },
  {
   "cell_type": "code",
   "execution_count": 39,
   "metadata": {},
   "outputs": [
    {
     "name": "stdout",
     "output_type": "stream",
     "text": [
      "\u001b[34mimport\u001b[39;49;00m \u001b[04m\u001b[36margparse\u001b[39;49;00m\r\n",
      "\u001b[34mimport\u001b[39;49;00m \u001b[04m\u001b[36mjson\u001b[39;49;00m\r\n",
      "\u001b[34mimport\u001b[39;49;00m \u001b[04m\u001b[36mos\u001b[39;49;00m\r\n",
      "\u001b[34mimport\u001b[39;49;00m \u001b[04m\u001b[36mpickle\u001b[39;49;00m\r\n",
      "\u001b[34mimport\u001b[39;49;00m \u001b[04m\u001b[36msys\u001b[39;49;00m\r\n",
      "\u001b[34mimport\u001b[39;49;00m \u001b[04m\u001b[36msagemaker_containers\u001b[39;49;00m\r\n",
      "\u001b[34mimport\u001b[39;49;00m \u001b[04m\u001b[36mpandas\u001b[39;49;00m \u001b[34mas\u001b[39;49;00m \u001b[04m\u001b[36mpd\u001b[39;49;00m\r\n",
      "\u001b[34mimport\u001b[39;49;00m \u001b[04m\u001b[36mnumpy\u001b[39;49;00m \u001b[34mas\u001b[39;49;00m \u001b[04m\u001b[36mnp\u001b[39;49;00m\r\n",
      "\u001b[34mimport\u001b[39;49;00m \u001b[04m\u001b[36mtorch\u001b[39;49;00m\r\n",
      "\u001b[34mimport\u001b[39;49;00m \u001b[04m\u001b[36mtorch\u001b[39;49;00m\u001b[04m\u001b[36m.\u001b[39;49;00m\u001b[04m\u001b[36mnn\u001b[39;49;00m \u001b[34mas\u001b[39;49;00m \u001b[04m\u001b[36mnn\u001b[39;49;00m\r\n",
      "\u001b[34mimport\u001b[39;49;00m \u001b[04m\u001b[36mtorch\u001b[39;49;00m\u001b[04m\u001b[36m.\u001b[39;49;00m\u001b[04m\u001b[36moptim\u001b[39;49;00m \u001b[34mas\u001b[39;49;00m \u001b[04m\u001b[36moptim\u001b[39;49;00m\r\n",
      "\u001b[34mimport\u001b[39;49;00m \u001b[04m\u001b[36mtorch\u001b[39;49;00m\u001b[04m\u001b[36m.\u001b[39;49;00m\u001b[04m\u001b[36mutils\u001b[39;49;00m\u001b[04m\u001b[36m.\u001b[39;49;00m\u001b[04m\u001b[36mdata\u001b[39;49;00m\r\n",
      "\r\n",
      "\u001b[34mfrom\u001b[39;49;00m \u001b[04m\u001b[36mmodel\u001b[39;49;00m \u001b[34mimport\u001b[39;49;00m LSTMClassifier\r\n",
      "\r\n",
      "\u001b[34mfrom\u001b[39;49;00m \u001b[04m\u001b[36mutils\u001b[39;49;00m \u001b[34mimport\u001b[39;49;00m review_to_words, convert_and_pad\r\n",
      "\r\n",
      "\u001b[34mdef\u001b[39;49;00m \u001b[32mmodel_fn\u001b[39;49;00m(model_dir):\r\n",
      "    \u001b[33m\"\"\"Load the PyTorch model from the `model_dir` directory.\"\"\"\u001b[39;49;00m\r\n",
      "    \u001b[36mprint\u001b[39;49;00m(\u001b[33m\"\u001b[39;49;00m\u001b[33mLoading model.\u001b[39;49;00m\u001b[33m\"\u001b[39;49;00m)\r\n",
      "\r\n",
      "    \u001b[37m# First, load the parameters used to create the model.\u001b[39;49;00m\r\n",
      "    model_info = {}\r\n",
      "    model_info_path = os.path.join(model_dir, \u001b[33m'\u001b[39;49;00m\u001b[33mmodel_info.pth\u001b[39;49;00m\u001b[33m'\u001b[39;49;00m)\r\n",
      "    \u001b[34mwith\u001b[39;49;00m \u001b[36mopen\u001b[39;49;00m(model_info_path, \u001b[33m'\u001b[39;49;00m\u001b[33mrb\u001b[39;49;00m\u001b[33m'\u001b[39;49;00m) \u001b[34mas\u001b[39;49;00m f:\r\n",
      "        model_info = torch.load(f)\r\n",
      "\r\n",
      "    \u001b[36mprint\u001b[39;49;00m(\u001b[33m\"\u001b[39;49;00m\u001b[33mmodel_info: \u001b[39;49;00m\u001b[33m{}\u001b[39;49;00m\u001b[33m\"\u001b[39;49;00m.format(model_info))\r\n",
      "\r\n",
      "    \u001b[37m# Determine the device and construct the model.\u001b[39;49;00m\r\n",
      "    device = torch.device(\u001b[33m\"\u001b[39;49;00m\u001b[33mcuda\u001b[39;49;00m\u001b[33m\"\u001b[39;49;00m \u001b[34mif\u001b[39;49;00m torch.cuda.is_available() \u001b[34melse\u001b[39;49;00m \u001b[33m\"\u001b[39;49;00m\u001b[33mcpu\u001b[39;49;00m\u001b[33m\"\u001b[39;49;00m)\r\n",
      "    model = LSTMClassifier(model_info[\u001b[33m'\u001b[39;49;00m\u001b[33membedding_dim\u001b[39;49;00m\u001b[33m'\u001b[39;49;00m], model_info[\u001b[33m'\u001b[39;49;00m\u001b[33mhidden_dim\u001b[39;49;00m\u001b[33m'\u001b[39;49;00m], model_info[\u001b[33m'\u001b[39;49;00m\u001b[33mvocab_size\u001b[39;49;00m\u001b[33m'\u001b[39;49;00m])\r\n",
      "\r\n",
      "    \u001b[37m# Load the store model parameters.\u001b[39;49;00m\r\n",
      "    model_path = os.path.join(model_dir, \u001b[33m'\u001b[39;49;00m\u001b[33mmodel.pth\u001b[39;49;00m\u001b[33m'\u001b[39;49;00m)\r\n",
      "    \u001b[34mwith\u001b[39;49;00m \u001b[36mopen\u001b[39;49;00m(model_path, \u001b[33m'\u001b[39;49;00m\u001b[33mrb\u001b[39;49;00m\u001b[33m'\u001b[39;49;00m) \u001b[34mas\u001b[39;49;00m f:\r\n",
      "        model.load_state_dict(torch.load(f))\r\n",
      "\r\n",
      "    \u001b[37m# Load the saved word_dict.\u001b[39;49;00m\r\n",
      "    word_dict_path = os.path.join(model_dir, \u001b[33m'\u001b[39;49;00m\u001b[33mword_dict.pkl\u001b[39;49;00m\u001b[33m'\u001b[39;49;00m)\r\n",
      "    \u001b[34mwith\u001b[39;49;00m \u001b[36mopen\u001b[39;49;00m(word_dict_path, \u001b[33m'\u001b[39;49;00m\u001b[33mrb\u001b[39;49;00m\u001b[33m'\u001b[39;49;00m) \u001b[34mas\u001b[39;49;00m f:\r\n",
      "        model.word_dict = pickle.load(f)\r\n",
      "\r\n",
      "    model.to(device).eval()\r\n",
      "\r\n",
      "    \u001b[36mprint\u001b[39;49;00m(\u001b[33m\"\u001b[39;49;00m\u001b[33mDone loading model.\u001b[39;49;00m\u001b[33m\"\u001b[39;49;00m)\r\n",
      "    \u001b[34mreturn\u001b[39;49;00m model\r\n",
      "\r\n",
      "\u001b[34mdef\u001b[39;49;00m \u001b[32minput_fn\u001b[39;49;00m(serialized_input_data, content_type):\r\n",
      "    \u001b[36mprint\u001b[39;49;00m(\u001b[33m'\u001b[39;49;00m\u001b[33mDeserializing the input data.\u001b[39;49;00m\u001b[33m'\u001b[39;49;00m)\r\n",
      "    \u001b[34mif\u001b[39;49;00m content_type == \u001b[33m'\u001b[39;49;00m\u001b[33mtext/plain\u001b[39;49;00m\u001b[33m'\u001b[39;49;00m:\r\n",
      "        data = serialized_input_data.decode(\u001b[33m'\u001b[39;49;00m\u001b[33mutf-8\u001b[39;49;00m\u001b[33m'\u001b[39;49;00m)\r\n",
      "        \u001b[34mreturn\u001b[39;49;00m data\r\n",
      "    \u001b[34mraise\u001b[39;49;00m \u001b[36mException\u001b[39;49;00m(\u001b[33m'\u001b[39;49;00m\u001b[33mRequested unsupported ContentType in content_type: \u001b[39;49;00m\u001b[33m'\u001b[39;49;00m + content_type)\r\n",
      "\r\n",
      "\u001b[34mdef\u001b[39;49;00m \u001b[32moutput_fn\u001b[39;49;00m(prediction_output, accept):\r\n",
      "    \u001b[36mprint\u001b[39;49;00m(\u001b[33m'\u001b[39;49;00m\u001b[33mSerializing the generated output.\u001b[39;49;00m\u001b[33m'\u001b[39;49;00m)\r\n",
      "    \u001b[34mreturn\u001b[39;49;00m \u001b[36mstr\u001b[39;49;00m(prediction_output)\r\n",
      "\r\n",
      "\u001b[34mdef\u001b[39;49;00m \u001b[32mpredict_fn\u001b[39;49;00m(input_data, model):\r\n",
      "    \u001b[36mprint\u001b[39;49;00m(\u001b[33m'\u001b[39;49;00m\u001b[33mInferring sentiment of input data.\u001b[39;49;00m\u001b[33m'\u001b[39;49;00m)\r\n",
      "\r\n",
      "    device = torch.device(\u001b[33m\"\u001b[39;49;00m\u001b[33mcuda\u001b[39;49;00m\u001b[33m\"\u001b[39;49;00m \u001b[34mif\u001b[39;49;00m torch.cuda.is_available() \u001b[34melse\u001b[39;49;00m \u001b[33m\"\u001b[39;49;00m\u001b[33mcpu\u001b[39;49;00m\u001b[33m\"\u001b[39;49;00m)\r\n",
      "    \r\n",
      "    \u001b[34mif\u001b[39;49;00m model.word_dict \u001b[35mis\u001b[39;49;00m \u001b[34mNone\u001b[39;49;00m:\r\n",
      "        \u001b[34mraise\u001b[39;49;00m \u001b[36mException\u001b[39;49;00m(\u001b[33m'\u001b[39;49;00m\u001b[33mModel has not been loaded properly, no word_dict.\u001b[39;49;00m\u001b[33m'\u001b[39;49;00m)\r\n",
      "    \r\n",
      "    \u001b[37m# TODO: Process input_data so that it is ready to be sent to our model.\u001b[39;49;00m\r\n",
      "    \u001b[37m#       You should produce two variables:\u001b[39;49;00m\r\n",
      "    \u001b[37m#         data_X   - A sequence of length 500 which represents the converted review\u001b[39;49;00m\r\n",
      "    \u001b[37m#         data_len - The length of the review\u001b[39;49;00m\r\n",
      "\r\n",
      "    cleaned_data = review_to_words(input_data)\r\n",
      "    data_X, data_len = convert_and_pad(model.word_dict, cleaned_data)\r\n",
      "\r\n",
      "    \u001b[37m# Using data_X and data_len we construct an appropriate input tensor. Remember\u001b[39;49;00m\r\n",
      "    \u001b[37m# that our model expects input data of the form 'len, review[500]'.\u001b[39;49;00m\r\n",
      "    data_pack = np.hstack((data_len, data_X))\r\n",
      "    data_pack = data_pack.reshape(\u001b[34m1\u001b[39;49;00m, -\u001b[34m1\u001b[39;49;00m)\r\n",
      "    \r\n",
      "    data = torch.from_numpy(data_pack)\r\n",
      "    data = data.to(device)\r\n",
      "\r\n",
      "    \u001b[37m# Make sure to put the model into evaluation mode\u001b[39;49;00m\r\n",
      "    model.eval()\r\n",
      "\r\n",
      "    \u001b[37m# TODO: Compute the result of applying the model to the input data. The variable `result` should\u001b[39;49;00m\r\n",
      "    \u001b[37m#       be a numpy array which contains a single integer which is either 1 or 0\u001b[39;49;00m\r\n",
      "\r\n",
      "    \u001b[34mwith\u001b[39;49;00m torch.no_grad():\r\n",
      "        output = model.forward(data)\r\n",
      "\r\n",
      "    result = np.round(output.numpy())\r\n",
      "\r\n",
      "    \u001b[34mreturn\u001b[39;49;00m result\r\n"
     ]
    }
   ],
   "source": [
    "!pygmentize serve/predict.py"
   ]
  },
  {
   "cell_type": "markdown",
   "metadata": {},
   "source": [
    "As mentioned earlier, the `model_fn` method is the same as the one provided in the training code and the `input_fn` and `output_fn` methods are very simple and your task will be to complete the `predict_fn` method. \n",
    "\n",
    "**Note**: Our model expects input data of the form 'len, review[500]'. So make sure you produce two variables from processing: \n",
    "- `data_X`:  A sequence of length 500 which represents the converted review\n",
    "- `data_len`: - The length of the review\n",
    "\n",
    "Make sure that you save the completed file as `predict.py` in the `serve` directory.\n",
    "\n",
    "**TODO**: Complete the `predict_fn()` method in the `serve/predict.py` file."
   ]
  },
  {
   "cell_type": "markdown",
   "metadata": {},
   "source": [
    "### Deploying the model\n",
    "\n",
    "Now that the custom inference code has been written, we will create and deploy our model. To begin with, we need to construct a new PyTorchModel object which points to the model artifacts created during training and also points to the inference code that we wish to use. Then we can call the deploy method to launch the deployment container.\n",
    "\n",
    "**NOTE**: The default behaviour for a deployed PyTorch model is to assume that any input passed to the predictor is a `numpy` array. In our case we want to send a string so we need to construct a simple wrapper around the `RealTimePredictor` class to accomodate simple strings. In a more complicated situation you may want to provide a serialization object, for example if you wanted to sent image data."
   ]
  },
  {
   "cell_type": "code",
   "execution_count": 40,
   "metadata": {},
   "outputs": [
    {
     "name": "stderr",
     "output_type": "stream",
     "text": [
      "Parameter image will be renamed to image_uri in SageMaker Python SDK v2.\n",
      "'create_image_uri' will be deprecated in favor of 'ImageURIProvider' class in SageMaker Python SDK v2.\n"
     ]
    },
    {
     "name": "stdout",
     "output_type": "stream",
     "text": [
      "-------!"
     ]
    }
   ],
   "source": [
    "from sagemaker.predictor import RealTimePredictor\n",
    "from sagemaker.pytorch import PyTorchModel\n",
    "\n",
    "class StringPredictor(RealTimePredictor):\n",
    "    def __init__(self, endpoint_name, sagemaker_session):\n",
    "        super(StringPredictor, self).__init__(endpoint_name, sagemaker_session, content_type='text/plain')\n",
    "\n",
    "model = PyTorchModel(model_data=estimator.model_data,\n",
    "                     role = role,\n",
    "                     framework_version='0.4.0',\n",
    "                     entry_point='predict.py',\n",
    "                     source_dir='serve',\n",
    "                     predictor_cls=StringPredictor)\n",
    "predictor = model.deploy(initial_instance_count=1, instance_type='ml.m4.xlarge')"
   ]
  },
  {
   "cell_type": "markdown",
   "metadata": {},
   "source": [
    "### Testing the model\n",
    "\n",
    "Now that we have deployed our model with the custom inference code, we should test to see if everything is working. Here we test our model by loading the first `250` positive and negative reviews and send them to the endpoint, then collect the results. The reason for only sending some of the data is that the amount of time it takes for our model to process the input and then perform inference is quite long and so testing the entire data set would be prohibitive."
   ]
  },
  {
   "cell_type": "code",
   "execution_count": 41,
   "metadata": {},
   "outputs": [],
   "source": [
    "import glob\n",
    "\n",
    "def test_reviews(data_dir='../data/aclImdb', stop=250):\n",
    "    \n",
    "    results = []\n",
    "    ground = []\n",
    "    \n",
    "    # We make sure to test both positive and negative reviews    \n",
    "    for sentiment in ['pos', 'neg']:\n",
    "        \n",
    "        path = os.path.join(data_dir, 'test', sentiment, '*.txt')\n",
    "        files = glob.glob(path)\n",
    "        \n",
    "        files_read = 0\n",
    "        \n",
    "        print('Starting ', sentiment, ' files')\n",
    "        \n",
    "        # Iterate through the files and send them to the predictor\n",
    "        for f in files:\n",
    "            with open(f) as review:\n",
    "                # First, we store the ground truth (was the review positive or negative)\n",
    "                if sentiment == 'pos':\n",
    "                    ground.append(1)\n",
    "                else:\n",
    "                    ground.append(0)\n",
    "                # Read in the review and convert to 'utf-8' for transmission via HTTP\n",
    "                review_input = review.read().encode('utf-8')\n",
    "                # Send the review to the predictor and store the results\n",
    "                results.append(float(predictor.predict(review_input)))\n",
    "                \n",
    "            # Sending reviews to our endpoint one at a time takes a while so we\n",
    "            # only send a small number of reviews\n",
    "            files_read += 1\n",
    "            if files_read == stop:\n",
    "                break\n",
    "            \n",
    "    return ground, results"
   ]
  },
  {
   "cell_type": "code",
   "execution_count": 42,
   "metadata": {},
   "outputs": [
    {
     "name": "stdout",
     "output_type": "stream",
     "text": [
      "Starting  pos  files\n",
      "Starting  neg  files\n"
     ]
    }
   ],
   "source": [
    "ground, results = test_reviews()"
   ]
  },
  {
   "cell_type": "code",
   "execution_count": 43,
   "metadata": {},
   "outputs": [
    {
     "data": {
      "text/plain": [
       "0.886"
      ]
     },
     "execution_count": 43,
     "metadata": {},
     "output_type": "execute_result"
    }
   ],
   "source": [
    "from sklearn.metrics import accuracy_score\n",
    "accuracy_score(ground, results)"
   ]
  },
  {
   "cell_type": "markdown",
   "metadata": {},
   "source": [
    "As an additional test, we can try sending the `test_review` that we looked at earlier."
   ]
  },
  {
   "cell_type": "code",
   "execution_count": 44,
   "metadata": {},
   "outputs": [
    {
     "data": {
      "text/plain": [
       "b'1.0'"
      ]
     },
     "execution_count": 44,
     "metadata": {},
     "output_type": "execute_result"
    }
   ],
   "source": [
    "predictor.predict(test_review)"
   ]
  },
  {
   "cell_type": "markdown",
   "metadata": {},
   "source": [
    "Now that we know our endpoint is working as expected, we can set up the web page that will interact with it. If you don't have time to finish the project now, make sure to skip down to the end of this notebook and shut down your endpoint. You can deploy it again when you come back."
   ]
  },
  {
   "cell_type": "markdown",
   "metadata": {},
   "source": [
    "## Step 7 (again): Use the model for the web app\n",
    "\n",
    "> **TODO:** This entire section and the next contain tasks for you to complete, mostly using the AWS console.\n",
    "\n",
    "So far we have been accessing our model endpoint by constructing a predictor object which uses the endpoint and then just using the predictor object to perform inference. What if we wanted to create a web app which accessed our model? The way things are set up currently makes that not possible since in order to access a SageMaker endpoint the app would first have to authenticate with AWS using an IAM role which included access to SageMaker endpoints. However, there is an easier way! We just need to use some additional AWS services.\n",
    "\n",
    "<img src=\"Web App Diagram.svg\">\n",
    "\n",
    "The diagram above gives an overview of how the various services will work together. On the far right is the model which we trained above and which is deployed using SageMaker. On the far left is our web app that collects a user's movie review, sends it off and expects a positive or negative sentiment in return.\n",
    "\n",
    "In the middle is where some of the magic happens. We will construct a Lambda function, which you can think of as a straightforward Python function that can be executed whenever a specified event occurs. We will give this function permission to send and recieve data from a SageMaker endpoint.\n",
    "\n",
    "Lastly, the method we will use to execute the Lambda function is a new endpoint that we will create using API Gateway. This endpoint will be a url that listens for data to be sent to it. Once it gets some data it will pass that data on to the Lambda function and then return whatever the Lambda function returns. Essentially it will act as an interface that lets our web app communicate with the Lambda function.\n",
    "\n",
    "### Setting up a Lambda function\n",
    "\n",
    "The first thing we are going to do is set up a Lambda function. This Lambda function will be executed whenever our public API has data sent to it. When it is executed it will receive the data, perform any sort of processing that is required, send the data (the review) to the SageMaker endpoint we've created and then return the result.\n",
    "\n",
    "#### Part A: Create an IAM Role for the Lambda function\n",
    "\n",
    "Since we want the Lambda function to call a SageMaker endpoint, we need to make sure that it has permission to do so. To do this, we will construct a role that we can later give the Lambda function.\n",
    "\n",
    "Using the AWS Console, navigate to the **IAM** page and click on **Roles**. Then, click on **Create role**. Make sure that the **AWS service** is the type of trusted entity selected and choose **Lambda** as the service that will use this role, then click **Next: Permissions**.\n",
    "\n",
    "In the search box type `sagemaker` and select the check box next to the **AmazonSageMakerFullAccess** policy. Then, click on **Next: Review**.\n",
    "\n",
    "Lastly, give this role a name. Make sure you use a name that you will remember later on, for example `LambdaSageMakerRole`. Then, click on **Create role**.\n",
    "\n",
    "#### Part B: Create a Lambda function\n",
    "\n",
    "Now it is time to actually create the Lambda function.\n",
    "\n",
    "Using the AWS Console, navigate to the AWS Lambda page and click on **Create a function**. When you get to the next page, make sure that **Author from scratch** is selected. Now, name your Lambda function, using a name that you will remember later on, for example `sentiment_analysis_func`. Make sure that the **Python 3.6** runtime is selected and then choose the role that you created in the previous part. Then, click on **Create Function**.\n",
    "\n",
    "On the next page you will see some information about the Lambda function you've just created. If you scroll down you should see an editor in which you can write the code that will be executed when your Lambda function is triggered. In our example, we will use the code below. \n",
    "\n",
    "```python\n",
    "# We need to use the low-level library to interact with SageMaker since the SageMaker API\n",
    "# is not available natively through Lambda.\n",
    "import boto3\n",
    "\n",
    "def lambda_handler(event, context):\n",
    "\n",
    "    # The SageMaker runtime is what allows us to invoke the endpoint that we've created.\n",
    "    runtime = boto3.Session().client('sagemaker-runtime')\n",
    "\n",
    "    # Now we use the SageMaker runtime to invoke our endpoint, sending the review we were given\n",
    "    response = runtime.invoke_endpoint(EndpointName = '**ENDPOINT NAME HERE**',    # The name of the endpoint we created\n",
    "                                       ContentType = 'text/plain',                 # The data format that is expected\n",
    "                                       Body = event['body'])                       # The actual review\n",
    "\n",
    "    # The response is an HTTP response whose body contains the result of our inference\n",
    "    result = response['Body'].read().decode('utf-8')\n",
    "\n",
    "    return {\n",
    "        'statusCode' : 200,\n",
    "        'headers' : { 'Content-Type' : 'text/plain', 'Access-Control-Allow-Origin' : '*' },\n",
    "        'body' : result\n",
    "    }\n",
    "```\n",
    "\n",
    "Once you have copy and pasted the code above into the Lambda code editor, replace the `**ENDPOINT NAME HERE**` portion with the name of the endpoint that we deployed earlier. You can determine the name of the endpoint using the code cell below."
   ]
  },
  {
   "cell_type": "code",
   "execution_count": 45,
   "metadata": {},
   "outputs": [
    {
     "data": {
      "text/plain": [
       "'sagemaker-pytorch-2021-12-11-01-08-30-055'"
      ]
     },
     "execution_count": 45,
     "metadata": {},
     "output_type": "execute_result"
    }
   ],
   "source": [
    "predictor.endpoint"
   ]
  },
  {
   "cell_type": "markdown",
   "metadata": {},
   "source": [
    "Once you have added the endpoint name to the Lambda function, click on **Save**. Your Lambda function is now up and running. Next we need to create a way for our web app to execute the Lambda function.\n",
    "\n",
    "### Setting up API Gateway\n",
    "\n",
    "Now that our Lambda function is set up, it is time to create a new API using API Gateway that will trigger the Lambda function we have just created.\n",
    "\n",
    "Using AWS Console, navigate to **Amazon API Gateway** and then click on **Get started**.\n",
    "\n",
    "On the next page, make sure that **New API** is selected and give the new api a name, for example, `sentiment_analysis_api`. Then, click on **Create API**.\n",
    "\n",
    "Now we have created an API, however it doesn't currently do anything. What we want it to do is to trigger the Lambda function that we created earlier.\n",
    "\n",
    "Select the **Actions** dropdown menu and click **Create Method**. A new blank method will be created, select its dropdown menu and select **POST**, then click on the check mark beside it.\n",
    "\n",
    "For the integration point, make sure that **Lambda Function** is selected and click on the **Use Lambda Proxy integration**. This option makes sure that the data that is sent to the API is then sent directly to the Lambda function with no processing. It also means that the return value must be a proper response object as it will also not be processed by API Gateway.\n",
    "\n",
    "Type the name of the Lambda function you created earlier into the **Lambda Function** text entry box and then click on **Save**. Click on **OK** in the pop-up box that then appears, giving permission to API Gateway to invoke the Lambda function you created.\n",
    "\n",
    "The last step in creating the API Gateway is to select the **Actions** dropdown and click on **Deploy API**. You will need to create a new Deployment stage and name it anything you like, for example `prod`.\n",
    "\n",
    "You have now successfully set up a public API to access your SageMaker model. Make sure to copy or write down the URL provided to invoke your newly created public API as this will be needed in the next step. This URL can be found at the top of the page, highlighted in blue next to the text **Invoke URL**."
   ]
  },
  {
   "cell_type": "markdown",
   "metadata": {},
   "source": [
    "## Step 4: Deploying our web app\n",
    "\n",
    "Now that we have a publicly available API, we can start using it in a web app. For our purposes, we have provided a simple static html file which can make use of the public api you created earlier.\n",
    "\n",
    "In the `website` folder there should be a file called `index.html`. Download the file to your computer and open that file up in a text editor of your choice. There should be a line which contains **\\*\\*REPLACE WITH PUBLIC API URL\\*\\***. Replace this string with the url that you wrote down in the last step and then save the file.\n",
    "\n",
    "Now, if you open `index.html` on your local computer, your browser will behave as a local web server and you can use the provided site to interact with your SageMaker model.\n",
    "\n",
    "If you'd like to go further, you can host this html file anywhere you'd like, for example using github or hosting a static site on Amazon's S3. Once you have done this you can share the link with anyone you'd like and have them play with it too!\n",
    "\n",
    "> **Important Note** In order for the web app to communicate with the SageMaker endpoint, the endpoint has to actually be deployed and running. This means that you are paying for it. Make sure that the endpoint is running when you want to use the web app but that you shut it down when you don't need it, otherwise you will end up with a surprisingly large AWS bill.\n",
    "\n",
    "**TODO:** Make sure that you include the edited `index.html` file in your project submission."
   ]
  },
  {
   "cell_type": "markdown",
   "metadata": {},
   "source": [
    "Now that your web app is working, trying playing around with it and see how well it works.\n",
    "\n",
    "**Question**: Post a screenshot showing a sample review that you entered into your web app and the predicted sentiment. What was the predicted sentiment of your example review?"
   ]
  },
  {
   "cell_type": "markdown",
   "metadata": {},
   "source": [
    "**Screenshot:**\n",
    "\n",
    "\n",
    "\n",
    "**Answer:**\n",
    "\n",
    "CRITIC REVIEWS FOR SPIDER-MAN: INTO THE SPIDER-VERSE was collected from Rotten Tomatoes. \"The vibrant, varied, and hectic animation is remarkable yet bombastic, leaving little opportunity for surprise and implying exertion rather than inspiration.\" The mood had been predicted to be pleasant."
   ]
  },
  {
   "cell_type": "markdown",
   "metadata": {},
   "source": [
    "### Delete the endpoint\n",
    "\n",
    "Remember to always shut down your endpoint if you are no longer using it. You are charged for the length of time that the endpoint is running so if you forget and leave it on you could end up with an unexpectedly large bill."
   ]
  },
  {
   "cell_type": "code",
   "execution_count": null,
   "metadata": {},
   "outputs": [],
   "source": [
    "predictor.delete_endpoint()"
   ]
  },
  {
   "cell_type": "code",
   "execution_count": null,
   "metadata": {},
   "outputs": [],
   "source": []
  }
 ],
 "metadata": {
  "kernelspec": {
   "display_name": "conda_pytorch_p36",
   "language": "python",
   "name": "conda_pytorch_p36"
  },
  "language_info": {
   "codemirror_mode": {
    "name": "ipython",
    "version": 3
   },
   "file_extension": ".py",
   "mimetype": "text/x-python",
   "name": "python",
   "nbconvert_exporter": "python",
   "pygments_lexer": "ipython3",
   "version": "3.6.13"
  }
 },
 "nbformat": 4,
 "nbformat_minor": 4
}
